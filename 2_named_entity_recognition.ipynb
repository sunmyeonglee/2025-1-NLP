{
  "cells": [
    {
      "cell_type": "markdown",
      "metadata": {
        "id": "view-in-github",
        "colab_type": "text"
      },
      "source": [
        "<a href=\"https://colab.research.google.com/github/sunmyeonglee/2025-1-NLP/blob/main/2_named_entity_recognition.ipynb\" target=\"_parent\"><img src=\"https://colab.research.google.com/assets/colab-badge.svg\" alt=\"Open In Colab\"/></a>"
      ]
    },
    {
      "cell_type": "markdown",
      "metadata": {
        "id": "45a2da87"
      },
      "source": [
        "# Named Entity Recognition\n",
        "- For a given word and its context window, estimate whether the given word is location or not"
      ]
    },
    {
      "cell_type": "markdown",
      "metadata": {
        "id": "d9VN9TB17Z-U"
      },
      "source": [
        "## Introduction to Named Entity Recognition (NER)\n",
        "\n",
        "Named Entity Recognition is a subtask of Natural Language Processing (NLP) that focuses on identifying and categorizing named entities in text. Named entities are real-world objects such as people, organizations, locations, dates, etc. that can be denoted with a proper name.\n",
        "\n",
        "In this notebook, we'll focus on a binary classification task: determining whether a word represents an organization or not based on its surrounding context.\n",
        "\n",
        "We'll go through the following steps:\n",
        "1. Download and explore the CoNLL2003 dataset\n",
        "2. Preprocess the data and create context windows\n",
        "3. Convert words to vectors using pre-trained word embeddings\n",
        "4. Build and train a neural network classifier\n",
        "5. Evaluate the model on test data\n",
        "6. Use the model for inference"
      ]
    },
    {
      "cell_type": "markdown",
      "metadata": {
        "id": "11619f5d"
      },
      "source": [
        "# 1. Download dataset\n",
        "- CoNLL2003"
      ]
    },
    {
      "cell_type": "markdown",
      "metadata": {
        "id": "wzOblyOl7Z-V"
      },
      "source": [
        "The CoNLL2003 dataset is a widely used benchmark for NER tasks. It contains news articles with manually annotated named entities. Each word is labeled with its entity type (if any): person (PER), location (LOC), organization (ORG), or miscellaneous (MISC).\n",
        "\n",
        "Let's download the dataset and extract it."
      ]
    },
    {
      "cell_type": "code",
      "source": [
        "!pip install gensim"
      ],
      "metadata": {
        "colab": {
          "base_uri": "https://localhost:8080/"
        },
        "id": "SiRIVGcBt7l1",
        "outputId": "83b030d8-bd78-41de-a439-893dcdce414c"
      },
      "execution_count": 1,
      "outputs": [
        {
          "output_type": "stream",
          "name": "stdout",
          "text": [
            "Collecting gensim\n",
            "  Downloading gensim-4.3.3-cp311-cp311-manylinux_2_17_x86_64.manylinux2014_x86_64.whl.metadata (8.1 kB)\n",
            "Collecting numpy<2.0,>=1.18.5 (from gensim)\n",
            "  Downloading numpy-1.26.4-cp311-cp311-manylinux_2_17_x86_64.manylinux2014_x86_64.whl.metadata (61 kB)\n",
            "\u001b[2K     \u001b[90m━━━━━━━━━━━━━━━━━━━━━━━━━━━━━━━━━━━━━━━━\u001b[0m \u001b[32m61.0/61.0 kB\u001b[0m \u001b[31m1.3 MB/s\u001b[0m eta \u001b[36m0:00:00\u001b[0m\n",
            "\u001b[?25hCollecting scipy<1.14.0,>=1.7.0 (from gensim)\n",
            "  Downloading scipy-1.13.1-cp311-cp311-manylinux_2_17_x86_64.manylinux2014_x86_64.whl.metadata (60 kB)\n",
            "\u001b[2K     \u001b[90m━━━━━━━━━━━━━━━━━━━━━━━━━━━━━━━━━━━━━━━━\u001b[0m \u001b[32m60.6/60.6 kB\u001b[0m \u001b[31m1.8 MB/s\u001b[0m eta \u001b[36m0:00:00\u001b[0m\n",
            "\u001b[?25hRequirement already satisfied: smart-open>=1.8.1 in /usr/local/lib/python3.11/dist-packages (from gensim) (7.1.0)\n",
            "Requirement already satisfied: wrapt in /usr/local/lib/python3.11/dist-packages (from smart-open>=1.8.1->gensim) (1.17.2)\n",
            "Downloading gensim-4.3.3-cp311-cp311-manylinux_2_17_x86_64.manylinux2014_x86_64.whl (26.7 MB)\n",
            "\u001b[2K   \u001b[90m━━━━━━━━━━━━━━━━━━━━━━━━━━━━━━━━━━━━━━━━\u001b[0m \u001b[32m26.7/26.7 MB\u001b[0m \u001b[31m23.6 MB/s\u001b[0m eta \u001b[36m0:00:00\u001b[0m\n",
            "\u001b[?25hDownloading numpy-1.26.4-cp311-cp311-manylinux_2_17_x86_64.manylinux2014_x86_64.whl (18.3 MB)\n",
            "\u001b[2K   \u001b[90m━━━━━━━━━━━━━━━━━━━━━━━━━━━━━━━━━━━━━━━━\u001b[0m \u001b[32m18.3/18.3 MB\u001b[0m \u001b[31m37.3 MB/s\u001b[0m eta \u001b[36m0:00:00\u001b[0m\n",
            "\u001b[?25hDownloading scipy-1.13.1-cp311-cp311-manylinux_2_17_x86_64.manylinux2014_x86_64.whl (38.6 MB)\n",
            "\u001b[2K   \u001b[90m━━━━━━━━━━━━━━━━━━━━━━━━━━━━━━━━━━━━━━━━\u001b[0m \u001b[32m38.6/38.6 MB\u001b[0m \u001b[31m13.5 MB/s\u001b[0m eta \u001b[36m0:00:00\u001b[0m\n",
            "\u001b[?25hInstalling collected packages: numpy, scipy, gensim\n",
            "  Attempting uninstall: numpy\n",
            "    Found existing installation: numpy 2.0.2\n",
            "    Uninstalling numpy-2.0.2:\n",
            "      Successfully uninstalled numpy-2.0.2\n",
            "  Attempting uninstall: scipy\n",
            "    Found existing installation: scipy 1.14.1\n",
            "    Uninstalling scipy-1.14.1:\n",
            "      Successfully uninstalled scipy-1.14.1\n",
            "Successfully installed gensim-4.3.3 numpy-1.26.4 scipy-1.13.1\n"
          ]
        }
      ]
    },
    {
      "cell_type": "code",
      "execution_count": 1,
      "metadata": {
        "id": "10a4faa3",
        "colab": {
          "base_uri": "https://localhost:8080/"
        },
        "outputId": "f83beeef-da8b-47a4-d8bd-1a97f6a0e511"
      },
      "outputs": [
        {
          "output_type": "stream",
          "name": "stdout",
          "text": [
            "--2025-04-10 05:19:04--  https://data.deepai.org/conll2003.zip\n",
            "Resolving data.deepai.org (data.deepai.org)... 143.244.50.90, 2400:52e0:1a01::954:1\n",
            "Connecting to data.deepai.org (data.deepai.org)|143.244.50.90|:443... connected.\n",
            "HTTP request sent, awaiting response... 200 OK\n",
            "Length: 982975 (960K) [application/zip]\n",
            "Saving to: ‘conll2003.zip’\n",
            "\n",
            "\rconll2003.zip         0%[                    ]       0  --.-KB/s               \rconll2003.zip       100%[===================>] 959.94K  5.51MB/s    in 0.2s    \n",
            "\n",
            "2025-04-10 05:19:04 (5.51 MB/s) - ‘conll2003.zip’ saved [982975/982975]\n",
            "\n",
            "Archive:  conll2003.zip\n",
            "  inflating: metadata                \n",
            "  inflating: test.txt                \n",
            "  inflating: train.txt               \n",
            "  inflating: valid.txt               \n"
          ]
        }
      ],
      "source": [
        "!wget https://data.deepai.org/conll2003.zip # Download dataset\n",
        "!unzip conll2003.zip # Unzip dataset zip"
      ]
    },
    {
      "cell_type": "markdown",
      "metadata": {
        "id": "7643dde5"
      },
      "source": [
        "## 2. Preprocess Dataset"
      ]
    },
    {
      "cell_type": "markdown",
      "metadata": {
        "id": "XqbmxSb47Z-V"
      },
      "source": [
        "Now that we have the dataset, let's first take a look at its structure. Each line in the dataset contains a word followed by its part-of-speech tag, syntactic chunk tag, and named entity tag. We'll focus on the words and their named entity tags."
      ]
    },
    {
      "cell_type": "code",
      "execution_count": 2,
      "metadata": {
        "id": "d31874b2",
        "colab": {
          "base_uri": "https://localhost:8080/"
        },
        "outputId": "f418ec0c-064f-49df-b976-ecf6647e804a"
      },
      "outputs": [
        {
          "output_type": "execute_result",
          "data": {
            "text/plain": [
              "['-DOCSTART- -X- -X- O',\n",
              " '',\n",
              " 'EU NNP B-NP B-ORG',\n",
              " 'rejects VBZ B-VP O',\n",
              " 'German JJ B-NP B-MISC',\n",
              " 'call NN I-NP O',\n",
              " 'to TO B-VP O',\n",
              " 'boycott VB I-VP O',\n",
              " 'British JJ B-NP B-MISC',\n",
              " 'lamb NN I-NP O',\n",
              " '. . O O',\n",
              " '',\n",
              " 'Peter NNP B-NP B-PER',\n",
              " 'Blackburn NNP I-NP I-PER',\n",
              " '',\n",
              " 'BRUSSELS NNP B-NP B-LOC',\n",
              " '1996-08-22 CD I-NP O',\n",
              " '',\n",
              " 'The DT B-NP O',\n",
              " 'European NNP I-NP B-ORG',\n",
              " 'Commission NNP I-NP I-ORG',\n",
              " 'said VBD B-VP O',\n",
              " 'on IN B-PP O',\n",
              " 'Thursday NNP B-NP O',\n",
              " 'it PRP B-NP O',\n",
              " 'disagreed VBD B-VP O',\n",
              " 'with IN B-PP O',\n",
              " 'German JJ B-NP B-MISC',\n",
              " 'advice NN I-NP O',\n",
              " 'to TO B-PP O',\n",
              " 'consumers NNS B-NP O',\n",
              " 'to TO B-VP O',\n",
              " 'shun VB I-VP O',\n",
              " 'British JJ B-NP B-MISC',\n",
              " 'lamb NN I-NP O',\n",
              " 'until IN B-SBAR O',\n",
              " 'scientists NNS B-NP O',\n",
              " 'determine VBP B-VP O',\n",
              " 'whether IN B-SBAR O',\n",
              " 'mad JJ B-NP O',\n",
              " 'cow NN I-NP O',\n",
              " 'disease NN I-NP O',\n",
              " 'can MD B-VP O',\n",
              " 'be VB I-VP O',\n",
              " 'transmitted VBN I-VP O',\n",
              " 'to TO B-PP O',\n",
              " 'sheep NN B-NP O',\n",
              " '. . O O',\n",
              " '',\n",
              " 'Germany NNP B-NP B-LOC',\n",
              " \"'s POS B-NP O\",\n",
              " 'representative NN I-NP O',\n",
              " 'to TO B-PP O',\n",
              " 'the DT B-NP O',\n",
              " 'European NNP I-NP B-ORG',\n",
              " 'Union NNP I-NP I-ORG',\n",
              " \"'s POS B-NP O\",\n",
              " 'veterinary JJ I-NP O',\n",
              " 'committee NN I-NP O',\n",
              " 'Werner NNP I-NP B-PER',\n",
              " 'Zwingmann NNP I-NP I-PER',\n",
              " 'said VBD B-VP O',\n",
              " 'on IN B-PP O',\n",
              " 'Wednesday NNP B-NP O',\n",
              " 'consumers NNS I-NP O',\n",
              " 'should MD B-VP O',\n",
              " 'buy VB I-VP O',\n",
              " 'sheepmeat NN B-NP O',\n",
              " 'from IN B-PP O',\n",
              " 'countries NNS B-NP O']"
            ]
          },
          "metadata": {},
          "execution_count": 2
        }
      ],
      "source": [
        "with open(\"train.txt\") as f:\n",
        "  string = ''.join(f.readlines())\n",
        "dataset = string.split('\\n')\n",
        "\n",
        "dataset[:70]  # Display the first 70 lines of the dataset"
      ]
    },
    {
      "cell_type": "markdown",
      "metadata": {
        "id": "ksflfQCc7Z-W"
      },
      "source": [
        "### 2.1 Organizing Text into Sentences\n",
        "\n",
        "The dataset contains sentences separated by empty lines. We'll group the words into sentences to maintain the context for each word. The `groupby` function from `itertools` helps us split the data based on empty lines."
      ]
    },
    {
      "cell_type": "code",
      "execution_count": 3,
      "metadata": {
        "id": "49e7f34b",
        "scrolled": true,
        "colab": {
          "base_uri": "https://localhost:8080/"
        },
        "outputId": "4983a142-1983-4566-ebac-f77e2cef0550"
      },
      "outputs": [
        {
          "output_type": "execute_result",
          "data": {
            "text/plain": [
              "[['-DOCSTART- -X- -X- O'],\n",
              " ['EU NNP B-NP B-ORG',\n",
              "  'rejects VBZ B-VP O',\n",
              "  'German JJ B-NP B-MISC',\n",
              "  'call NN I-NP O',\n",
              "  'to TO B-VP O',\n",
              "  'boycott VB I-VP O',\n",
              "  'British JJ B-NP B-MISC',\n",
              "  'lamb NN I-NP O',\n",
              "  '. . O O'],\n",
              " ['Peter NNP B-NP B-PER', 'Blackburn NNP I-NP I-PER'],\n",
              " ['BRUSSELS NNP B-NP B-LOC', '1996-08-22 CD I-NP O'],\n",
              " ['The DT B-NP O',\n",
              "  'European NNP I-NP B-ORG',\n",
              "  'Commission NNP I-NP I-ORG',\n",
              "  'said VBD B-VP O',\n",
              "  'on IN B-PP O',\n",
              "  'Thursday NNP B-NP O',\n",
              "  'it PRP B-NP O',\n",
              "  'disagreed VBD B-VP O',\n",
              "  'with IN B-PP O',\n",
              "  'German JJ B-NP B-MISC',\n",
              "  'advice NN I-NP O',\n",
              "  'to TO B-PP O',\n",
              "  'consumers NNS B-NP O',\n",
              "  'to TO B-VP O',\n",
              "  'shun VB I-VP O',\n",
              "  'British JJ B-NP B-MISC',\n",
              "  'lamb NN I-NP O',\n",
              "  'until IN B-SBAR O',\n",
              "  'scientists NNS B-NP O',\n",
              "  'determine VBP B-VP O',\n",
              "  'whether IN B-SBAR O',\n",
              "  'mad JJ B-NP O',\n",
              "  'cow NN I-NP O',\n",
              "  'disease NN I-NP O',\n",
              "  'can MD B-VP O',\n",
              "  'be VB I-VP O',\n",
              "  'transmitted VBN I-VP O',\n",
              "  'to TO B-PP O',\n",
              "  'sheep NN B-NP O',\n",
              "  '. . O O']]"
            ]
          },
          "metadata": {},
          "execution_count": 3
        }
      ],
      "source": [
        "from itertools import groupby\n",
        "\n",
        "dataset_in_sentence = [list(group) for k, group in groupby(dataset, lambda x: x == \"\") if not k]\n",
        "dataset_in_sentence[:5]  # Display the first 5 sentences"
      ]
    },
    {
      "cell_type": "markdown",
      "metadata": {
        "id": "7UzJBJd47Z-W"
      },
      "source": [
        "### 2.2 Filtering Short Sentences\n",
        "\n",
        "Some sentences in the dataset might be too short for our context window approach. Let's filter out sentences that have fewer than 6 words."
      ]
    },
    {
      "cell_type": "code",
      "execution_count": 4,
      "metadata": {
        "id": "65c3dfa8",
        "colab": {
          "base_uri": "https://localhost:8080/"
        },
        "outputId": "11bc41c6-8b3b-4a2b-ca6b-7d863af2ee4d"
      },
      "outputs": [
        {
          "output_type": "execute_result",
          "data": {
            "text/plain": [
              "10625"
            ]
          },
          "metadata": {},
          "execution_count": 4
        }
      ],
      "source": [
        "# Filter out sentences that are too short for our context window approach\n",
        "filtered_dataset = [sentence for sentence in dataset_in_sentence if len(sentence) > 5]\n",
        "len(filtered_dataset)  # Number of sentences after filtering"
      ]
    },
    {
      "cell_type": "code",
      "execution_count": 5,
      "metadata": {
        "id": "byACWZiOjr3l",
        "colab": {
          "base_uri": "https://localhost:8080/"
        },
        "outputId": "a0af18b6-205e-474c-f93d-2abca03d6190"
      },
      "outputs": [
        {
          "output_type": "execute_result",
          "data": {
            "text/plain": [
              "['\" \" O O',\n",
              " 'I PRP B-NP O',\n",
              " 'think VBP B-VP O',\n",
              " 'this DT B-NP O',\n",
              " 'is VBZ B-VP O',\n",
              " 'a DT B-NP O',\n",
              " 'bad JJ I-NP O',\n",
              " 'beginning NN I-NP O',\n",
              " '. . O O']"
            ]
          },
          "metadata": {},
          "execution_count": 5
        }
      ],
      "source": [
        "# Check an example sentence\n",
        "filtered_dataset[1000]"
      ]
    },
    {
      "cell_type": "markdown",
      "metadata": {
        "id": "BfPjb0sr7Z-W"
      },
      "source": [
        "### 2.3 Creating Context Windows\n",
        "\n",
        "For each word in a sentence, we'll create a context window that includes the target word and its surrounding words. This context will help our model determine whether a word represents an organization.\n",
        "\n",
        "Let's define a window length and see how the context window looks for each word in a sentence."
      ]
    },
    {
      "cell_type": "code",
      "execution_count": 6,
      "metadata": {
        "id": "a1a1714b",
        "colab": {
          "base_uri": "https://localhost:8080/"
        },
        "outputId": "536b580c-a8c9-49d0-df99-8cfbc6c3ebc4"
      },
      "outputs": [
        {
          "output_type": "stream",
          "name": "stdout",
          "text": [
            "word is EU NNP B-NP B-ORG\n",
            "splitted_word is ['EU', 'NNP', 'B-NP', 'B-ORG']\n",
            "EU B-ORG\n",
            "is organization: True\n",
            "prev_words is []\n",
            "next_words is ['rejects', 'German']\n",
            "concatenated_words is ['<pad>', '<pad>', 'EU', 'rejects', 'German']\n",
            "--------------------------------\n",
            "word is rejects VBZ B-VP O\n",
            "splitted_word is ['rejects', 'VBZ', 'B-VP', 'O']\n",
            "rejects O\n",
            "is organization: False\n",
            "prev_words is ['EU']\n",
            "next_words is ['German', 'call']\n",
            "concatenated_words is ['<pad>', 'EU', 'rejects', 'German', 'call']\n",
            "--------------------------------\n",
            "word is German JJ B-NP B-MISC\n",
            "splitted_word is ['German', 'JJ', 'B-NP', 'B-MISC']\n",
            "German B-MISC\n",
            "is organization: False\n",
            "prev_words is ['EU', 'rejects']\n",
            "next_words is ['call', 'to']\n",
            "concatenated_words is ['EU', 'rejects', 'German', 'call', 'to']\n",
            "--------------------------------\n",
            "word is call NN I-NP O\n",
            "splitted_word is ['call', 'NN', 'I-NP', 'O']\n",
            "call O\n",
            "is organization: False\n",
            "prev_words is ['rejects', 'German']\n",
            "next_words is ['to', 'boycott']\n",
            "concatenated_words is ['rejects', 'German', 'call', 'to', 'boycott']\n",
            "--------------------------------\n",
            "word is to TO B-VP O\n",
            "splitted_word is ['to', 'TO', 'B-VP', 'O']\n",
            "to O\n",
            "is organization: False\n",
            "prev_words is ['German', 'call']\n",
            "next_words is ['boycott', 'British']\n",
            "concatenated_words is ['German', 'call', 'to', 'boycott', 'British']\n",
            "--------------------------------\n",
            "word is boycott VB I-VP O\n",
            "splitted_word is ['boycott', 'VB', 'I-VP', 'O']\n",
            "boycott O\n",
            "is organization: False\n",
            "prev_words is ['call', 'to']\n",
            "next_words is ['British', 'lamb']\n",
            "concatenated_words is ['call', 'to', 'boycott', 'British', 'lamb']\n",
            "--------------------------------\n",
            "word is British JJ B-NP B-MISC\n",
            "splitted_word is ['British', 'JJ', 'B-NP', 'B-MISC']\n",
            "British B-MISC\n",
            "is organization: False\n",
            "prev_words is ['to', 'boycott']\n",
            "next_words is ['lamb', '.']\n",
            "concatenated_words is ['to', 'boycott', 'British', 'lamb', '.']\n",
            "--------------------------------\n",
            "word is lamb NN I-NP O\n",
            "splitted_word is ['lamb', 'NN', 'I-NP', 'O']\n",
            "lamb O\n",
            "is organization: False\n",
            "prev_words is ['boycott', 'British']\n",
            "next_words is ['.']\n",
            "concatenated_words is ['boycott', 'British', 'lamb', '.', '<pad>']\n",
            "--------------------------------\n",
            "word is . . O O\n",
            "splitted_word is ['.', '.', 'O', 'O']\n",
            ". O\n",
            "is organization: False\n",
            "prev_words is ['British', 'lamb']\n",
            "next_words is []\n",
            "concatenated_words is ['British', 'lamb', '.', '<pad>', '<pad>']\n",
            "--------------------------------\n"
          ]
        }
      ],
      "source": [
        "window_len = 2  # Number of words to consider on each side of the target word\n",
        "sentence = filtered_dataset[0]  # Example sentence\n",
        "\n",
        "for i, word in enumerate(sentence):\n",
        "  print(f'word is {word}')\n",
        "  splitted_word = word.split(' ')\n",
        "  print(f'splitted_word is {splitted_word}')\n",
        "  center_word = splitted_word[0]        # The actual word\n",
        "  label = splitted_word[-1]             # The entity tag (O, B-ORG, I-ORG, etc.)\n",
        "  print(center_word, label)\n",
        "  is_organization = label in ['B-ORG', 'I-ORG']  # Binary label: is this an organization?\n",
        "  print(f\"is organization: {is_organization}\")\n",
        "\n",
        "  # Collecting words to the left of the target word\n",
        "  prev_index = max(i - window_len, 0)  # Prevent negative indices\n",
        "  prev_words = sentence[prev_index:i]\n",
        "  prev_words = [word_str.split(' ')[0] for word_str in prev_words]  # Extract just the words\n",
        "\n",
        "  # Collecting words to the right of the target word\n",
        "  next_index = i + window_len + 1\n",
        "  next_words = sentence[i+1:next_index]\n",
        "  next_words = [word_str.split(' ')[0] for word_str in next_words]\n",
        "\n",
        "  print(f\"prev_words is {prev_words}\")\n",
        "  print(f\"next_words is {next_words}\")\n",
        "\n",
        "  # Add padding if there aren't enough words on either side\n",
        "  if len(prev_words) != window_len:\n",
        "    prev_words = ['<pad>'] * (window_len - len(prev_words)) + prev_words\n",
        "\n",
        "  if len(next_words) != window_len:\n",
        "    next_words = next_words + ['<pad>'] * (window_len - len(next_words))\n",
        "\n",
        "  # The final context window: previous words + target word + next words\n",
        "  concatenated_words = prev_words + [center_word] + next_words\n",
        "  print(f\"concatenated_words is {concatenated_words}\")\n",
        "  print(\"--------------------------------\")"
      ]
    },
    {
      "cell_type": "markdown",
      "metadata": {
        "id": "bNjz9IRP7Z-X"
      },
      "source": [
        "### 2.4 Creating Context Windows for All Sentences\n",
        "\n",
        "Now, let's create a function to generate context windows for all words in a sentence, and apply it to our entire dataset."
      ]
    },
    {
      "cell_type": "code",
      "execution_count": 7,
      "metadata": {
        "id": "z1WVzcMGlZoh",
        "colab": {
          "base_uri": "https://localhost:8080/"
        },
        "outputId": "c358cfa4-368d-4ed5-f28d-7827048b9ad4"
      },
      "outputs": [
        {
          "output_type": "execute_result",
          "data": {
            "text/plain": [
              "[(['<pad>', '<pad>', 'EU', 'rejects', 'German'], True),\n",
              " (['<pad>', 'EU', 'rejects', 'German', 'call'], False),\n",
              " (['EU', 'rejects', 'German', 'call', 'to'], False),\n",
              " (['rejects', 'German', 'call', 'to', 'boycott'], False),\n",
              " (['German', 'call', 'to', 'boycott', 'British'], False),\n",
              " (['call', 'to', 'boycott', 'British', 'lamb'], False),\n",
              " (['to', 'boycott', 'British', 'lamb', '.'], False),\n",
              " (['boycott', 'British', 'lamb', '.', '<pad>'], False),\n",
              " (['British', 'lamb', '.', '<pad>', '<pad>'], False)]"
            ]
          },
          "metadata": {},
          "execution_count": 7
        }
      ],
      "source": [
        "def make_window_words_and_label_from_sentence(sentence):\n",
        "  total_output = []\n",
        "  for i, word in enumerate(sentence):\n",
        "    splitted_word = word.split(' ')\n",
        "    center_word = splitted_word[0]\n",
        "    label = splitted_word[-1]\n",
        "    is_organization = label in ['B-ORG', 'I-ORG']\n",
        "\n",
        "    # Concatenating with neighboring words\n",
        "    # Words to the left\n",
        "    prev_index = max(i - window_len, 0)  # Clipping minimum to zero\n",
        "    prev_words = sentence[prev_index:i]\n",
        "    prev_words = [word_str.split(' ')[0] for word_str in prev_words]  # Collect the main word\n",
        "\n",
        "    # Words to the right\n",
        "    next_index = i + window_len + 1\n",
        "    next_words = sentence[i+1:next_index]\n",
        "    next_words = [word_str.split(' ')[0] for word_str in next_words]\n",
        "\n",
        "    # Add padding if needed\n",
        "    if len(prev_words) != window_len:\n",
        "      prev_words = ['<pad>'] * (window_len - len(prev_words)) + prev_words\n",
        "\n",
        "    if len(next_words) != window_len:\n",
        "      next_words = next_words + ['<pad>'] * (window_len - len(next_words))\n",
        "\n",
        "    concatenated_words = prev_words + [center_word] + next_words\n",
        "    total_output.append((concatenated_words, is_organization))\n",
        "  return total_output\n",
        "\n",
        "# Test the function on our example sentence\n",
        "make_window_words_and_label_from_sentence(sentence)"
      ]
    },
    {
      "cell_type": "markdown",
      "metadata": {
        "id": "SZyER4rt7Z-X"
      },
      "source": [
        "### 2.5 Processing the Entire Dataset\n",
        "\n",
        "Now let's apply this function to all sentences in our dataset and flatten the result to get a list of (context_window, label) pairs."
      ]
    },
    {
      "cell_type": "code",
      "execution_count": 8,
      "metadata": {
        "id": "Ddb7t7PEmHfS"
      },
      "outputs": [],
      "source": [
        "# Process all sentences and flatten the result\n",
        "entire_dataset = [make_window_words_and_label_from_sentence(sentence) for sentence in filtered_dataset]\n",
        "# Flatten the nested list\n",
        "entire_dataset = [windowed_word for sentence in entire_dataset for windowed_word in sentence]"
      ]
    },
    {
      "cell_type": "code",
      "execution_count": 9,
      "metadata": {
        "id": "gmQSEfE0mcOc",
        "colab": {
          "base_uri": "https://localhost:8080/"
        },
        "outputId": "ad615750-bef3-4293-a3f5-e39ac929e7eb"
      },
      "outputs": [
        {
          "output_type": "execute_result",
          "data": {
            "text/plain": [
              "192587"
            ]
          },
          "metadata": {},
          "execution_count": 9
        }
      ],
      "source": [
        "len(entire_dataset)  # Total number of words with context windows"
      ]
    },
    {
      "cell_type": "code",
      "execution_count": 10,
      "metadata": {
        "id": "baTBawNXmg-s",
        "colab": {
          "base_uri": "https://localhost:8080/"
        },
        "outputId": "a20f93cd-3104-4061-bf2a-c9d17d955f86"
      },
      "outputs": [
        {
          "output_type": "execute_result",
          "data": {
            "text/plain": [
              "(['eight', 'in', 'a', 'row', ','], False)"
            ]
          },
          "metadata": {},
          "execution_count": 10
        }
      ],
      "source": [
        "entire_dataset[10000]  # Example of a (context_window, label) pair"
      ]
    },
    {
      "cell_type": "markdown",
      "metadata": {
        "id": "VO2eMP4Y7Z-X"
      },
      "source": [
        "## 3. Word Embeddings\n",
        "\n",
        "To feed our text data into a neural network, we need to convert words into numerical vectors. We'll use pre-trained GloVe word embeddings, which capture semantic relationships between words based on their co-occurrence in a large corpus."
      ]
    },
    {
      "cell_type": "code",
      "execution_count": 11,
      "metadata": {
        "id": "hPO83i3UKV8C",
        "colab": {
          "base_uri": "https://localhost:8080/"
        },
        "outputId": "09888f42-f70f-4edd-a891-43911173a4ea"
      },
      "outputs": [
        {
          "output_type": "stream",
          "name": "stdout",
          "text": [
            "[==================================================] 100.0% 376.1/376.1MB downloaded\n"
          ]
        }
      ],
      "source": [
        "import gensim.downloader\n",
        "\n",
        "# Load pre-trained GloVe word embeddings (300-dimensional vectors)\n",
        "wrd2vec = gensim.downloader.load(\"glove-wiki-gigaword-300\")"
      ]
    },
    {
      "cell_type": "code",
      "execution_count": 12,
      "metadata": {
        "id": "BtVJXmXnLoN8",
        "colab": {
          "base_uri": "https://localhost:8080/"
        },
        "outputId": "0a3c4fb7-b636-4a40-de22-ded5419b8456"
      },
      "outputs": [
        {
          "output_type": "execute_result",
          "data": {
            "text/plain": [
              "400000"
            ]
          },
          "metadata": {},
          "execution_count": 12
        }
      ],
      "source": [
        "len(wrd2vec)  # Number of words in the vocabulary"
      ]
    },
    {
      "cell_type": "markdown",
      "metadata": {
        "id": "va_FJ6X67Z-X"
      },
      "source": [
        "### 3.1 Converting Words to Vectors\n",
        "\n",
        "We need to convert each context window into a single feature vector. We'll do this by:\n",
        "1. Converting each word in the context window to its vector representation\n",
        "2. Concatenating these vectors to form a single feature vector\n",
        "\n",
        "For words not in the GloVe vocabulary, we'll use zero vectors."
      ]
    },
    {
      "cell_type": "code",
      "execution_count": 13,
      "metadata": {
        "id": "a0VrL0q2mvKB",
        "colab": {
          "base_uri": "https://localhost:8080/"
        },
        "outputId": "e027be41-1c3c-4f62-fdc0-2d9e8da8d264"
      },
      "outputs": [
        {
          "output_type": "execute_result",
          "data": {
            "text/plain": [
              "(1500,)"
            ]
          },
          "metadata": {},
          "execution_count": 13
        }
      ],
      "source": [
        "import numpy as np\n",
        "data_example = entire_dataset[0]\n",
        "word_list, label = data_example\n",
        "\n",
        "# Function to convert a list of words into a single concatenated vector\n",
        "def get_flattened_vector(word_list:list, wrd2vec):\n",
        "  cat_vector = []\n",
        "\n",
        "  for word in word_list:\n",
        "    if word.lower() in wrd2vec:\n",
        "      vector = wrd2vec[word.lower()]\n",
        "    else:\n",
        "      vector = np.zeros(300)\n",
        "    cat_vector.append(vector)\n",
        "  cat_vector = np.concatenate(cat_vector)\n",
        "  #print(cat_vector.shape)\n",
        "  return cat_vector\n",
        "\n",
        "# Check the shape of the resulting vector (5 words x 300 dimensions = 1500)\n",
        "get_flattened_vector(word_list, wrd2vec).shape"
      ]
    },
    {
      "cell_type": "code",
      "source": [
        "word = word_list[3]\n",
        "wrd2vec[word].shape\n",
        "cat_vector = []\n",
        "\n",
        "for word in word_list:\n",
        "  if word.lower() in wrd2vec:\n",
        "    vector = wrd2vec[word.lower()]\n",
        "  else:\n",
        "    vector = np.zeros(300)\n",
        "  cat_vector.append(vector)\n",
        "cat_vector = np.concatenate(cat_vector)\n",
        "print(cat_vector.shape)"
      ],
      "metadata": {
        "colab": {
          "base_uri": "https://localhost:8080/"
        },
        "id": "tUfaQJ4HD_3o",
        "outputId": "67f4fa83-67d1-48c8-ee89-ddf30aaa709b"
      },
      "execution_count": 14,
      "outputs": [
        {
          "output_type": "stream",
          "name": "stdout",
          "text": [
            "(1500,)\n"
          ]
        }
      ]
    },
    {
      "cell_type": "markdown",
      "metadata": {
        "id": "F2ATwsDO7Z-X"
      },
      "source": [
        "## 4. Building a Neural Network Classifier\n",
        "\n",
        "Now we'll create a simple neural network model to predict whether a word represents an organization based on its context. The model will take the concatenated word vectors as input and output a probability."
      ]
    },
    {
      "cell_type": "code",
      "source": [
        "import torch\n",
        "import torch.nn as nn\n",
        "\n",
        "class Classifier(nn.Module):\n",
        "  def __init__(self):\n",
        "    super().__init__()\n",
        "    self.layer1 = nn.Linear(in_features=1500, out_features=128)\n",
        "    self.layer2 = nn.Linear(in_features=128, out_features=1)\n",
        "\n",
        "  def forward(self, x):\n",
        "    layer1output = self.layer1(x)\n",
        "    layer2output = self.layer2(layer1output.relu())\n",
        "    return layer2output.sigmoid()\n",
        "  pass\n",
        "\n",
        "\n",
        "# Test the model with a sample input\n",
        "input_vec = get_flattened_vector(word_list, wrd2vec)\n",
        "model = Classifier()\n",
        "# model = Classifier(input_size=1500, hidden_size=47, output_size=1)\n",
        "model(torch.Tensor(input_vec))\n",
        "\n"
      ],
      "metadata": {
        "colab": {
          "base_uri": "https://localhost:8080/"
        },
        "id": "lmbxCvknJhLg",
        "outputId": "9d174e98-bf63-40a2-c388-2b65b870ad8e"
      },
      "execution_count": 15,
      "outputs": [
        {
          "output_type": "execute_result",
          "data": {
            "text/plain": [
              "tensor([0.5188], grad_fn=<SigmoidBackward0>)"
            ]
          },
          "metadata": {},
          "execution_count": 15
        }
      ]
    },
    {
      "cell_type": "markdown",
      "metadata": {
        "id": "L7hpYlLCuxIm"
      },
      "source": [
        "# 5. Creating a Dataset Class\n",
        "\n",
        "To make training more efficient, we'll create a custom Dataset class that handles data loading and preprocessing."
      ]
    },
    {
      "cell_type": "markdown",
      "metadata": {
        "id": "3oX1SgN97Z-X"
      },
      "source": [
        "Our custom Dataset class will:\n",
        "1. Load and preprocess the CoNLL2003 dataset\n",
        "2. Create context windows for each word\n",
        "3. Convert words to vectors\n",
        "4. Provide an interface for accessing (feature, label) pairs\n",
        "\n",
        "This follows PyTorch's Dataset conventions, making it easy to use with DataLoader for batch processing."
      ]
    },
    {
      "cell_type": "code",
      "execution_count": 16,
      "metadata": {
        "id": "o4PtExeIoVkh",
        "colab": {
          "base_uri": "https://localhost:8080/"
        },
        "outputId": "097c8769-34b1-41ce-d28c-0952a7ad306f"
      },
      "outputs": [
        {
          "output_type": "stream",
          "name": "stdout",
          "text": [
            "192587\n"
          ]
        },
        {
          "output_type": "execute_result",
          "data": {
            "text/plain": [
              "(array([ 0.        ,  0.        ,  0.        , ..., -0.19499999,\n",
              "         0.20411   ,  0.35297999]),\n",
              " True)"
            ]
          },
          "metadata": {},
          "execution_count": 16
        }
      ],
      "source": [
        "class Dataset:\n",
        "  def __init__(self, txt_fn=\"train.txt\", wrd2vec=None, window_len=2):\n",
        "    self.window_len = window_len\n",
        "    text_lines = self.load_txt_and_split(txt_fn)\n",
        "    dataset_in_sentence = self.group_by_sentence(text_lines)\n",
        "    filtered_dataset = [sentence for sentence in dataset_in_sentence if len(sentence) > 5]\n",
        "    entire_dataset = [self.make_window_words_and_label_from_sentence(sentence) for sentence in filtered_dataset]\n",
        "    self.entire_data = self.flatten_list_of_list(entire_dataset)\n",
        "    self.wrd2vec = wrd2vec\n",
        "    # self.window_len = window_len 여기에 declare하면 함수가 먼저 읽어지니까 에러남\n",
        "\n",
        "  @staticmethod\n",
        "  def flatten_list_of_list(list_of_list): # in staticmehtod, we don't use self as an argument\n",
        "    return [y for x in list_of_list for y in x]\n",
        "    #  We don't use any of self.attribute or self.method() or something\n",
        "    # [ [1,2,3], [5,7,8], [0,1] ] -> [1,2,3,5,7,8,0,1]\n",
        "\n",
        "\n",
        "  def make_window_words_and_label_from_sentence(self, sentence):\n",
        "    total_output = []\n",
        "    window_len = self.window_len\n",
        "    for i, word in enumerate(sentence):\n",
        "      splitted_word = word.split(' ')\n",
        "      center_word = splitted_word[0]\n",
        "      label = splitted_word[-1]\n",
        "      is_organization = label in ['B-ORG', 'I-ORG']\n",
        "\n",
        "      # concatenating with neighboring words\n",
        "      # words in the left\n",
        "      prev_index = max(i - window_len, 0)  # clipping minimum to zero\n",
        "      prev_words = sentence[prev_index:i]\n",
        "      prev_words = [word_str.split(' ')[0] for word_str in prev_words]  # collect the main word\n",
        "\n",
        "      # words in the right\n",
        "      next_index = i + window_len + 1\n",
        "      next_words = sentence[i+1:next_index]\n",
        "      next_words = [word_str.split(' ')[0] for word_str in next_words]\n",
        "\n",
        "      # Add padding if needed\n",
        "      if len(prev_words) != window_len:\n",
        "        prev_words = ['<pad>'] * (window_len - len(prev_words)) + prev_words\n",
        "\n",
        "      if len(next_words) != window_len:\n",
        "        next_words = next_words + ['<pad>'] * (window_len - len(next_words))\n",
        "\n",
        "      concatenated_words = prev_words + [center_word] + next_words\n",
        "      total_output.append((concatenated_words, is_organization))\n",
        "    return total_output\n",
        "\n",
        "  @staticmethod\n",
        "  def group_by_sentence(text_lines:list):\n",
        "    return [list(group) for k, group in groupby(text_lines, lambda x: x == \"\") if not k]\n",
        "\n",
        "  @staticmethod\n",
        "  def load_txt_and_split(txt_fn):\n",
        "    with open(txt_fn) as f:\n",
        "      string = ''.join(f.readlines())\n",
        "    dataset = string.split('\\n')\n",
        "    return dataset\n",
        "\n",
        "  # def _load_txt_and_split(self, txt_fn=\"train.txt\"):\n",
        "  #   with open(txt_fn) as f:\n",
        "  #     string = ''.join(f.readlines())\n",
        "  #   dataset = string.split('\\n')\n",
        "  #   return dataset\n",
        "\n",
        "  # __getitem__ and __len__ is the most important part of the dataset\n",
        "  def __getitem__(self, idx):\n",
        "    # This function is called when we call dataset[idx]\n",
        "    # It has to return idx-th item\n",
        "    data_sample = self.entire_data[idx]\n",
        "    # print(f'data_sample: {data_sample}')\n",
        "    windowed_words, label = data_sample\n",
        "    # print(f'windowed_words: {windowed_words}')\n",
        "    flattened_vector = self.get_flattened_vector(windowed_words, self.wrd2vec)\n",
        "    # print(f'flattened_vector: {flattened_vector}')\n",
        "    return flattened_vector, label\n",
        "\n",
        "  def __len__(self):\n",
        "    # This function is called when we call len(dataset)\n",
        "    # In dataset, we want to get the total number of data sample\n",
        "    return len(self.entire_data)\n",
        "\n",
        "  @staticmethod\n",
        "  def get_flattened_vector(word_list:list, wrd2vec):\n",
        "    flattened_vec = []\n",
        "    for word in word_list:\n",
        "      word = word.lower()\n",
        "      if word in wrd2vec:\n",
        "        vec = wrd2vec[word]\n",
        "      else:\n",
        "        vec = np.zeros(300)\n",
        "      flattened_vec.append(vec)\n",
        "    flattened_vec = np.concatenate(flattened_vec)\n",
        "    return flattened_vec\n",
        "\n",
        "# Create a dataset instance\n",
        "dataset = Dataset(wrd2vec=wrd2vec)\n",
        "print(len(dataset))\n",
        "dataset[0]  # Check a sample"
      ]
    },
    {
      "cell_type": "markdown",
      "metadata": {
        "id": "BDmn84317Z-Y"
      },
      "source": [
        "### 5.1 Creating a Data Loader\n",
        "\n",
        "Now we'll create a data loader that will efficiently batch our data for training. We need a custom collate function to handle our data format."
      ]
    },
    {
      "cell_type": "code",
      "execution_count": 17,
      "metadata": {
        "id": "WyD4aKwS0P54",
        "colab": {
          "base_uri": "https://localhost:8080/"
        },
        "outputId": "b0d9b535-60d1-471f-cfd8-0d33d36bfedf"
      },
      "outputs": [
        {
          "output_type": "stream",
          "name": "stderr",
          "text": [
            "<ipython-input-17-c01f41fc495f>:7: UserWarning: Creating a tensor from a list of numpy.ndarrays is extremely slow. Please consider converting the list to a single numpy.ndarray with numpy.array() before converting to a tensor. (Triggered internally at /pytorch/torch/csrc/utils/tensor_new.cpp:254.)\n",
            "  return torch.tensor(vector).float(), torch.tensor(label).float()\n"
          ]
        },
        {
          "output_type": "execute_result",
          "data": {
            "text/plain": [
              "(tensor([[ 0.0000,  0.0000,  0.0000,  ..., -0.1950,  0.2041,  0.3530],\n",
              "         [ 0.0000,  0.0000,  0.0000,  ..., -0.2705, -0.1292, -0.0133],\n",
              "         [ 0.5473, -0.2364, -0.2143,  ..., -0.1604,  0.0467, -0.0706]]),\n",
              " tensor([1., 0., 0.]))"
            ]
          },
          "metadata": {},
          "execution_count": 17
        }
      ],
      "source": [
        "from typing import List, Tuple\n",
        "from torch.utils.data import DataLoader\n",
        "\n",
        "def custom_collate_fn(raw_batch:List[Tuple[np.ndarray, bool]]):\n",
        "  vector = [vector for vector, label in raw_batch]\n",
        "  label = [label for vector, label in raw_batch]\n",
        "  return torch.tensor(vector).float(), torch.tensor(label).float()\n",
        "  # add torch.tensor(vector).float() since Error: mat1 and mat2 must have the same dtype, but got Double and Float\n",
        "\n",
        "\n",
        "# Create a data loader\n",
        "train_loader = DataLoader(dataset, batch_size=32, collate_fn=custom_collate_fn, shuffle=True) # Adding 'shuffle=True', you can get random index.\n",
        "\n",
        "# Test our custom collate function\n",
        "raw_batch = [dataset[i] for i in range(3)]  # This is how DataLoader calls its dataset\n",
        "custom_collate_fn(raw_batch)  # And it feeds this raw_batch to collate_fn"
      ]
    },
    {
      "cell_type": "code",
      "source": [
        "for batch in train_loader:\n",
        "  print(batch)\n",
        "  break"
      ],
      "metadata": {
        "colab": {
          "base_uri": "https://localhost:8080/"
        },
        "id": "Eo9FEuHM1nSf",
        "outputId": "e5352b2e-4c35-4f0c-d100-1be54e861e49"
      },
      "execution_count": 18,
      "outputs": [
        {
          "output_type": "stream",
          "name": "stdout",
          "text": [
            "(tensor([[ 0.0385, -0.0398,  0.0827,  ...,  0.0000,  0.0000,  0.0000],\n",
            "        [-0.1823, -0.1921,  0.1517,  ..., -0.4052,  0.0125,  0.0935],\n",
            "        [-0.0768,  0.0757, -0.4035,  ..., -0.2380, -0.5449,  0.0961],\n",
            "        ...,\n",
            "        [ 1.2028, -0.8477,  0.8533,  ..., -0.2329, -0.1223,  0.3550],\n",
            "        [ 0.0000,  0.0000,  0.0000,  ...,  0.1002, -0.1143,  0.1187],\n",
            "        [ 0.0000,  0.0000,  0.0000,  ..., -0.8719,  0.0619, -0.1718]]), tensor([0., 0., 0., 0., 1., 0., 0., 0., 0., 0., 0., 0., 1., 1., 0., 0., 0., 0.,\n",
            "        0., 0., 0., 0., 0., 0., 0., 0., 0., 0., 0., 0., 0., 0.]))\n"
          ]
        }
      ]
    },
    {
      "cell_type": "markdown",
      "metadata": {
        "id": "N58G8p9D7Z-Y"
      },
      "source": [
        "## 6. Training the Model\n",
        "\n",
        "Before training, we need to define a loss function. We'll use Binary Cross-Entropy (BCE) loss, which is appropriate for binary classification."
      ]
    },
    {
      "cell_type": "code",
      "execution_count": 19,
      "metadata": {
        "id": "cZF_1rQo33fW"
      },
      "outputs": [],
      "source": [
        "def get_bce(pred, target, eps=1e-4):\n",
        "  loss =  -(target * torch.log(pred + eps) + (1 - target) * torch.log(1 - pred + eps))\n",
        "  return loss.mean()"
      ]
    },
    {
      "cell_type": "code",
      "source": [
        "print(batch)\n",
        "vector, label = batch\n",
        "model = Classifier()\n",
        "pred = model(vector)\n",
        "pred = pred.squeeze(1) # if not, pred.shape = torch.Size([32, 1])\n",
        "# pred.shape, label.shape\n",
        "pred, label\n",
        "loss = get_bce(pred, label)\n",
        "print(loss)"
      ],
      "metadata": {
        "colab": {
          "base_uri": "https://localhost:8080/"
        },
        "id": "527s4x1y3d23",
        "outputId": "2c16b397-8b45-4209-95dd-e11843a42f14"
      },
      "execution_count": 20,
      "outputs": [
        {
          "output_type": "stream",
          "name": "stdout",
          "text": [
            "(tensor([[ 0.0385, -0.0398,  0.0827,  ...,  0.0000,  0.0000,  0.0000],\n",
            "        [-0.1823, -0.1921,  0.1517,  ..., -0.4052,  0.0125,  0.0935],\n",
            "        [-0.0768,  0.0757, -0.4035,  ..., -0.2380, -0.5449,  0.0961],\n",
            "        ...,\n",
            "        [ 1.2028, -0.8477,  0.8533,  ..., -0.2329, -0.1223,  0.3550],\n",
            "        [ 0.0000,  0.0000,  0.0000,  ...,  0.1002, -0.1143,  0.1187],\n",
            "        [ 0.0000,  0.0000,  0.0000,  ..., -0.8719,  0.0619, -0.1718]]), tensor([0., 0., 0., 0., 1., 0., 0., 0., 0., 0., 0., 0., 1., 1., 0., 0., 0., 0.,\n",
            "        0., 0., 0., 0., 0., 0., 0., 0., 0., 0., 0., 0., 0., 0.]))\n",
            "tensor(0.7274, grad_fn=<MeanBackward0>)\n"
          ]
        }
      ]
    },
    {
      "cell_type": "markdown",
      "metadata": {
        "id": "dDHfkCYN7Z-Y"
      },
      "source": [
        "Now let's train our model. We'll:\n",
        "1. Create the model with appropriate dimensions\n",
        "2. Define an optimizer (Adam)\n",
        "3. Train for multiple epochs\n",
        "4. Record the loss for plotting"
      ]
    },
    {
      "cell_type": "code",
      "execution_count": 32,
      "metadata": {
        "id": "zXMvJlDI3OAb",
        "colab": {
          "base_uri": "https://localhost:8080/",
          "height": 17,
          "referenced_widgets": [
            "18151a2c85e2416a81b37710269197bc",
            "6d7b6973b3cc42c68eea09d17e26ee7f",
            "3e70bc2c17c54415b8beddf53877680c",
            "dd8df9195ff44e89b7586caf164d373b",
            "2d3bf112b37d48058e9456c33bacaab2",
            "ae82733a4d4645e09145e4149c29c99b",
            "90f6b17727d746e59468c5bc44778b05",
            "b5d43b33ffc44e66ac0a505236b2936e",
            "1ced61d9c757483da4590402277142fc",
            "313f7030e2234993899eab1a9d9b283e",
            "1e027fbeaa0c4f6a9f1bfb5fa6729d3f"
          ]
        },
        "outputId": "b112e90c-5143-472c-beff-c210e2475547"
      },
      "outputs": [
        {
          "output_type": "display_data",
          "data": {
            "text/plain": [
              "  0%|          | 0/1505 [00:00<?, ?it/s]"
            ],
            "application/vnd.jupyter.widget-view+json": {
              "version_major": 2,
              "version_minor": 0,
              "model_id": "18151a2c85e2416a81b37710269197bc"
            }
          },
          "metadata": {}
        }
      ],
      "source": [
        "from tqdm.auto import tqdm\n",
        "\n",
        "# Initialize model\n",
        "model = Classifier()\n",
        "optimizer = torch.optim.Adam(model.parameters(), lr=1e-3)  # Adam optimizer\n",
        "train_loader = DataLoader(dataset, batch_size=128, collate_fn=custom_collate_fn, shuffle=True)\n",
        "dev = 'cuda'  # Use GPU if available\n",
        "\n",
        "model.to(dev)  # Move model to GPU\n",
        "loss_record = []  # To track progress\n",
        "num_epochs = 1\n",
        "\n",
        "for epoch in range(num_epochs):\n",
        "  for batch in tqdm(train_loader, leave=False):  # Use tqdm for progress bar\n",
        "    vector, label = batch\n",
        "    vector = vector.to(dev)\n",
        "    label = label.to(dev)\n",
        "    pred = model(vector).squeeze() # add squeeze\n",
        "    loss = get_bce(pred, label)\n",
        "    loss.backward()\n",
        "    optimizer.step()\n",
        "    optimizer.zero_grad()\n",
        "    loss_record.append(loss.item())"
      ]
    },
    {
      "cell_type": "markdown",
      "metadata": {
        "id": "GlTUmVr37Z-Y"
      },
      "source": [
        "### 6.1 Visualizing Training Progress\n",
        "\n",
        "Let's plot the loss over time to see how our training progressed."
      ]
    },
    {
      "cell_type": "code",
      "execution_count": 33,
      "metadata": {
        "id": "8XxKaeOe6Es3",
        "colab": {
          "base_uri": "https://localhost:8080/",
          "height": 490
        },
        "outputId": "ee227b4f-161e-430a-fb54-251effaa5845"
      },
      "outputs": [
        {
          "output_type": "execute_result",
          "data": {
            "text/plain": [
              "Text(0, 0.5, 'Binary Cross-Entropy Loss')"
            ]
          },
          "metadata": {},
          "execution_count": 33
        },
        {
          "output_type": "display_data",
          "data": {
            "text/plain": [
              "<Figure size 640x480 with 1 Axes>"
            ],
            "image/png": "[encoded data removed]"
          },
          "metadata": {}
        }
      ],
      "source": [
        "import matplotlib.pyplot as plt\n",
        "plt.plot(loss_record)\n",
        "plt.title('Training Loss')\n",
        "plt.xlabel('Iterations')\n",
        "plt.ylabel('Binary Cross-Entropy Loss')"
      ]
    },
    {
      "cell_type": "markdown",
      "metadata": {
        "id": "B3rgGqTz7Z-b"
      },
      "source": [
        "## 7. Evaluating the Model\n",
        "\n",
        "Now that we've trained our model, let's evaluate it on the test set. We'll calculate metrics like precision and recall to see how well it identifies organizations."
      ]
    },
    {
      "cell_type": "code",
      "execution_count": 34,
      "metadata": {
        "id": "8w8-CIf98Gwz",
        "colab": {
          "base_uri": "https://localhost:8080/"
        },
        "outputId": "c47fe6d6-c3fc-40ef-f942-82fd66dff6d7"
      },
      "outputs": [
        {
          "output_type": "execute_result",
          "data": {
            "text/plain": [
              "Classifier(\n",
              "  (layer1): Linear(in_features=1500, out_features=128, bias=True)\n",
              "  (layer2): Linear(in_features=128, out_features=1, bias=True)\n",
              ")"
            ]
          },
          "metadata": {},
          "execution_count": 34
        }
      ],
      "source": [
        "# Create a test dataset and loader\n",
        "testset = Dataset('test.txt', wrd2vec=wrd2vec)\n",
        "test_loader = DataLoader(testset, batch_size=200, collate_fn=custom_collate_fn)\n",
        "\n",
        "model.eval()  # Set the model to evaluation mode\n",
        "model.cpu()"
      ]
    },
    {
      "cell_type": "code",
      "source": [
        "batch = next(iter(test_loader))\n",
        "input_vector, label = batch\n",
        "prediction = model(input_vector)\n",
        "loss = get_bce(prediction, label)\n",
        "loss"
      ],
      "metadata": {
        "colab": {
          "base_uri": "https://localhost:8080/"
        },
        "id": "Z1HcFCvTMVgK",
        "outputId": "908b941f-537b-4bc5-e4bf-2dcde24b6a74"
      },
      "execution_count": 35,
      "outputs": [
        {
          "output_type": "execute_result",
          "data": {
            "text/plain": [
              "tensor(0.0217, grad_fn=<MeanBackward0>)"
            ]
          },
          "metadata": {},
          "execution_count": 35
        }
      ]
    },
    {
      "cell_type": "code",
      "source": [
        "threshold = 0.1\n",
        "pred_bool = prediction > threshold\n",
        "pred_bool.sum()\n",
        "pred_bool.squeeze() == label"
      ],
      "metadata": {
        "colab": {
          "base_uri": "https://localhost:8080/"
        },
        "id": "IeRDlTSCNWJG",
        "outputId": "47aacde3-ec85-413d-f77e-87e04e3c1652"
      },
      "execution_count": 36,
      "outputs": [
        {
          "output_type": "execute_result",
          "data": {
            "text/plain": [
              "tensor([ True,  True,  True,  True,  True,  True,  True,  True,  True,  True,\n",
              "         True,  True, False,  True,  True, False, False, False,  True,  True,\n",
              "         True,  True,  True,  True,  True,  True,  True,  True,  True,  True,\n",
              "         True,  True,  True,  True,  True,  True,  True,  True,  True,  True,\n",
              "         True,  True,  True,  True,  True,  True,  True,  True,  True,  True,\n",
              "         True,  True,  True,  True,  True,  True,  True,  True,  True,  True,\n",
              "         True,  True,  True,  True,  True, False,  True,  True,  True,  True,\n",
              "         True,  True,  True,  True,  True,  True,  True,  True,  True,  True,\n",
              "         True,  True,  True,  True,  True,  True,  True,  True,  True,  True,\n",
              "         True,  True,  True,  True,  True,  True,  True,  True,  True,  True,\n",
              "         True,  True,  True, False,  True,  True,  True,  True,  True,  True,\n",
              "         True,  True,  True,  True,  True,  True,  True,  True,  True,  True,\n",
              "         True,  True,  True,  True,  True,  True,  True,  True,  True,  True,\n",
              "         True,  True,  True,  True, False, False,  True,  True,  True,  True,\n",
              "         True,  True,  True,  True,  True,  True,  True,  True,  True,  True,\n",
              "         True,  True,  True,  True,  True,  True,  True,  True,  True,  True,\n",
              "         True,  True,  True,  True,  True,  True,  True,  True,  True,  True,\n",
              "         True,  True,  True,  True,  True,  True,  True,  True,  True,  True,\n",
              "         True,  True,  True,  True,  True,  True,  True,  True,  True,  True,\n",
              "         True,  True,  True,  True,  True,  True,  True,  True,  True,  True])"
            ]
          },
          "metadata": {},
          "execution_count": 36
        }
      ]
    },
    {
      "cell_type": "markdown",
      "metadata": {
        "id": "TKB82rFc7Z-b"
      },
      "source": [
        "## 8. Using the Model for Inference\n",
        "\n",
        "Finally, let's use our trained model to predict whether words in a new sentence are organizations."
      ]
    },
    {
      "cell_type": "code",
      "execution_count": 37,
      "metadata": {
        "id": "lcnjh0QN6buk",
        "colab": {
          "base_uri": "https://localhost:8080/",
          "height": 454
        },
        "outputId": "b54b4210-329a-45c6-b2ac-dacf5bc5e163"
      },
      "outputs": [
        {
          "output_type": "error",
          "ename": "RuntimeError",
          "evalue": "Expected all tensors to be on the same device, but found at least two devices, cpu and cuda:0! (when checking argument for argument mat1 in method wrapper_CUDA_addmm)",
          "traceback": [
            "\u001b[0;31m---------------------------------------------------------------------------\u001b[0m",
            "\u001b[0;31mRuntimeError\u001b[0m                              Traceback (most recent call last)",
            "\u001b[0;32m<ipython-input-37-2ec8185a6e90>\u001b[0m in \u001b[0;36m<cell line: 0>\u001b[0;34m()\u001b[0m\n\u001b[1;32m      4\u001b[0m \u001b[0mconverted_vector\u001b[0m \u001b[0;34m=\u001b[0m \u001b[0mDataset\u001b[0m\u001b[0;34m.\u001b[0m\u001b[0mget_flattened_vector\u001b[0m\u001b[0;34m(\u001b[0m\u001b[0mtest_words\u001b[0m\u001b[0;34m,\u001b[0m \u001b[0mdataset\u001b[0m\u001b[0;34m.\u001b[0m\u001b[0mwrd2vec\u001b[0m\u001b[0;34m)\u001b[0m\u001b[0;34m\u001b[0m\u001b[0;34m\u001b[0m\u001b[0m\n\u001b[1;32m      5\u001b[0m \u001b[0mconverted_vector\u001b[0m \u001b[0;34m=\u001b[0m \u001b[0mtorch\u001b[0m\u001b[0;34m.\u001b[0m\u001b[0mTensor\u001b[0m\u001b[0;34m(\u001b[0m\u001b[0mconverted_vector\u001b[0m\u001b[0;34m)\u001b[0m\u001b[0;34m\u001b[0m\u001b[0;34m\u001b[0m\u001b[0m\n\u001b[0;32m----> 6\u001b[0;31m \u001b[0mprediction\u001b[0m \u001b[0;34m=\u001b[0m \u001b[0mmodel\u001b[0m\u001b[0;34m(\u001b[0m\u001b[0mconverted_vector\u001b[0m\u001b[0;34m.\u001b[0m\u001b[0mto\u001b[0m\u001b[0;34m(\u001b[0m\u001b[0mdev\u001b[0m\u001b[0;34m)\u001b[0m\u001b[0;34m)\u001b[0m\u001b[0;34m\u001b[0m\u001b[0;34m\u001b[0m\u001b[0m\n\u001b[0m\u001b[1;32m      7\u001b[0m \u001b[0mprediction\u001b[0m  \u001b[0;31m# Probability that the center word is an organization\u001b[0m\u001b[0;34m\u001b[0m\u001b[0;34m\u001b[0m\u001b[0m\n",
            "\u001b[0;32m/usr/local/lib/python3.11/dist-packages/torch/nn/modules/module.py\u001b[0m in \u001b[0;36m_wrapped_call_impl\u001b[0;34m(self, *args, **kwargs)\u001b[0m\n\u001b[1;32m   1737\u001b[0m             \u001b[0;32mreturn\u001b[0m \u001b[0mself\u001b[0m\u001b[0;34m.\u001b[0m\u001b[0m_compiled_call_impl\u001b[0m\u001b[0;34m(\u001b[0m\u001b[0;34m*\u001b[0m\u001b[0margs\u001b[0m\u001b[0;34m,\u001b[0m \u001b[0;34m**\u001b[0m\u001b[0mkwargs\u001b[0m\u001b[0;34m)\u001b[0m  \u001b[0;31m# type: ignore[misc]\u001b[0m\u001b[0;34m\u001b[0m\u001b[0;34m\u001b[0m\u001b[0m\n\u001b[1;32m   1738\u001b[0m         \u001b[0;32melse\u001b[0m\u001b[0;34m:\u001b[0m\u001b[0;34m\u001b[0m\u001b[0;34m\u001b[0m\u001b[0m\n\u001b[0;32m-> 1739\u001b[0;31m             \u001b[0;32mreturn\u001b[0m \u001b[0mself\u001b[0m\u001b[0;34m.\u001b[0m\u001b[0m_call_impl\u001b[0m\u001b[0;34m(\u001b[0m\u001b[0;34m*\u001b[0m\u001b[0margs\u001b[0m\u001b[0;34m,\u001b[0m \u001b[0;34m**\u001b[0m\u001b[0mkwargs\u001b[0m\u001b[0;34m)\u001b[0m\u001b[0;34m\u001b[0m\u001b[0;34m\u001b[0m\u001b[0m\n\u001b[0m\u001b[1;32m   1740\u001b[0m \u001b[0;34m\u001b[0m\u001b[0m\n\u001b[1;32m   1741\u001b[0m     \u001b[0;31m# torchrec tests the code consistency with the following code\u001b[0m\u001b[0;34m\u001b[0m\u001b[0;34m\u001b[0m\u001b[0m\n",
            "\u001b[0;32m/usr/local/lib/python3.11/dist-packages/torch/nn/modules/module.py\u001b[0m in \u001b[0;36m_call_impl\u001b[0;34m(self, *args, **kwargs)\u001b[0m\n\u001b[1;32m   1748\u001b[0m                 \u001b[0;32mor\u001b[0m \u001b[0m_global_backward_pre_hooks\u001b[0m \u001b[0;32mor\u001b[0m \u001b[0m_global_backward_hooks\u001b[0m\u001b[0;34m\u001b[0m\u001b[0;34m\u001b[0m\u001b[0m\n\u001b[1;32m   1749\u001b[0m                 or _global_forward_hooks or _global_forward_pre_hooks):\n\u001b[0;32m-> 1750\u001b[0;31m             \u001b[0;32mreturn\u001b[0m \u001b[0mforward_call\u001b[0m\u001b[0;34m(\u001b[0m\u001b[0;34m*\u001b[0m\u001b[0margs\u001b[0m\u001b[0;34m,\u001b[0m \u001b[0;34m**\u001b[0m\u001b[0mkwargs\u001b[0m\u001b[0;34m)\u001b[0m\u001b[0;34m\u001b[0m\u001b[0;34m\u001b[0m\u001b[0m\n\u001b[0m\u001b[1;32m   1751\u001b[0m \u001b[0;34m\u001b[0m\u001b[0m\n\u001b[1;32m   1752\u001b[0m         \u001b[0mresult\u001b[0m \u001b[0;34m=\u001b[0m \u001b[0;32mNone\u001b[0m\u001b[0;34m\u001b[0m\u001b[0;34m\u001b[0m\u001b[0m\n",
            "\u001b[0;32m<ipython-input-15-a1d8df2da65c>\u001b[0m in \u001b[0;36mforward\u001b[0;34m(self, x)\u001b[0m\n\u001b[1;32m      9\u001b[0m \u001b[0;34m\u001b[0m\u001b[0m\n\u001b[1;32m     10\u001b[0m   \u001b[0;32mdef\u001b[0m \u001b[0mforward\u001b[0m\u001b[0;34m(\u001b[0m\u001b[0mself\u001b[0m\u001b[0;34m,\u001b[0m \u001b[0mx\u001b[0m\u001b[0;34m)\u001b[0m\u001b[0;34m:\u001b[0m\u001b[0;34m\u001b[0m\u001b[0;34m\u001b[0m\u001b[0m\n\u001b[0;32m---> 11\u001b[0;31m     \u001b[0mlayer1output\u001b[0m \u001b[0;34m=\u001b[0m \u001b[0mself\u001b[0m\u001b[0;34m.\u001b[0m\u001b[0mlayer1\u001b[0m\u001b[0;34m(\u001b[0m\u001b[0mx\u001b[0m\u001b[0;34m)\u001b[0m\u001b[0;34m\u001b[0m\u001b[0;34m\u001b[0m\u001b[0m\n\u001b[0m\u001b[1;32m     12\u001b[0m     \u001b[0mlayer2output\u001b[0m \u001b[0;34m=\u001b[0m \u001b[0mself\u001b[0m\u001b[0;34m.\u001b[0m\u001b[0mlayer2\u001b[0m\u001b[0;34m(\u001b[0m\u001b[0mlayer1output\u001b[0m\u001b[0;34m.\u001b[0m\u001b[0mrelu\u001b[0m\u001b[0;34m(\u001b[0m\u001b[0;34m)\u001b[0m\u001b[0;34m)\u001b[0m\u001b[0;34m\u001b[0m\u001b[0;34m\u001b[0m\u001b[0m\n\u001b[1;32m     13\u001b[0m     \u001b[0;32mreturn\u001b[0m \u001b[0mlayer2output\u001b[0m\u001b[0;34m.\u001b[0m\u001b[0msigmoid\u001b[0m\u001b[0;34m(\u001b[0m\u001b[0;34m)\u001b[0m\u001b[0;34m\u001b[0m\u001b[0;34m\u001b[0m\u001b[0m\n",
            "\u001b[0;32m/usr/local/lib/python3.11/dist-packages/torch/nn/modules/module.py\u001b[0m in \u001b[0;36m_wrapped_call_impl\u001b[0;34m(self, *args, **kwargs)\u001b[0m\n\u001b[1;32m   1737\u001b[0m             \u001b[0;32mreturn\u001b[0m \u001b[0mself\u001b[0m\u001b[0;34m.\u001b[0m\u001b[0m_compiled_call_impl\u001b[0m\u001b[0;34m(\u001b[0m\u001b[0;34m*\u001b[0m\u001b[0margs\u001b[0m\u001b[0;34m,\u001b[0m \u001b[0;34m**\u001b[0m\u001b[0mkwargs\u001b[0m\u001b[0;34m)\u001b[0m  \u001b[0;31m# type: ignore[misc]\u001b[0m\u001b[0;34m\u001b[0m\u001b[0;34m\u001b[0m\u001b[0m\n\u001b[1;32m   1738\u001b[0m         \u001b[0;32melse\u001b[0m\u001b[0;34m:\u001b[0m\u001b[0;34m\u001b[0m\u001b[0;34m\u001b[0m\u001b[0m\n\u001b[0;32m-> 1739\u001b[0;31m             \u001b[0;32mreturn\u001b[0m \u001b[0mself\u001b[0m\u001b[0;34m.\u001b[0m\u001b[0m_call_impl\u001b[0m\u001b[0;34m(\u001b[0m\u001b[0;34m*\u001b[0m\u001b[0margs\u001b[0m\u001b[0;34m,\u001b[0m \u001b[0;34m**\u001b[0m\u001b[0mkwargs\u001b[0m\u001b[0;34m)\u001b[0m\u001b[0;34m\u001b[0m\u001b[0;34m\u001b[0m\u001b[0m\n\u001b[0m\u001b[1;32m   1740\u001b[0m \u001b[0;34m\u001b[0m\u001b[0m\n\u001b[1;32m   1741\u001b[0m     \u001b[0;31m# torchrec tests the code consistency with the following code\u001b[0m\u001b[0;34m\u001b[0m\u001b[0;34m\u001b[0m\u001b[0m\n",
            "\u001b[0;32m/usr/local/lib/python3.11/dist-packages/torch/nn/modules/module.py\u001b[0m in \u001b[0;36m_call_impl\u001b[0;34m(self, *args, **kwargs)\u001b[0m\n\u001b[1;32m   1748\u001b[0m                 \u001b[0;32mor\u001b[0m \u001b[0m_global_backward_pre_hooks\u001b[0m \u001b[0;32mor\u001b[0m \u001b[0m_global_backward_hooks\u001b[0m\u001b[0;34m\u001b[0m\u001b[0;34m\u001b[0m\u001b[0m\n\u001b[1;32m   1749\u001b[0m                 or _global_forward_hooks or _global_forward_pre_hooks):\n\u001b[0;32m-> 1750\u001b[0;31m             \u001b[0;32mreturn\u001b[0m \u001b[0mforward_call\u001b[0m\u001b[0;34m(\u001b[0m\u001b[0;34m*\u001b[0m\u001b[0margs\u001b[0m\u001b[0;34m,\u001b[0m \u001b[0;34m**\u001b[0m\u001b[0mkwargs\u001b[0m\u001b[0;34m)\u001b[0m\u001b[0;34m\u001b[0m\u001b[0;34m\u001b[0m\u001b[0m\n\u001b[0m\u001b[1;32m   1751\u001b[0m \u001b[0;34m\u001b[0m\u001b[0m\n\u001b[1;32m   1752\u001b[0m         \u001b[0mresult\u001b[0m \u001b[0;34m=\u001b[0m \u001b[0;32mNone\u001b[0m\u001b[0;34m\u001b[0m\u001b[0;34m\u001b[0m\u001b[0m\n",
            "\u001b[0;32m/usr/local/lib/python3.11/dist-packages/torch/nn/modules/linear.py\u001b[0m in \u001b[0;36mforward\u001b[0;34m(self, input)\u001b[0m\n\u001b[1;32m    123\u001b[0m \u001b[0;34m\u001b[0m\u001b[0m\n\u001b[1;32m    124\u001b[0m     \u001b[0;32mdef\u001b[0m \u001b[0mforward\u001b[0m\u001b[0;34m(\u001b[0m\u001b[0mself\u001b[0m\u001b[0;34m,\u001b[0m \u001b[0minput\u001b[0m\u001b[0;34m:\u001b[0m \u001b[0mTensor\u001b[0m\u001b[0;34m)\u001b[0m \u001b[0;34m->\u001b[0m \u001b[0mTensor\u001b[0m\u001b[0;34m:\u001b[0m\u001b[0;34m\u001b[0m\u001b[0;34m\u001b[0m\u001b[0m\n\u001b[0;32m--> 125\u001b[0;31m         \u001b[0;32mreturn\u001b[0m \u001b[0mF\u001b[0m\u001b[0;34m.\u001b[0m\u001b[0mlinear\u001b[0m\u001b[0;34m(\u001b[0m\u001b[0minput\u001b[0m\u001b[0;34m,\u001b[0m \u001b[0mself\u001b[0m\u001b[0;34m.\u001b[0m\u001b[0mweight\u001b[0m\u001b[0;34m,\u001b[0m \u001b[0mself\u001b[0m\u001b[0;34m.\u001b[0m\u001b[0mbias\u001b[0m\u001b[0;34m)\u001b[0m\u001b[0;34m\u001b[0m\u001b[0;34m\u001b[0m\u001b[0m\n\u001b[0m\u001b[1;32m    126\u001b[0m \u001b[0;34m\u001b[0m\u001b[0m\n\u001b[1;32m    127\u001b[0m     \u001b[0;32mdef\u001b[0m \u001b[0mextra_repr\u001b[0m\u001b[0;34m(\u001b[0m\u001b[0mself\u001b[0m\u001b[0;34m)\u001b[0m \u001b[0;34m->\u001b[0m \u001b[0mstr\u001b[0m\u001b[0;34m:\u001b[0m\u001b[0;34m\u001b[0m\u001b[0;34m\u001b[0m\u001b[0m\n",
            "\u001b[0;31mRuntimeError\u001b[0m: Expected all tensors to be on the same device, but found at least two devices, cpu and cuda:0! (when checking argument for argument mat1 in method wrapper_CUDA_addmm)"
          ]
        }
      ],
      "source": [
        "# Test on a new sentence\n",
        "test_str = \"students are studying in library\"\n",
        "test_words = test_str.split(' ')\n",
        "converted_vector = Dataset.get_flattened_vector(test_words, dataset.wrd2vec)\n",
        "converted_vector = torch.Tensor(converted_vector)\n",
        "prediction = model(converted_vector.to(dev))\n",
        "prediction  # Probability that the center word is an organization"
      ]
    },
    {
      "cell_type": "markdown",
      "metadata": {
        "id": "zbuGD2vn7Z-c"
      },
      "source": [
        "## Conclusion\n",
        "\n",
        "In this notebook, we've built a Named Entity Recognition system that identifies organizations in text. We:\n",
        "\n",
        "1. Processed the CoNLL2003 dataset to create context windows for each word\n",
        "2. Used pre-trained GloVe word embeddings to convert words to vectors\n",
        "3. Built a simple neural network classifier\n",
        "4. Trained the model on the training set\n",
        "5. Evaluated the model on the test set\n",
        "6. Used the model for inference on new text\n",
        "\n",
        "This model could be extended to identify other types of entities (people, locations, etc.) by modifying the labels. More advanced NER systems might use architectures like BiLSTMs or Transformers for better performance."
      ]
    }
  ],
  "metadata": {
    "accelerator": "GPU",
    "colab": {
      "provenance": [],
      "include_colab_link": true
    },
    "gpuClass": "standard",
    "kernelspec": {
      "display_name": "Python 3",
      "language": "python",
      "name": "python3"
    },
    "language_info": {
      "codemirror_mode": {
        "name": "ipython",
        "version": 3
      },
      "file_extension": ".py",
      "mimetype": "text/x-python",
      "name": "python",
      "nbconvert_exporter": "python",
      "pygments_lexer": "ipython3",
      "version": "3.10.12"
    },
    "nbformat": 4,
    "nbformat_minor": 5,
    "widgets": {
      "application/vnd.jupyter.widget-state+json": {
        "18151a2c85e2416a81b37710269197bc": {
          "model_module": "@jupyter-widgets/controls",
          "model_name": "HBoxModel",
          "model_module_version": "1.5.0",
          "state": {
            "_dom_classes": [],
            "_model_module": "@jupyter-widgets/controls",
            "_model_module_version": "1.5.0",
            "_model_name": "HBoxModel",
            "_view_count": null,
            "_view_module": "@jupyter-widgets/controls",
            "_view_module_version": "1.5.0",
            "_view_name": "HBoxView",
            "box_style": "",
            "children": [
              "IPY_MODEL_6d7b6973b3cc42c68eea09d17e26ee7f",
              "IPY_MODEL_3e70bc2c17c54415b8beddf53877680c",
              "IPY_MODEL_dd8df9195ff44e89b7586caf164d373b"
            ],
            "layout": "IPY_MODEL_2d3bf112b37d48058e9456c33bacaab2"
          }
        },
        "6d7b6973b3cc42c68eea09d17e26ee7f": {
          "model_module": "@jupyter-widgets/controls",
          "model_name": "HTMLModel",
          "model_module_version": "1.5.0",
          "state": {
            "_dom_classes": [],
            "_model_module": "@jupyter-widgets/controls",
            "_model_module_version": "1.5.0",
            "_model_name": "HTMLModel",
            "_view_count": null,
            "_view_module": "@jupyter-widgets/controls",
            "_view_module_version": "1.5.0",
            "_view_name": "HTMLView",
            "description": "",
            "description_tooltip": null,
            "layout": "IPY_MODEL_ae82733a4d4645e09145e4149c29c99b",
            "placeholder": "​",
            "style": "IPY_MODEL_90f6b17727d746e59468c5bc44778b05",
            "value": "100%"
          }
        },
        "3e70bc2c17c54415b8beddf53877680c": {
          "model_module": "@jupyter-widgets/controls",
          "model_name": "FloatProgressModel",
          "model_module_version": "1.5.0",
          "state": {
            "_dom_classes": [],
            "_model_module": "@jupyter-widgets/controls",
            "_model_module_version": "1.5.0",
            "_model_name": "FloatProgressModel",
            "_view_count": null,
            "_view_module": "@jupyter-widgets/controls",
            "_view_module_version": "1.5.0",
            "_view_name": "ProgressView",
            "bar_style": "",
            "description": "",
            "description_tooltip": null,
            "layout": "IPY_MODEL_b5d43b33ffc44e66ac0a505236b2936e",
            "max": 1505,
            "min": 0,
            "orientation": "horizontal",
            "style": "IPY_MODEL_1ced61d9c757483da4590402277142fc",
            "value": 1505
          }
        },
        "dd8df9195ff44e89b7586caf164d373b": {
          "model_module": "@jupyter-widgets/controls",
          "model_name": "HTMLModel",
          "model_module_version": "1.5.0",
          "state": {
            "_dom_classes": [],
            "_model_module": "@jupyter-widgets/controls",
            "_model_module_version": "1.5.0",
            "_model_name": "HTMLModel",
            "_view_count": null,
            "_view_module": "@jupyter-widgets/controls",
            "_view_module_version": "1.5.0",
            "_view_name": "HTMLView",
            "description": "",
            "description_tooltip": null,
            "layout": "IPY_MODEL_313f7030e2234993899eab1a9d9b283e",
            "placeholder": "​",
            "style": "IPY_MODEL_1e027fbeaa0c4f6a9f1bfb5fa6729d3f",
            "value": " 1502/1505 [00:48&lt;00:00, 34.15it/s]"
          }
        },
        "2d3bf112b37d48058e9456c33bacaab2": {
          "model_module": "@jupyter-widgets/base",
          "model_name": "LayoutModel",
          "model_module_version": "1.2.0",
          "state": {
            "_model_module": "@jupyter-widgets/base",
            "_model_module_version": "1.2.0",
            "_model_name": "LayoutModel",
            "_view_count": null,
            "_view_module": "@jupyter-widgets/base",
            "_view_module_version": "1.2.0",
            "_view_name": "LayoutView",
            "align_content": null,
            "align_items": null,
            "align_self": null,
            "border": null,
            "bottom": null,
            "display": null,
            "flex": null,
            "flex_flow": null,
            "grid_area": null,
            "grid_auto_columns": null,
            "grid_auto_flow": null,
            "grid_auto_rows": null,
            "grid_column": null,
            "grid_gap": null,
            "grid_row": null,
            "grid_template_areas": null,
            "grid_template_columns": null,
            "grid_template_rows": null,
            "height": null,
            "justify_content": null,
            "justify_items": null,
            "left": null,
            "margin": null,
            "max_height": null,
            "max_width": null,
            "min_height": null,
            "min_width": null,
            "object_fit": null,
            "object_position": null,
            "order": null,
            "overflow": null,
            "overflow_x": null,
            "overflow_y": null,
            "padding": null,
            "right": null,
            "top": null,
            "visibility": "hidden",
            "width": null
          }
        },
        "ae82733a4d4645e09145e4149c29c99b": {
          "model_module": "@jupyter-widgets/base",
          "model_name": "LayoutModel",
          "model_module_version": "1.2.0",
          "state": {
            "_model_module": "@jupyter-widgets/base",
            "_model_module_version": "1.2.0",
            "_model_name": "LayoutModel",
            "_view_count": null,
            "_view_module": "@jupyter-widgets/base",
            "_view_module_version": "1.2.0",
            "_view_name": "LayoutView",
            "align_content": null,
            "align_items": null,
            "align_self": null,
            "border": null,
            "bottom": null,
            "display": null,
            "flex": null,
            "flex_flow": null,
            "grid_area": null,
            "grid_auto_columns": null,
            "grid_auto_flow": null,
            "grid_auto_rows": null,
            "grid_column": null,
            "grid_gap": null,
            "grid_row": null,
            "grid_template_areas": null,
            "grid_template_columns": null,
            "grid_template_rows": null,
            "height": null,
            "justify_content": null,
            "justify_items": null,
            "left": null,
            "margin": null,
            "max_height": null,
            "max_width": null,
            "min_height": null,
            "min_width": null,
            "object_fit": null,
            "object_position": null,
            "order": null,
            "overflow": null,
            "overflow_x": null,
            "overflow_y": null,
            "padding": null,
            "right": null,
            "top": null,
            "visibility": null,
            "width": null
          }
        },
        "90f6b17727d746e59468c5bc44778b05": {
          "model_module": "@jupyter-widgets/controls",
          "model_name": "DescriptionStyleModel",
          "model_module_version": "1.5.0",
          "state": {
            "_model_module": "@jupyter-widgets/controls",
            "_model_module_version": "1.5.0",
            "_model_name": "DescriptionStyleModel",
            "_view_count": null,
            "_view_module": "@jupyter-widgets/base",
            "_view_module_version": "1.2.0",
            "_view_name": "StyleView",
            "description_width": ""
          }
        },
        "b5d43b33ffc44e66ac0a505236b2936e": {
          "model_module": "@jupyter-widgets/base",
          "model_name": "LayoutModel",
          "model_module_version": "1.2.0",
          "state": {
            "_model_module": "@jupyter-widgets/base",
            "_model_module_version": "1.2.0",
            "_model_name": "LayoutModel",
            "_view_count": null,
            "_view_module": "@jupyter-widgets/base",
            "_view_module_version": "1.2.0",
            "_view_name": "LayoutView",
            "align_content": null,
            "align_items": null,
            "align_self": null,
            "border": null,
            "bottom": null,
            "display": null,
            "flex": null,
            "flex_flow": null,
            "grid_area": null,
            "grid_auto_columns": null,
            "grid_auto_flow": null,
            "grid_auto_rows": null,
            "grid_column": null,
            "grid_gap": null,
            "grid_row": null,
            "grid_template_areas": null,
            "grid_template_columns": null,
            "grid_template_rows": null,
            "height": null,
            "justify_content": null,
            "justify_items": null,
            "left": null,
            "margin": null,
            "max_height": null,
            "max_width": null,
            "min_height": null,
            "min_width": null,
            "object_fit": null,
            "object_position": null,
            "order": null,
            "overflow": null,
            "overflow_x": null,
            "overflow_y": null,
            "padding": null,
            "right": null,
            "top": null,
            "visibility": null,
            "width": null
          }
        },
        "1ced61d9c757483da4590402277142fc": {
          "model_module": "@jupyter-widgets/controls",
          "model_name": "ProgressStyleModel",
          "model_module_version": "1.5.0",
          "state": {
            "_model_module": "@jupyter-widgets/controls",
            "_model_module_version": "1.5.0",
            "_model_name": "ProgressStyleModel",
            "_view_count": null,
            "_view_module": "@jupyter-widgets/base",
            "_view_module_version": "1.2.0",
            "_view_name": "StyleView",
            "bar_color": null,
            "description_width": ""
          }
        },
        "313f7030e2234993899eab1a9d9b283e": {
          "model_module": "@jupyter-widgets/base",
          "model_name": "LayoutModel",
          "model_module_version": "1.2.0",
          "state": {
            "_model_module": "@jupyter-widgets/base",
            "_model_module_version": "1.2.0",
            "_model_name": "LayoutModel",
            "_view_count": null,
            "_view_module": "@jupyter-widgets/base",
            "_view_module_version": "1.2.0",
            "_view_name": "LayoutView",
            "align_content": null,
            "align_items": null,
            "align_self": null,
            "border": null,
            "bottom": null,
            "display": null,
            "flex": null,
            "flex_flow": null,
            "grid_area": null,
            "grid_auto_columns": null,
            "grid_auto_flow": null,
            "grid_auto_rows": null,
            "grid_column": null,
            "grid_gap": null,
            "grid_row": null,
            "grid_template_areas": null,
            "grid_template_columns": null,
            "grid_template_rows": null,
            "height": null,
            "justify_content": null,
            "justify_items": null,
            "left": null,
            "margin": null,
            "max_height": null,
            "max_width": null,
            "min_height": null,
            "min_width": null,
            "object_fit": null,
            "object_position": null,
            "order": null,
            "overflow": null,
            "overflow_x": null,
            "overflow_y": null,
            "padding": null,
            "right": null,
            "top": null,
            "visibility": null,
            "width": null
          }
        },
        "1e027fbeaa0c4f6a9f1bfb5fa6729d3f": {
          "model_module": "@jupyter-widgets/controls",
          "model_name": "DescriptionStyleModel",
          "model_module_version": "1.5.0",
          "state": {
            "_model_module": "@jupyter-widgets/controls",
            "_model_module_version": "1.5.0",
            "_model_name": "DescriptionStyleModel",
            "_view_count": null,
            "_view_module": "@jupyter-widgets/base",
            "_view_module_version": "1.2.0",
            "_view_name": "StyleView",
            "description_width": ""
          }
        }
      }
    }
  },
  "nbformat": 4,
  "nbformat_minor": 0
}