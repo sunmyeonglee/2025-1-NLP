{
  "cells": [
    {
      "cell_type": "markdown",
      "metadata": {
        "id": "view-in-github",
        "colab_type": "text"
      },
      "source": [
        "<a href=\"https://colab.research.google.com/github/sunmyeonglee/2025-1-NLP/blob/main/2_named_entity_recognition.ipynb\" target=\"_parent\"><img src=\"https://colab.research.google.com/assets/colab-badge.svg\" alt=\"Open In Colab\"/></a>"
      ]
    },
    {
      "cell_type": "markdown",
      "metadata": {
        "id": "45a2da87"
      },
      "source": [
        "# Named Entity Recognition\n",
        "- For a given word and its context window, estimate whether the given word is location or not"
      ]
    },
    {
      "cell_type": "markdown",
      "metadata": {
        "id": "d9VN9TB17Z-U"
      },
      "source": [
        "## Introduction to Named Entity Recognition (NER)\n",
        "\n",
        "Named Entity Recognition is a subtask of Natural Language Processing (NLP) that focuses on identifying and categorizing named entities in text. Named entities are real-world objects such as people, organizations, locations, dates, etc. that can be denoted with a proper name.\n",
        "\n",
        "In this notebook, we'll focus on a binary classification task: determining whether a word represents an organization or not based on its surrounding context.\n",
        "\n",
        "We'll go through the following steps:\n",
        "1. Download and explore the CoNLL2003 dataset\n",
        "2. Preprocess the data and create context windows\n",
        "3. Convert words to vectors using pre-trained word embeddings\n",
        "4. Build and train a neural network classifier\n",
        "5. Evaluate the model on test data\n",
        "6. Use the model for inference"
      ]
    },
    {
      "cell_type": "markdown",
      "metadata": {
        "id": "11619f5d"
      },
      "source": [
        "# 1. Download dataset\n",
        "- CoNLL2003"
      ]
    },
    {
      "cell_type": "markdown",
      "metadata": {
        "id": "wzOblyOl7Z-V"
      },
      "source": [
        "The CoNLL2003 dataset is a widely used benchmark for NER tasks. It contains news articles with manually annotated named entities. Each word is labeled with its entity type (if any): person (PER), location (LOC), organization (ORG), or miscellaneous (MISC).\n",
        "\n",
        "Let's download the dataset and extract it."
      ]
    },
    {
      "cell_type": "code",
      "source": [
        "!pip install gensim"
      ],
      "metadata": {
        "colab": {
          "base_uri": "https://localhost:8080/"
        },
        "id": "SiRIVGcBt7l1",
        "outputId": "f0817806-3f6c-4b14-c35d-9e2ac34304bb"
      },
      "execution_count": 2,
      "outputs": [
        {
          "output_type": "stream",
          "name": "stdout",
          "text": [
            "Collecting gensim\n",
            "  Downloading gensim-4.3.3-cp311-cp311-manylinux_2_17_x86_64.manylinux2014_x86_64.whl.metadata (8.1 kB)\n",
            "Collecting numpy<2.0,>=1.18.5 (from gensim)\n",
            "  Downloading numpy-1.26.4-cp311-cp311-manylinux_2_17_x86_64.manylinux2014_x86_64.whl.metadata (61 kB)\n",
            "\u001b[2K     \u001b[90m━━━━━━━━━━━━━━━━━━━━━━━━━━━━━━━━━━━━━━━\u001b[0m \u001b[32m61.0/61.0 kB\u001b[0m \u001b[31m850.5 kB/s\u001b[0m eta \u001b[36m0:00:00\u001b[0m\n",
            "\u001b[?25hCollecting scipy<1.14.0,>=1.7.0 (from gensim)\n",
            "  Downloading scipy-1.13.1-cp311-cp311-manylinux_2_17_x86_64.manylinux2014_x86_64.whl.metadata (60 kB)\n",
            "\u001b[2K     \u001b[90m━━━━━━━━━━━━━━━━━━━━━━━━━━━━━━━━━━━━━━━━\u001b[0m \u001b[32m60.6/60.6 kB\u001b[0m \u001b[31m2.5 MB/s\u001b[0m eta \u001b[36m0:00:00\u001b[0m\n",
            "\u001b[?25hRequirement already satisfied: smart-open>=1.8.1 in /usr/local/lib/python3.11/dist-packages (from gensim) (7.1.0)\n",
            "Requirement already satisfied: wrapt in /usr/local/lib/python3.11/dist-packages (from smart-open>=1.8.1->gensim) (1.17.2)\n",
            "Downloading gensim-4.3.3-cp311-cp311-manylinux_2_17_x86_64.manylinux2014_x86_64.whl (26.7 MB)\n",
            "\u001b[2K   \u001b[90m━━━━━━━━━━━━━━━━━━━━━━━━━━━━━━━━━━━━━━━━\u001b[0m \u001b[32m26.7/26.7 MB\u001b[0m \u001b[31m58.5 MB/s\u001b[0m eta \u001b[36m0:00:00\u001b[0m\n",
            "\u001b[?25hDownloading numpy-1.26.4-cp311-cp311-manylinux_2_17_x86_64.manylinux2014_x86_64.whl (18.3 MB)\n",
            "\u001b[2K   \u001b[90m━━━━━━━━━━━━━━━━━━━━━━━━━━━━━━━━━━━━━━━━\u001b[0m \u001b[32m18.3/18.3 MB\u001b[0m \u001b[31m38.0 MB/s\u001b[0m eta \u001b[36m0:00:00\u001b[0m\n",
            "\u001b[?25hDownloading scipy-1.13.1-cp311-cp311-manylinux_2_17_x86_64.manylinux2014_x86_64.whl (38.6 MB)\n",
            "\u001b[2K   \u001b[90m━━━━━━━━━━━━━━━━━━━━━━━━━━━━━━━━━━━━━━━━\u001b[0m \u001b[32m38.6/38.6 MB\u001b[0m \u001b[31m15.7 MB/s\u001b[0m eta \u001b[36m0:00:00\u001b[0m\n",
            "\u001b[?25hInstalling collected packages: numpy, scipy, gensim\n",
            "  Attempting uninstall: numpy\n",
            "    Found existing installation: numpy 2.0.2\n",
            "    Uninstalling numpy-2.0.2:\n",
            "      Successfully uninstalled numpy-2.0.2\n",
            "  Attempting uninstall: scipy\n",
            "    Found existing installation: scipy 1.14.1\n",
            "    Uninstalling scipy-1.14.1:\n",
            "      Successfully uninstalled scipy-1.14.1\n",
            "\u001b[31mERROR: pip's dependency resolver does not currently take into account all the packages that are installed. This behaviour is the source of the following dependency conflicts.\n",
            "thinc 8.3.6 requires numpy<3.0.0,>=2.0.0, but you have numpy 1.26.4 which is incompatible.\u001b[0m\u001b[31m\n",
            "\u001b[0mSuccessfully installed gensim-4.3.3 numpy-1.26.4 scipy-1.13.1\n"
          ]
        }
      ]
    },
    {
      "cell_type": "code",
      "execution_count": 1,
      "metadata": {
        "id": "10a4faa3",
        "colab": {
          "base_uri": "https://localhost:8080/"
        },
        "outputId": "266b6883-8736-44e2-93c1-d9452d791557"
      },
      "outputs": [
        {
          "output_type": "stream",
          "name": "stdout",
          "text": [
            "--2025-04-15 04:53:02--  https://data.deepai.org/conll2003.zip\n",
            "Resolving data.deepai.org (data.deepai.org)... 143.244.49.179, 2400:52e0:1a01::900:1\n",
            "Connecting to data.deepai.org (data.deepai.org)|143.244.49.179|:443... connected.\n",
            "HTTP request sent, awaiting response... 200 OK\n",
            "Length: 982975 (960K) [application/zip]\n",
            "Saving to: ‘conll2003.zip.1’\n",
            "\n",
            "conll2003.zip.1     100%[===================>] 959.94K  5.49MB/s    in 0.2s    \n",
            "\n",
            "2025-04-15 04:53:02 (5.49 MB/s) - ‘conll2003.zip.1’ saved [982975/982975]\n",
            "\n",
            "Archive:  conll2003.zip\n",
            "replace metadata? [y]es, [n]o, [A]ll, [N]one, [r]ename: n\n",
            "replace test.txt? [y]es, [n]o, [A]ll, [N]one, [r]ename: n\n",
            "replace train.txt? [y]es, [n]o, [A]ll, [N]one, [r]ename: n\n",
            "replace valid.txt? [y]es, [n]o, [A]ll, [N]one, [r]ename: n\n"
          ]
        }
      ],
      "source": [
        "!wget https://data.deepai.org/conll2003.zip # Download dataset\n",
        "!unzip conll2003.zip # Unzip dataset zip"
      ]
    },
    {
      "cell_type": "markdown",
      "metadata": {
        "id": "7643dde5"
      },
      "source": [
        "## 2. Preprocess Dataset"
      ]
    },
    {
      "cell_type": "markdown",
      "metadata": {
        "id": "XqbmxSb47Z-V"
      },
      "source": [
        "Now that we have the dataset, let's first take a look at its structure. Each line in the dataset contains a word followed by its part-of-speech tag, syntactic chunk tag, and named entity tag. We'll focus on the words and their named entity tags."
      ]
    },
    {
      "cell_type": "code",
      "execution_count": 2,
      "metadata": {
        "id": "d31874b2",
        "colab": {
          "base_uri": "https://localhost:8080/"
        },
        "outputId": "d2d33950-2706-4c60-faac-c79d4d2bcf19"
      },
      "outputs": [
        {
          "output_type": "execute_result",
          "data": {
            "text/plain": [
              "['-DOCSTART- -X- -X- O',\n",
              " '',\n",
              " 'EU NNP B-NP B-ORG',\n",
              " 'rejects VBZ B-VP O',\n",
              " 'German JJ B-NP B-MISC',\n",
              " 'call NN I-NP O',\n",
              " 'to TO B-VP O',\n",
              " 'boycott VB I-VP O',\n",
              " 'British JJ B-NP B-MISC',\n",
              " 'lamb NN I-NP O',\n",
              " '. . O O',\n",
              " '',\n",
              " 'Peter NNP B-NP B-PER',\n",
              " 'Blackburn NNP I-NP I-PER',\n",
              " '',\n",
              " 'BRUSSELS NNP B-NP B-LOC',\n",
              " '1996-08-22 CD I-NP O',\n",
              " '',\n",
              " 'The DT B-NP O',\n",
              " 'European NNP I-NP B-ORG',\n",
              " 'Commission NNP I-NP I-ORG',\n",
              " 'said VBD B-VP O',\n",
              " 'on IN B-PP O',\n",
              " 'Thursday NNP B-NP O',\n",
              " 'it PRP B-NP O',\n",
              " 'disagreed VBD B-VP O',\n",
              " 'with IN B-PP O',\n",
              " 'German JJ B-NP B-MISC',\n",
              " 'advice NN I-NP O',\n",
              " 'to TO B-PP O',\n",
              " 'consumers NNS B-NP O',\n",
              " 'to TO B-VP O',\n",
              " 'shun VB I-VP O',\n",
              " 'British JJ B-NP B-MISC',\n",
              " 'lamb NN I-NP O',\n",
              " 'until IN B-SBAR O',\n",
              " 'scientists NNS B-NP O',\n",
              " 'determine VBP B-VP O',\n",
              " 'whether IN B-SBAR O',\n",
              " 'mad JJ B-NP O',\n",
              " 'cow NN I-NP O',\n",
              " 'disease NN I-NP O',\n",
              " 'can MD B-VP O',\n",
              " 'be VB I-VP O',\n",
              " 'transmitted VBN I-VP O',\n",
              " 'to TO B-PP O',\n",
              " 'sheep NN B-NP O',\n",
              " '. . O O',\n",
              " '',\n",
              " 'Germany NNP B-NP B-LOC',\n",
              " \"'s POS B-NP O\",\n",
              " 'representative NN I-NP O',\n",
              " 'to TO B-PP O',\n",
              " 'the DT B-NP O',\n",
              " 'European NNP I-NP B-ORG',\n",
              " 'Union NNP I-NP I-ORG',\n",
              " \"'s POS B-NP O\",\n",
              " 'veterinary JJ I-NP O',\n",
              " 'committee NN I-NP O',\n",
              " 'Werner NNP I-NP B-PER',\n",
              " 'Zwingmann NNP I-NP I-PER',\n",
              " 'said VBD B-VP O',\n",
              " 'on IN B-PP O',\n",
              " 'Wednesday NNP B-NP O',\n",
              " 'consumers NNS I-NP O',\n",
              " 'should MD B-VP O',\n",
              " 'buy VB I-VP O',\n",
              " 'sheepmeat NN B-NP O',\n",
              " 'from IN B-PP O',\n",
              " 'countries NNS B-NP O']"
            ]
          },
          "metadata": {},
          "execution_count": 2
        }
      ],
      "source": [
        "with open(\"train.txt\") as f:\n",
        "  string = ''.join(f.readlines())\n",
        "dataset = string.split('\\n')\n",
        "\n",
        "dataset[:70]  # Display the first 70 lines of the dataset"
      ]
    },
    {
      "cell_type": "markdown",
      "metadata": {
        "id": "ksflfQCc7Z-W"
      },
      "source": [
        "### 2.1 Organizing Text into Sentences\n",
        "\n",
        "The dataset contains sentences separated by empty lines. We'll group the words into sentences to maintain the context for each word. The `groupby` function from `itertools` helps us split the data based on empty lines."
      ]
    },
    {
      "cell_type": "code",
      "execution_count": 3,
      "metadata": {
        "id": "49e7f34b",
        "scrolled": true,
        "colab": {
          "base_uri": "https://localhost:8080/"
        },
        "outputId": "9ae676d2-9ce4-4d4f-94b5-130d81bd6ad7"
      },
      "outputs": [
        {
          "output_type": "execute_result",
          "data": {
            "text/plain": [
              "[['-DOCSTART- -X- -X- O'],\n",
              " ['EU NNP B-NP B-ORG',\n",
              "  'rejects VBZ B-VP O',\n",
              "  'German JJ B-NP B-MISC',\n",
              "  'call NN I-NP O',\n",
              "  'to TO B-VP O',\n",
              "  'boycott VB I-VP O',\n",
              "  'British JJ B-NP B-MISC',\n",
              "  'lamb NN I-NP O',\n",
              "  '. . O O'],\n",
              " ['Peter NNP B-NP B-PER', 'Blackburn NNP I-NP I-PER'],\n",
              " ['BRUSSELS NNP B-NP B-LOC', '1996-08-22 CD I-NP O'],\n",
              " ['The DT B-NP O',\n",
              "  'European NNP I-NP B-ORG',\n",
              "  'Commission NNP I-NP I-ORG',\n",
              "  'said VBD B-VP O',\n",
              "  'on IN B-PP O',\n",
              "  'Thursday NNP B-NP O',\n",
              "  'it PRP B-NP O',\n",
              "  'disagreed VBD B-VP O',\n",
              "  'with IN B-PP O',\n",
              "  'German JJ B-NP B-MISC',\n",
              "  'advice NN I-NP O',\n",
              "  'to TO B-PP O',\n",
              "  'consumers NNS B-NP O',\n",
              "  'to TO B-VP O',\n",
              "  'shun VB I-VP O',\n",
              "  'British JJ B-NP B-MISC',\n",
              "  'lamb NN I-NP O',\n",
              "  'until IN B-SBAR O',\n",
              "  'scientists NNS B-NP O',\n",
              "  'determine VBP B-VP O',\n",
              "  'whether IN B-SBAR O',\n",
              "  'mad JJ B-NP O',\n",
              "  'cow NN I-NP O',\n",
              "  'disease NN I-NP O',\n",
              "  'can MD B-VP O',\n",
              "  'be VB I-VP O',\n",
              "  'transmitted VBN I-VP O',\n",
              "  'to TO B-PP O',\n",
              "  'sheep NN B-NP O',\n",
              "  '. . O O']]"
            ]
          },
          "metadata": {},
          "execution_count": 3
        }
      ],
      "source": [
        "from itertools import groupby\n",
        "\n",
        "dataset_in_sentence = [list(group) for k, group in groupby(dataset, lambda x: x == \"\") if not k]\n",
        "dataset_in_sentence[:5]  # Display the first 5 sentences"
      ]
    },
    {
      "cell_type": "markdown",
      "metadata": {
        "id": "7UzJBJd47Z-W"
      },
      "source": [
        "### 2.2 Filtering Short Sentences\n",
        "\n",
        "Some sentences in the dataset might be too short for our context window approach. Let's filter out sentences that have fewer than 6 words."
      ]
    },
    {
      "cell_type": "code",
      "execution_count": 4,
      "metadata": {
        "id": "65c3dfa8",
        "colab": {
          "base_uri": "https://localhost:8080/"
        },
        "outputId": "7c761478-5a28-489b-fea3-7d8e2e41f03c"
      },
      "outputs": [
        {
          "output_type": "execute_result",
          "data": {
            "text/plain": [
              "10625"
            ]
          },
          "metadata": {},
          "execution_count": 4
        }
      ],
      "source": [
        "# Filter out sentences that are too short for our context window approach\n",
        "filtered_dataset = [sentence for sentence in dataset_in_sentence if len(sentence) > 5]\n",
        "len(filtered_dataset)  # Number of sentences after filtering"
      ]
    },
    {
      "cell_type": "code",
      "execution_count": 5,
      "metadata": {
        "id": "byACWZiOjr3l",
        "colab": {
          "base_uri": "https://localhost:8080/"
        },
        "outputId": "a91730ae-ddcc-4d3b-b65b-9060cc2314e3"
      },
      "outputs": [
        {
          "output_type": "execute_result",
          "data": {
            "text/plain": [
              "['\" \" O O',\n",
              " 'I PRP B-NP O',\n",
              " 'think VBP B-VP O',\n",
              " 'this DT B-NP O',\n",
              " 'is VBZ B-VP O',\n",
              " 'a DT B-NP O',\n",
              " 'bad JJ I-NP O',\n",
              " 'beginning NN I-NP O',\n",
              " '. . O O']"
            ]
          },
          "metadata": {},
          "execution_count": 5
        }
      ],
      "source": [
        "# Check an example sentence\n",
        "filtered_dataset[1000]"
      ]
    },
    {
      "cell_type": "markdown",
      "metadata": {
        "id": "BfPjb0sr7Z-W"
      },
      "source": [
        "### 2.3 Creating Context Windows\n",
        "\n",
        "For each word in a sentence, we'll create a context window that includes the target word and its surrounding words. This context will help our model determine whether a word represents an organization.\n",
        "\n",
        "Let's define a window length and see how the context window looks for each word in a sentence."
      ]
    },
    {
      "cell_type": "code",
      "execution_count": 6,
      "metadata": {
        "id": "a1a1714b",
        "colab": {
          "base_uri": "https://localhost:8080/"
        },
        "outputId": "4a7ea751-b8c1-42cf-dc05-bf04192e2a82"
      },
      "outputs": [
        {
          "output_type": "stream",
          "name": "stdout",
          "text": [
            "word is EU NNP B-NP B-ORG\n",
            "splitted_word is ['EU', 'NNP', 'B-NP', 'B-ORG']\n",
            "EU B-ORG\n",
            "is organization: True\n",
            "prev_words is []\n",
            "next_words is ['rejects', 'German']\n",
            "concatenated_words is ['<pad>', '<pad>', 'EU', 'rejects', 'German']\n",
            "--------------------------------\n",
            "word is rejects VBZ B-VP O\n",
            "splitted_word is ['rejects', 'VBZ', 'B-VP', 'O']\n",
            "rejects O\n",
            "is organization: False\n",
            "prev_words is ['EU']\n",
            "next_words is ['German', 'call']\n",
            "concatenated_words is ['<pad>', 'EU', 'rejects', 'German', 'call']\n",
            "--------------------------------\n",
            "word is German JJ B-NP B-MISC\n",
            "splitted_word is ['German', 'JJ', 'B-NP', 'B-MISC']\n",
            "German B-MISC\n",
            "is organization: False\n",
            "prev_words is ['EU', 'rejects']\n",
            "next_words is ['call', 'to']\n",
            "concatenated_words is ['EU', 'rejects', 'German', 'call', 'to']\n",
            "--------------------------------\n",
            "word is call NN I-NP O\n",
            "splitted_word is ['call', 'NN', 'I-NP', 'O']\n",
            "call O\n",
            "is organization: False\n",
            "prev_words is ['rejects', 'German']\n",
            "next_words is ['to', 'boycott']\n",
            "concatenated_words is ['rejects', 'German', 'call', 'to', 'boycott']\n",
            "--------------------------------\n",
            "word is to TO B-VP O\n",
            "splitted_word is ['to', 'TO', 'B-VP', 'O']\n",
            "to O\n",
            "is organization: False\n",
            "prev_words is ['German', 'call']\n",
            "next_words is ['boycott', 'British']\n",
            "concatenated_words is ['German', 'call', 'to', 'boycott', 'British']\n",
            "--------------------------------\n",
            "word is boycott VB I-VP O\n",
            "splitted_word is ['boycott', 'VB', 'I-VP', 'O']\n",
            "boycott O\n",
            "is organization: False\n",
            "prev_words is ['call', 'to']\n",
            "next_words is ['British', 'lamb']\n",
            "concatenated_words is ['call', 'to', 'boycott', 'British', 'lamb']\n",
            "--------------------------------\n",
            "word is British JJ B-NP B-MISC\n",
            "splitted_word is ['British', 'JJ', 'B-NP', 'B-MISC']\n",
            "British B-MISC\n",
            "is organization: False\n",
            "prev_words is ['to', 'boycott']\n",
            "next_words is ['lamb', '.']\n",
            "concatenated_words is ['to', 'boycott', 'British', 'lamb', '.']\n",
            "--------------------------------\n",
            "word is lamb NN I-NP O\n",
            "splitted_word is ['lamb', 'NN', 'I-NP', 'O']\n",
            "lamb O\n",
            "is organization: False\n",
            "prev_words is ['boycott', 'British']\n",
            "next_words is ['.']\n",
            "concatenated_words is ['boycott', 'British', 'lamb', '.', '<pad>']\n",
            "--------------------------------\n",
            "word is . . O O\n",
            "splitted_word is ['.', '.', 'O', 'O']\n",
            ". O\n",
            "is organization: False\n",
            "prev_words is ['British', 'lamb']\n",
            "next_words is []\n",
            "concatenated_words is ['British', 'lamb', '.', '<pad>', '<pad>']\n",
            "--------------------------------\n"
          ]
        }
      ],
      "source": [
        "window_len = 2  # Number of words to consider on each side of the target word\n",
        "sentence = filtered_dataset[0]  # Example sentence\n",
        "\n",
        "for i, word in enumerate(sentence):\n",
        "  print(f'word is {word}')\n",
        "  splitted_word = word.split(' ')\n",
        "  print(f'splitted_word is {splitted_word}')\n",
        "  center_word = splitted_word[0]        # The actual word\n",
        "  label = splitted_word[-1]             # The entity tag (O, B-ORG, I-ORG, etc.)\n",
        "  print(center_word, label)\n",
        "  is_organization = label in ['B-ORG', 'I-ORG']  # Binary label: is this an organization?\n",
        "  print(f\"is organization: {is_organization}\")\n",
        "\n",
        "  # Collecting words to the left of the target word\n",
        "  prev_index = max(i - window_len, 0)  # Prevent negative indices\n",
        "  prev_words = sentence[prev_index:i]\n",
        "  prev_words = [word_str.split(' ')[0] for word_str in prev_words]  # Extract just the words\n",
        "\n",
        "  # Collecting words to the right of the target word\n",
        "  next_index = i + window_len + 1\n",
        "  next_words = sentence[i+1:next_index]\n",
        "  next_words = [word_str.split(' ')[0] for word_str in next_words]\n",
        "\n",
        "  print(f\"prev_words is {prev_words}\")\n",
        "  print(f\"next_words is {next_words}\")\n",
        "\n",
        "  # Add padding if there aren't enough words on either side\n",
        "  if len(prev_words) != window_len:\n",
        "    prev_words = ['<pad>'] * (window_len - len(prev_words)) + prev_words\n",
        "\n",
        "  if len(next_words) != window_len:\n",
        "    next_words = next_words + ['<pad>'] * (window_len - len(next_words))\n",
        "\n",
        "  # The final context window: previous words + target word + next words\n",
        "  concatenated_words = prev_words + [center_word] + next_words\n",
        "  print(f\"concatenated_words is {concatenated_words}\")\n",
        "  print(\"--------------------------------\")"
      ]
    },
    {
      "cell_type": "markdown",
      "metadata": {
        "id": "bNjz9IRP7Z-X"
      },
      "source": [
        "### 2.4 Creating Context Windows for All Sentences\n",
        "\n",
        "Now, let's create a function to generate context windows for all words in a sentence, and apply it to our entire dataset."
      ]
    },
    {
      "cell_type": "code",
      "execution_count": 7,
      "metadata": {
        "id": "z1WVzcMGlZoh",
        "colab": {
          "base_uri": "https://localhost:8080/"
        },
        "outputId": "94f9574c-f827-4126-e948-477b92f35774"
      },
      "outputs": [
        {
          "output_type": "execute_result",
          "data": {
            "text/plain": [
              "[(['<pad>', '<pad>', 'EU', 'rejects', 'German'], True),\n",
              " (['<pad>', 'EU', 'rejects', 'German', 'call'], False),\n",
              " (['EU', 'rejects', 'German', 'call', 'to'], False),\n",
              " (['rejects', 'German', 'call', 'to', 'boycott'], False),\n",
              " (['German', 'call', 'to', 'boycott', 'British'], False),\n",
              " (['call', 'to', 'boycott', 'British', 'lamb'], False),\n",
              " (['to', 'boycott', 'British', 'lamb', '.'], False),\n",
              " (['boycott', 'British', 'lamb', '.', '<pad>'], False),\n",
              " (['British', 'lamb', '.', '<pad>', '<pad>'], False)]"
            ]
          },
          "metadata": {},
          "execution_count": 7
        }
      ],
      "source": [
        "def make_window_words_and_label_from_sentence(sentence):\n",
        "  total_output = []\n",
        "  for i, word in enumerate(sentence):\n",
        "    splitted_word = word.split(' ')\n",
        "    center_word = splitted_word[0]\n",
        "    label = splitted_word[-1]\n",
        "    is_organization = label in ['B-ORG', 'I-ORG']\n",
        "\n",
        "    # Concatenating with neighboring words\n",
        "    # Words to the left\n",
        "    prev_index = max(i - window_len, 0)  # Clipping minimum to zero\n",
        "    prev_words = sentence[prev_index:i]\n",
        "    prev_words = [word_str.split(' ')[0] for word_str in prev_words]  # Collect the main word\n",
        "\n",
        "    # Words to the right\n",
        "    next_index = i + window_len + 1\n",
        "    next_words = sentence[i+1:next_index]\n",
        "    next_words = [word_str.split(' ')[0] for word_str in next_words]\n",
        "\n",
        "    # Add padding if needed\n",
        "    if len(prev_words) != window_len:\n",
        "      prev_words = ['<pad>'] * (window_len - len(prev_words)) + prev_words\n",
        "\n",
        "    if len(next_words) != window_len:\n",
        "      next_words = next_words + ['<pad>'] * (window_len - len(next_words))\n",
        "\n",
        "    concatenated_words = prev_words + [center_word] + next_words\n",
        "    total_output.append((concatenated_words, is_organization))\n",
        "  return total_output\n",
        "\n",
        "# Test the function on our example sentence\n",
        "make_window_words_and_label_from_sentence(sentence)"
      ]
    },
    {
      "cell_type": "markdown",
      "metadata": {
        "id": "SZyER4rt7Z-X"
      },
      "source": [
        "### 2.5 Processing the Entire Dataset\n",
        "\n",
        "Now let's apply this function to all sentences in our dataset and flatten the result to get a list of (context_window, label) pairs."
      ]
    },
    {
      "cell_type": "code",
      "execution_count": 8,
      "metadata": {
        "id": "Ddb7t7PEmHfS"
      },
      "outputs": [],
      "source": [
        "# Process all sentences and flatten the result\n",
        "entire_dataset = [make_window_words_and_label_from_sentence(sentence) for sentence in filtered_dataset]\n",
        "# Flatten the nested list\n",
        "entire_dataset = [windowed_word for sentence in entire_dataset for windowed_word in sentence]"
      ]
    },
    {
      "cell_type": "code",
      "execution_count": 9,
      "metadata": {
        "id": "gmQSEfE0mcOc",
        "colab": {
          "base_uri": "https://localhost:8080/"
        },
        "outputId": "4f8fb763-ca5d-4649-af13-6f2f2370c967"
      },
      "outputs": [
        {
          "output_type": "execute_result",
          "data": {
            "text/plain": [
              "192587"
            ]
          },
          "metadata": {},
          "execution_count": 9
        }
      ],
      "source": [
        "len(entire_dataset)  # Total number of words with context windows"
      ]
    },
    {
      "cell_type": "code",
      "execution_count": 10,
      "metadata": {
        "id": "baTBawNXmg-s",
        "colab": {
          "base_uri": "https://localhost:8080/"
        },
        "outputId": "790bd788-5390-49de-ab6a-7c96c9f6a2d6"
      },
      "outputs": [
        {
          "output_type": "execute_result",
          "data": {
            "text/plain": [
              "(['eight', 'in', 'a', 'row', ','], False)"
            ]
          },
          "metadata": {},
          "execution_count": 10
        }
      ],
      "source": [
        "entire_dataset[10000]  # Example of a (context_window, label) pair"
      ]
    },
    {
      "cell_type": "markdown",
      "metadata": {
        "id": "VO2eMP4Y7Z-X"
      },
      "source": [
        "## 3. Word Embeddings\n",
        "\n",
        "To feed our text data into a neural network, we need to convert words into numerical vectors. We'll use pre-trained GloVe word embeddings, which capture semantic relationships between words based on their co-occurrence in a large corpus."
      ]
    },
    {
      "cell_type": "code",
      "execution_count": 11,
      "metadata": {
        "id": "hPO83i3UKV8C",
        "colab": {
          "base_uri": "https://localhost:8080/"
        },
        "outputId": "70d0b76e-b5dc-4c2c-8bb0-22690107074b"
      },
      "outputs": [
        {
          "output_type": "stream",
          "name": "stdout",
          "text": [
            "[==================================================] 100.0% 376.1/376.1MB downloaded\n"
          ]
        }
      ],
      "source": [
        "import gensim.downloader\n",
        "\n",
        "# Load pre-trained GloVe word embeddings (300-dimensional vectors)\n",
        "wrd2vec = gensim.downloader.load(\"glove-wiki-gigaword-300\")"
      ]
    },
    {
      "cell_type": "code",
      "execution_count": 12,
      "metadata": {
        "id": "BtVJXmXnLoN8",
        "colab": {
          "base_uri": "https://localhost:8080/"
        },
        "outputId": "2d563146-5621-46dc-903d-6877c029beba"
      },
      "outputs": [
        {
          "output_type": "execute_result",
          "data": {
            "text/plain": [
              "400000"
            ]
          },
          "metadata": {},
          "execution_count": 12
        }
      ],
      "source": [
        "len(wrd2vec)  # Number of words in the vocabulary"
      ]
    },
    {
      "cell_type": "markdown",
      "metadata": {
        "id": "va_FJ6X67Z-X"
      },
      "source": [
        "### 3.1 Converting Words to Vectors\n",
        "\n",
        "We need to convert each context window into a single feature vector. We'll do this by:\n",
        "1. Converting each word in the context window to its vector representation\n",
        "2. Concatenating these vectors to form a single feature vector\n",
        "\n",
        "For words not in the GloVe vocabulary, we'll use zero vectors."
      ]
    },
    {
      "cell_type": "code",
      "execution_count": 13,
      "metadata": {
        "id": "a0VrL0q2mvKB",
        "colab": {
          "base_uri": "https://localhost:8080/"
        },
        "outputId": "cd886f47-b651-46c4-b0a8-4de5bc8c91fc"
      },
      "outputs": [
        {
          "output_type": "execute_result",
          "data": {
            "text/plain": [
              "(1500,)"
            ]
          },
          "metadata": {},
          "execution_count": 13
        }
      ],
      "source": [
        "import numpy as np\n",
        "data_example = entire_dataset[0]\n",
        "word_list, label = data_example\n",
        "\n",
        "# Function to convert a list of words into a single concatenated vector\n",
        "def get_flattened_vector(word_list:list, wrd2vec):\n",
        "  cat_vector = []\n",
        "\n",
        "  for word in word_list:\n",
        "    if word.lower() in wrd2vec:\n",
        "      vector = wrd2vec[word.lower()]\n",
        "    else:\n",
        "      vector = np.zeros(300)\n",
        "    cat_vector.append(vector)\n",
        "  cat_vector = np.concatenate(cat_vector)\n",
        "  #print(cat_vector.shape)\n",
        "  return cat_vector\n",
        "\n",
        "# Check the shape of the resulting vector (5 words x 300 dimensions = 1500)\n",
        "get_flattened_vector(word_list, wrd2vec).shape"
      ]
    },
    {
      "cell_type": "code",
      "source": [
        "word = word_list[3]\n",
        "wrd2vec[word].shape\n",
        "cat_vector = []\n",
        "\n",
        "for word in word_list:\n",
        "  if word.lower() in wrd2vec:\n",
        "    vector = wrd2vec[word.lower()]\n",
        "  else:\n",
        "    vector = np.zeros(300)\n",
        "  cat_vector.append(vector)\n",
        "cat_vector = np.concatenate(cat_vector)\n",
        "print(cat_vector.shape)"
      ],
      "metadata": {
        "colab": {
          "base_uri": "https://localhost:8080/"
        },
        "id": "tUfaQJ4HD_3o",
        "outputId": "df24343e-caf3-4bf5-e314-f5e2323dbbe3"
      },
      "execution_count": 14,
      "outputs": [
        {
          "output_type": "stream",
          "name": "stdout",
          "text": [
            "(1500,)\n"
          ]
        }
      ]
    },
    {
      "cell_type": "markdown",
      "metadata": {
        "id": "F2ATwsDO7Z-X"
      },
      "source": [
        "## 4. Building a Neural Network Classifier\n",
        "\n",
        "Now we'll create a simple neural network model to predict whether a word represents an organization based on its context. The model will take the concatenated word vectors as input and output a probability."
      ]
    },
    {
      "cell_type": "code",
      "source": [
        "import torch\n",
        "import torch.nn as nn\n",
        "\n",
        "class Classifier(nn.Module):\n",
        "  def __init__(self):\n",
        "    super().__init__()\n",
        "    self.layer1 = nn.Linear(in_features=1500, out_features=128)\n",
        "    self.layer2 = nn.Linear(in_features=128, out_features=1)\n",
        "\n",
        "  def forward(self, x):\n",
        "    layer1output = self.layer1(x)\n",
        "    layer2output = self.layer2(layer1output.relu())\n",
        "    return layer2output.sigmoid()\n",
        "  pass\n",
        "\n",
        "\n",
        "# Test the model with a sample input\n",
        "input_vec = get_flattened_vector(word_list, wrd2vec)\n",
        "model = Classifier()\n",
        "# model = Classifier(input_size=1500, hidden_size=47, output_size=1)\n",
        "model(torch.Tensor(input_vec))\n",
        "\n"
      ],
      "metadata": {
        "colab": {
          "base_uri": "https://localhost:8080/"
        },
        "id": "lmbxCvknJhLg",
        "outputId": "b46b121c-e8ec-4717-a3e3-bd23cafc1bf1"
      },
      "execution_count": 15,
      "outputs": [
        {
          "output_type": "execute_result",
          "data": {
            "text/plain": [
              "tensor([0.4965], grad_fn=<SigmoidBackward0>)"
            ]
          },
          "metadata": {},
          "execution_count": 15
        }
      ]
    },
    {
      "cell_type": "markdown",
      "metadata": {
        "id": "L7hpYlLCuxIm"
      },
      "source": [
        "# 5. Creating a Dataset Class\n",
        "\n",
        "To make training more efficient, we'll create a custom Dataset class that handles data loading and preprocessing."
      ]
    },
    {
      "cell_type": "markdown",
      "metadata": {
        "id": "3oX1SgN97Z-X"
      },
      "source": [
        "Our custom Dataset class will:\n",
        "1. Load and preprocess the CoNLL2003 dataset\n",
        "2. Create context windows for each word\n",
        "3. Convert words to vectors\n",
        "4. Provide an interface for accessing (feature, label) pairs\n",
        "\n",
        "This follows PyTorch's Dataset conventions, making it easy to use with DataLoader for batch processing."
      ]
    },
    {
      "cell_type": "code",
      "execution_count": 16,
      "metadata": {
        "id": "o4PtExeIoVkh",
        "colab": {
          "base_uri": "https://localhost:8080/"
        },
        "outputId": "816923e0-284f-4718-c948-b08223c5cdc7"
      },
      "outputs": [
        {
          "output_type": "stream",
          "name": "stdout",
          "text": [
            "192587\n"
          ]
        },
        {
          "output_type": "execute_result",
          "data": {
            "text/plain": [
              "(array([ 0.        ,  0.        ,  0.        , ..., -0.19499999,\n",
              "         0.20411   ,  0.35297999]),\n",
              " True)"
            ]
          },
          "metadata": {},
          "execution_count": 16
        }
      ],
      "source": [
        "class Dataset:\n",
        "  def __init__(self, txt_fn=\"train.txt\", wrd2vec=None, window_len=2):\n",
        "    self.window_len = window_len\n",
        "    text_lines = self.load_txt_and_split(txt_fn)\n",
        "    dataset_in_sentence = self.group_by_sentence(text_lines)\n",
        "    filtered_dataset = [sentence for sentence in dataset_in_sentence if len(sentence) > 5]\n",
        "    entire_dataset = [self.make_window_words_and_label_from_sentence(sentence) for sentence in filtered_dataset]\n",
        "    self.entire_data = self.flatten_list_of_list(entire_dataset)\n",
        "    self.wrd2vec = wrd2vec\n",
        "    # self.window_len = window_len 여기에 declare하면 함수가 먼저 읽어지니까 에러남\n",
        "\n",
        "  @staticmethod\n",
        "  def flatten_list_of_list(list_of_list): # in staticmehtod, we don't use self as an argument\n",
        "    return [y for x in list_of_list for y in x]\n",
        "    #  We don't use any of self.attribute or self.method() or something\n",
        "    # [ [1,2,3], [5,7,8], [0,1] ] -> [1,2,3,5,7,8,0,1]\n",
        "\n",
        "\n",
        "  def make_window_words_and_label_from_sentence(self, sentence):\n",
        "    total_output = []\n",
        "    window_len = self.window_len\n",
        "    for i, word in enumerate(sentence):\n",
        "      splitted_word = word.split(' ')\n",
        "      center_word = splitted_word[0]\n",
        "      label = splitted_word[-1]\n",
        "      is_organization = label in ['B-ORG', 'I-ORG']\n",
        "\n",
        "      # concatenating with neighboring words\n",
        "      # words in the left\n",
        "      prev_index = max(i - window_len, 0)  # clipping minimum to zero\n",
        "      prev_words = sentence[prev_index:i]\n",
        "      prev_words = [word_str.split(' ')[0] for word_str in prev_words]  # collect the main word\n",
        "\n",
        "      # words in the right\n",
        "      next_index = i + window_len + 1\n",
        "      next_words = sentence[i+1:next_index]\n",
        "      next_words = [word_str.split(' ')[0] for word_str in next_words]\n",
        "\n",
        "      # Add padding if needed\n",
        "      if len(prev_words) != window_len:\n",
        "        prev_words = ['<pad>'] * (window_len - len(prev_words)) + prev_words\n",
        "\n",
        "      if len(next_words) != window_len:\n",
        "        next_words = next_words + ['<pad>'] * (window_len - len(next_words))\n",
        "\n",
        "      concatenated_words = prev_words + [center_word] + next_words\n",
        "      total_output.append((concatenated_words, is_organization))\n",
        "    return total_output\n",
        "\n",
        "  @staticmethod\n",
        "  def group_by_sentence(text_lines:list):\n",
        "    return [list(group) for k, group in groupby(text_lines, lambda x: x == \"\") if not k]\n",
        "\n",
        "  @staticmethod\n",
        "  def load_txt_and_split(txt_fn):\n",
        "    with open(txt_fn) as f:\n",
        "      string = ''.join(f.readlines())\n",
        "    dataset = string.split('\\n')\n",
        "    return dataset\n",
        "\n",
        "  # def _load_txt_and_split(self, txt_fn=\"train.txt\"):\n",
        "  #   with open(txt_fn) as f:\n",
        "  #     string = ''.join(f.readlines())\n",
        "  #   dataset = string.split('\\n')\n",
        "  #   return dataset\n",
        "\n",
        "  # __getitem__ and __len__ is the most important part of the dataset\n",
        "  def __getitem__(self, idx):\n",
        "    # This function is called when we call dataset[idx]\n",
        "    # It has to return idx-th item\n",
        "    data_sample = self.entire_data[idx]\n",
        "    # print(f'data_sample: {data_sample}')\n",
        "    windowed_words, label = data_sample\n",
        "    # print(f'windowed_words: {windowed_words}')\n",
        "    flattened_vector = self.get_flattened_vector(windowed_words, self.wrd2vec)\n",
        "    # print(f'flattened_vector: {flattened_vector}')\n",
        "    return flattened_vector, label\n",
        "\n",
        "  def __len__(self):\n",
        "    # This function is called when we call len(dataset)\n",
        "    # In dataset, we want to get the total number of data sample\n",
        "    return len(self.entire_data)\n",
        "\n",
        "  @staticmethod\n",
        "  def get_flattened_vector(word_list:list, wrd2vec):\n",
        "    flattened_vec = []\n",
        "    for word in word_list:\n",
        "      word = word.lower()\n",
        "      if word in wrd2vec:\n",
        "        vec = wrd2vec[word]\n",
        "      else:\n",
        "        vec = np.zeros(300)\n",
        "      flattened_vec.append(vec)\n",
        "    flattened_vec = np.concatenate(flattened_vec)\n",
        "    return flattened_vec\n",
        "\n",
        "# Create a dataset instance\n",
        "dataset = Dataset(wrd2vec=wrd2vec)\n",
        "print(len(dataset))\n",
        "dataset[0]  # Check a sample"
      ]
    },
    {
      "cell_type": "markdown",
      "metadata": {
        "id": "BDmn84317Z-Y"
      },
      "source": [
        "### 5.1 Creating a Data Loader\n",
        "\n",
        "Now we'll create a data loader that will efficiently batch our data for training. We need a custom collate function to handle our data format."
      ]
    },
    {
      "cell_type": "code",
      "execution_count": 17,
      "metadata": {
        "id": "WyD4aKwS0P54",
        "colab": {
          "base_uri": "https://localhost:8080/"
        },
        "outputId": "c1f051c7-6664-4481-9fd7-994fcff94b20"
      },
      "outputs": [
        {
          "output_type": "stream",
          "name": "stderr",
          "text": [
            "<ipython-input-17-c01f41fc495f>:7: UserWarning: Creating a tensor from a list of numpy.ndarrays is extremely slow. Please consider converting the list to a single numpy.ndarray with numpy.array() before converting to a tensor. (Triggered internally at /pytorch/torch/csrc/utils/tensor_new.cpp:254.)\n",
            "  return torch.tensor(vector).float(), torch.tensor(label).float()\n"
          ]
        },
        {
          "output_type": "execute_result",
          "data": {
            "text/plain": [
              "(tensor([[ 0.0000,  0.0000,  0.0000,  ..., -0.1950,  0.2041,  0.3530],\n",
              "         [ 0.0000,  0.0000,  0.0000,  ..., -0.2705, -0.1292, -0.0133],\n",
              "         [ 0.5473, -0.2364, -0.2143,  ..., -0.1604,  0.0467, -0.0706]]),\n",
              " tensor([1., 0., 0.]))"
            ]
          },
          "metadata": {},
          "execution_count": 17
        }
      ],
      "source": [
        "from typing import List, Tuple\n",
        "from torch.utils.data import DataLoader\n",
        "\n",
        "def custom_collate_fn(raw_batch:List[Tuple[np.ndarray, bool]]):\n",
        "  vector = [vector for vector, label in raw_batch]\n",
        "  label = [label for vector, label in raw_batch]\n",
        "  return torch.tensor(vector).float(), torch.tensor(label).float()\n",
        "  # add torch.tensor(vector).float() since Error: mat1 and mat2 must have the same dtype, but got Double and Float\n",
        "\n",
        "\n",
        "# Create a data loader\n",
        "train_loader = DataLoader(dataset, batch_size=32, collate_fn=custom_collate_fn, shuffle=True) # Adding 'shuffle=True', you can get random index.\n",
        "\n",
        "# Test our custom collate function\n",
        "raw_batch = [dataset[i] for i in range(3)]  # This is how DataLoader calls its dataset\n",
        "custom_collate_fn(raw_batch)  # And it feeds this raw_batch to collate_fn"
      ]
    },
    {
      "cell_type": "code",
      "source": [
        "for batch in train_loader:\n",
        "  print(batch)\n",
        "  break"
      ],
      "metadata": {
        "colab": {
          "base_uri": "https://localhost:8080/"
        },
        "id": "Eo9FEuHM1nSf",
        "outputId": "e568a6f5-36fa-44c0-a65d-31b225890745"
      },
      "execution_count": 18,
      "outputs": [
        {
          "output_type": "stream",
          "name": "stdout",
          "text": [
            "(tensor([[-0.2117,  0.1462,  0.0605,  ..., -0.3422, -0.0224,  0.1368],\n",
            "        [ 0.0000,  0.0000,  0.0000,  ..., -0.1301,  0.3195,  0.0234],\n",
            "        [-0.0892,  0.9644, -0.0840,  ..., -1.2129,  0.7766,  0.1933],\n",
            "        ...,\n",
            "        [-0.2687,  0.0124, -0.0439,  ...,  0.1396, -1.1386, -0.4506],\n",
            "        [-0.4116,  0.0194,  0.2853,  ..., -0.7578,  0.3193, -0.1188],\n",
            "        [ 0.3241,  0.1680, -0.2468,  ...,  0.0000,  0.0000,  0.0000]]), tensor([0., 0., 0., 0., 0., 0., 0., 0., 0., 0., 0., 0., 0., 0., 0., 0., 0., 0.,\n",
            "        1., 1., 0., 0., 0., 0., 0., 0., 0., 0., 0., 0., 0., 0.]))\n"
          ]
        }
      ]
    },
    {
      "cell_type": "markdown",
      "metadata": {
        "id": "N58G8p9D7Z-Y"
      },
      "source": [
        "## 6. Training the Model\n",
        "\n",
        "Before training, we need to define a loss function. We'll use Binary Cross-Entropy (BCE) loss, which is appropriate for binary classification."
      ]
    },
    {
      "cell_type": "code",
      "execution_count": 19,
      "metadata": {
        "id": "cZF_1rQo33fW"
      },
      "outputs": [],
      "source": [
        "def get_bce(pred, target, eps=1e-4):\n",
        "  loss =  -(target * torch.log(pred + eps) + (1 - target) * torch.log(1 - pred + eps))\n",
        "  return loss.mean()"
      ]
    },
    {
      "cell_type": "code",
      "source": [
        "print(batch)\n",
        "vector, label = batch\n",
        "model = Classifier()\n",
        "pred = model(vector)\n",
        "pred = pred.squeeze(1) # if not, pred.shape = torch.Size([32, 1])\n",
        "# pred.shape, label.shape\n",
        "pred, label\n",
        "loss = get_bce(pred, label)\n",
        "print(loss)"
      ],
      "metadata": {
        "colab": {
          "base_uri": "https://localhost:8080/"
        },
        "id": "527s4x1y3d23",
        "outputId": "9f6b7c5a-e542-4896-a51f-432a7dff9bce"
      },
      "execution_count": 20,
      "outputs": [
        {
          "output_type": "stream",
          "name": "stdout",
          "text": [
            "(tensor([[-0.2117,  0.1462,  0.0605,  ..., -0.3422, -0.0224,  0.1368],\n",
            "        [ 0.0000,  0.0000,  0.0000,  ..., -0.1301,  0.3195,  0.0234],\n",
            "        [-0.0892,  0.9644, -0.0840,  ..., -1.2129,  0.7766,  0.1933],\n",
            "        ...,\n",
            "        [-0.2687,  0.0124, -0.0439,  ...,  0.1396, -1.1386, -0.4506],\n",
            "        [-0.4116,  0.0194,  0.2853,  ..., -0.7578,  0.3193, -0.1188],\n",
            "        [ 0.3241,  0.1680, -0.2468,  ...,  0.0000,  0.0000,  0.0000]]), tensor([0., 0., 0., 0., 0., 0., 0., 0., 0., 0., 0., 0., 0., 0., 0., 0., 0., 0.,\n",
            "        1., 1., 0., 0., 0., 0., 0., 0., 0., 0., 0., 0., 0., 0.]))\n",
            "tensor(0.7245, grad_fn=<MeanBackward0>)\n"
          ]
        }
      ]
    },
    {
      "cell_type": "markdown",
      "metadata": {
        "id": "dDHfkCYN7Z-Y"
      },
      "source": [
        "Now let's train our model. We'll:\n",
        "1. Create the model with appropriate dimensions\n",
        "2. Define an optimizer (Adam)\n",
        "3. Train for multiple epochs\n",
        "4. Record the loss for plotting"
      ]
    },
    {
      "cell_type": "code",
      "execution_count": 21,
      "metadata": {
        "id": "zXMvJlDI3OAb",
        "colab": {
          "base_uri": "https://localhost:8080/",
          "height": 17,
          "referenced_widgets": [
            "537b2bb15c4f47609e7fe4854872567e",
            "21114723aa854369b65488a43f09c0bd",
            "f6768659962e4cf7a8c72689a27cd52b",
            "166d6dcfc69a4a1c95c1efc7b7e46447",
            "50c519ad7b774886b7722c08793c2655",
            "fe3db584978845e1810c6fdaa7fac417",
            "62fe0fd0ffdf4f81814accfabc1b7dd8",
            "6741a4bf18874752817c0a665f0facfb",
            "f9839f4ad9504696a577da4fe902eef1",
            "4ab90288167d4f09a54b811994d8d68a",
            "33cc475f99a34bb49abeeab554359b5f"
          ]
        },
        "outputId": "1e4b46e1-e6a8-4198-e95c-7fc41db8facb"
      },
      "outputs": [
        {
          "output_type": "display_data",
          "data": {
            "text/plain": [
              "  0%|          | 0/1505 [00:00<?, ?it/s]"
            ],
            "application/vnd.jupyter.widget-view+json": {
              "version_major": 2,
              "version_minor": 0,
              "model_id": "537b2bb15c4f47609e7fe4854872567e"
            }
          },
          "metadata": {}
        }
      ],
      "source": [
        "from tqdm.auto import tqdm\n",
        "\n",
        "# Initialize model\n",
        "model = Classifier()\n",
        "optimizer = torch.optim.Adam(model.parameters(), lr=1e-3)  # Adam optimizer\n",
        "train_loader = DataLoader(dataset, batch_size=128, collate_fn=custom_collate_fn, shuffle=True)\n",
        "dev = 'cuda'  # Use GPU if available\n",
        "\n",
        "model.to(dev)  # Move model to GPU\n",
        "loss_record = []  # To track progress\n",
        "num_epochs = 1\n",
        "\n",
        "for epoch in range(num_epochs):\n",
        "  for batch in tqdm(train_loader, leave=False):  # Use tqdm for progress bar\n",
        "    vector, label = batch\n",
        "    vector = vector.to(dev)\n",
        "    label = label.to(dev)\n",
        "    pred = model(vector).squeeze() # add squeeze\n",
        "    loss = get_bce(pred, label)\n",
        "    loss.backward()\n",
        "    optimizer.step()\n",
        "    optimizer.zero_grad()\n",
        "    loss_record.append(loss.item())"
      ]
    },
    {
      "cell_type": "markdown",
      "metadata": {
        "id": "GlTUmVr37Z-Y"
      },
      "source": [
        "### 6.1 Visualizing Training Progress\n",
        "\n",
        "Let's plot the loss over time to see how our training progressed."
      ]
    },
    {
      "cell_type": "code",
      "execution_count": 22,
      "metadata": {
        "id": "8XxKaeOe6Es3",
        "colab": {
          "base_uri": "https://localhost:8080/",
          "height": 490
        },
        "outputId": "85bf9a4f-ed38-4d0c-fd87-e1d15cd3a17f"
      },
      "outputs": [
        {
          "output_type": "execute_result",
          "data": {
            "text/plain": [
              "Text(0, 0.5, 'Binary Cross-Entropy Loss')"
            ]
          },
          "metadata": {},
          "execution_count": 22
        },
        {
          "output_type": "display_data",
          "data": {
            "text/plain": [
              "<Figure size 640x480 with 1 Axes>"
            ],
            "image/png": "[encoded data removed]"
          },
          "metadata": {}
        }
      ],
      "source": [
        "import matplotlib.pyplot as plt\n",
        "plt.plot(loss_record)\n",
        "plt.title('Training Loss')\n",
        "plt.xlabel('Iterations')\n",
        "plt.ylabel('Binary Cross-Entropy Loss')"
      ]
    },
    {
      "cell_type": "markdown",
      "metadata": {
        "id": "B3rgGqTz7Z-b"
      },
      "source": [
        "## 7. Evaluating the Model\n",
        "\n",
        "Now that we've trained our model, let's evaluate it on the test set. We'll calculate metrics like precision and recall to see how well it identifies organizations."
      ]
    },
    {
      "cell_type": "code",
      "execution_count": 23,
      "metadata": {
        "id": "8w8-CIf98Gwz",
        "colab": {
          "base_uri": "https://localhost:8080/"
        },
        "outputId": "a14dad69-7239-4bbd-eb25-5d875f4049b7"
      },
      "outputs": [
        {
          "output_type": "execute_result",
          "data": {
            "text/plain": [
              "Classifier(\n",
              "  (layer1): Linear(in_features=1500, out_features=128, bias=True)\n",
              "  (layer2): Linear(in_features=128, out_features=1, bias=True)\n",
              ")"
            ]
          },
          "metadata": {},
          "execution_count": 23
        }
      ],
      "source": [
        "# Create a test dataset and loader\n",
        "testset = Dataset('test.txt', wrd2vec=wrd2vec)\n",
        "test_loader = DataLoader(testset, batch_size=200, collate_fn=custom_collate_fn)\n",
        "\n",
        "model.eval()  # Set the model to evaluation mode\n",
        "model.cpu()"
      ]
    },
    {
      "cell_type": "code",
      "source": [
        "batch = next(iter(test_loader))\n",
        "input_vector, label = batch\n",
        "prediction = model(input_vector)\n",
        "loss = get_bce(prediction, label)\n",
        "loss"
      ],
      "metadata": {
        "colab": {
          "base_uri": "https://localhost:8080/"
        },
        "id": "Z1HcFCvTMVgK",
        "outputId": "ba3b920a-87db-47bf-b7f2-7867a56d93ac"
      },
      "execution_count": 24,
      "outputs": [
        {
          "output_type": "execute_result",
          "data": {
            "text/plain": [
              "tensor(0.0332, grad_fn=<MeanBackward0>)"
            ]
          },
          "metadata": {},
          "execution_count": 24
        }
      ]
    },
    {
      "cell_type": "code",
      "source": [
        "threshold = 0.3\n",
        "pred_bool = prediction > threshold\n",
        "pred_bool.sum()\n",
        "is_correct = pred_bool.squeeze() == label\n",
        "is_correct.sum()\n",
        "\n",
        "accuracy = is_correct.sum() / label.numel() # num_correct_guess / num_entire_problem\n",
        "accuracy"
      ],
      "metadata": {
        "colab": {
          "base_uri": "https://localhost:8080/"
        },
        "id": "IeRDlTSCNWJG",
        "outputId": "cbb431ef-7550-443b-ef39-c0b5c9712211"
      },
      "execution_count": 31,
      "outputs": [
        {
          "output_type": "execute_result",
          "data": {
            "text/plain": [
              "tensor(0.9750)"
            ]
          },
          "metadata": {},
          "execution_count": 31
        }
      ]
    },
    {
      "cell_type": "code",
      "source": [
        "# In this kind of unbalanced dataset, we have to calculate precision, recall\n",
        "\n",
        "# precision = among the predicted result, how many of those are truly positive\n",
        "# Among the words that are predicted as ORG_name, how many of them are actually ORG_name\n",
        "\n",
        "predicted_true_and_label_true = pred_bool.squeeze() * label # multiplication  is logicaly AND\n",
        "\n",
        "precision = predicted_true_and_label_true.sum() / pred_bool.sum()\n",
        "\n",
        "# recall = among the ground-truth-True samples, how many of those are predicted TRUE\n",
        "recall = predicted_true_and_label_true.sum() / label.sum()\n",
        "precision, recall, predicted_true_and_label_true.sum(), pred_bool.sum(), label.sum()"
      ],
      "metadata": {
        "colab": {
          "base_uri": "https://localhost:8080/"
        },
        "id": "hnmNn47Vy8Eg",
        "outputId": "67382c2e-1178-4ffc-b6c5-9bd0553bc2ee"
      },
      "execution_count": 32,
      "outputs": [
        {
          "output_type": "execute_result",
          "data": {
            "text/plain": [
              "(tensor(0.), tensor(nan), tensor(0.), tensor(5), tensor(0.))"
            ]
          },
          "metadata": {},
          "execution_count": 32
        }
      ]
    },
    {
      "cell_type": "markdown",
      "metadata": {
        "id": "TKB82rFc7Z-b"
      },
      "source": [
        "## 8. Using the Model for Inference\n",
        "\n",
        "Finally, let's use our trained model to predict whether words in a new sentence are organizations."
      ]
    },
    {
      "cell_type": "code",
      "execution_count": 33,
      "metadata": {
        "id": "lcnjh0QN6buk",
        "colab": {
          "base_uri": "https://localhost:8080/"
        },
        "outputId": "76c91dd0-064e-4232-eed2-5b2f7a77ffc7"
      },
      "outputs": [
        {
          "output_type": "execute_result",
          "data": {
            "text/plain": [
              "tensor([0.0252], device='cuda:0', grad_fn=<SigmoidBackward0>)"
            ]
          },
          "metadata": {},
          "execution_count": 33
        }
      ],
      "source": [
        "# Test on a new sentence\n",
        "model.to(dev)\n",
        "test_str = \"students are studying in library\"\n",
        "test_words = test_str.split(' ')\n",
        "converted_vector = Dataset.get_flattened_vector(test_words, dataset.wrd2vec)\n",
        "converted_vector = torch.Tensor(converted_vector)\n",
        "prediction = model(converted_vector.to(dev))\n",
        "prediction  # Probability that the center word is an organization"
      ]
    },
    {
      "cell_type": "markdown",
      "metadata": {
        "id": "zbuGD2vn7Z-c"
      },
      "source": [
        "## Conclusion\n",
        "\n",
        "In this notebook, we've built a Named Entity Recognition system that identifies organizations in text. We:\n",
        "\n",
        "1. Processed the CoNLL2003 dataset to create context windows for each word\n",
        "2. Used pre-trained GloVe word embeddings to convert words to vectors\n",
        "3. Built a simple neural network classifier\n",
        "4. Trained the model on the training set\n",
        "5. Evaluated the model on the test set\n",
        "6. Used the model for inference on new text\n",
        "\n",
        "This model could be extended to identify other types of entities (people, locations, etc.) by modifying the labels. More advanced NER systems might use architectures like BiLSTMs or Transformers for better performance."
      ]
    }
  ],
  "metadata": {
    "accelerator": "GPU",
    "colab": {
      "provenance": [],
      "include_colab_link": true
    },
    "gpuClass": "standard",
    "kernelspec": {
      "display_name": "Python 3",
      "language": "python",
      "name": "python3"
    },
    "language_info": {
      "codemirror_mode": {
        "name": "ipython",
        "version": 3
      },
      "file_extension": ".py",
      "mimetype": "text/x-python",
      "name": "python",
      "nbconvert_exporter": "python",
      "pygments_lexer": "ipython3",
      "version": "3.10.12"
    },
    "nbformat": 4,
    "nbformat_minor": 5,
    "widgets": {
      "application/vnd.jupyter.widget-state+json": {
        "537b2bb15c4f47609e7fe4854872567e": {
          "model_module": "@jupyter-widgets/controls",
          "model_name": "HBoxModel",
          "model_module_version": "1.5.0",
          "state": {
            "_dom_classes": [],
            "_model_module": "@jupyter-widgets/controls",
            "_model_module_version": "1.5.0",
            "_model_name": "HBoxModel",
            "_view_count": null,
            "_view_module": "@jupyter-widgets/controls",
            "_view_module_version": "1.5.0",
            "_view_name": "HBoxView",
            "box_style": "",
            "children": [
              "IPY_MODEL_21114723aa854369b65488a43f09c0bd",
              "IPY_MODEL_f6768659962e4cf7a8c72689a27cd52b",
              "IPY_MODEL_166d6dcfc69a4a1c95c1efc7b7e46447"
            ],
            "layout": "IPY_MODEL_50c519ad7b774886b7722c08793c2655"
          }
        },
        "21114723aa854369b65488a43f09c0bd": {
          "model_module": "@jupyter-widgets/controls",
          "model_name": "HTMLModel",
          "model_module_version": "1.5.0",
          "state": {
            "_dom_classes": [],
            "_model_module": "@jupyter-widgets/controls",
            "_model_module_version": "1.5.0",
            "_model_name": "HTMLModel",
            "_view_count": null,
            "_view_module": "@jupyter-widgets/controls",
            "_view_module_version": "1.5.0",
            "_view_name": "HTMLView",
            "description": "",
            "description_tooltip": null,
            "layout": "IPY_MODEL_fe3db584978845e1810c6fdaa7fac417",
            "placeholder": "​",
            "style": "IPY_MODEL_62fe0fd0ffdf4f81814accfabc1b7dd8",
            "value": "100%"
          }
        },
        "f6768659962e4cf7a8c72689a27cd52b": {
          "model_module": "@jupyter-widgets/controls",
          "model_name": "FloatProgressModel",
          "model_module_version": "1.5.0",
          "state": {
            "_dom_classes": [],
            "_model_module": "@jupyter-widgets/controls",
            "_model_module_version": "1.5.0",
            "_model_name": "FloatProgressModel",
            "_view_count": null,
            "_view_module": "@jupyter-widgets/controls",
            "_view_module_version": "1.5.0",
            "_view_name": "ProgressView",
            "bar_style": "",
            "description": "",
            "description_tooltip": null,
            "layout": "IPY_MODEL_6741a4bf18874752817c0a665f0facfb",
            "max": 1505,
            "min": 0,
            "orientation": "horizontal",
            "style": "IPY_MODEL_f9839f4ad9504696a577da4fe902eef1",
            "value": 1505
          }
        },
        "166d6dcfc69a4a1c95c1efc7b7e46447": {
          "model_module": "@jupyter-widgets/controls",
          "model_name": "HTMLModel",
          "model_module_version": "1.5.0",
          "state": {
            "_dom_classes": [],
            "_model_module": "@jupyter-widgets/controls",
            "_model_module_version": "1.5.0",
            "_model_name": "HTMLModel",
            "_view_count": null,
            "_view_module": "@jupyter-widgets/controls",
            "_view_module_version": "1.5.0",
            "_view_name": "HTMLView",
            "description": "",
            "description_tooltip": null,
            "layout": "IPY_MODEL_4ab90288167d4f09a54b811994d8d68a",
            "placeholder": "​",
            "style": "IPY_MODEL_33cc475f99a34bb49abeeab554359b5f",
            "value": " 1503/1505 [00:49&lt;00:00, 33.20it/s]"
          }
        },
        "50c519ad7b774886b7722c08793c2655": {
          "model_module": "@jupyter-widgets/base",
          "model_name": "LayoutModel",
          "model_module_version": "1.2.0",
          "state": {
            "_model_module": "@jupyter-widgets/base",
            "_model_module_version": "1.2.0",
            "_model_name": "LayoutModel",
            "_view_count": null,
            "_view_module": "@jupyter-widgets/base",
            "_view_module_version": "1.2.0",
            "_view_name": "LayoutView",
            "align_content": null,
            "align_items": null,
            "align_self": null,
            "border": null,
            "bottom": null,
            "display": null,
            "flex": null,
            "flex_flow": null,
            "grid_area": null,
            "grid_auto_columns": null,
            "grid_auto_flow": null,
            "grid_auto_rows": null,
            "grid_column": null,
            "grid_gap": null,
            "grid_row": null,
            "grid_template_areas": null,
            "grid_template_columns": null,
            "grid_template_rows": null,
            "height": null,
            "justify_content": null,
            "justify_items": null,
            "left": null,
            "margin": null,
            "max_height": null,
            "max_width": null,
            "min_height": null,
            "min_width": null,
            "object_fit": null,
            "object_position": null,
            "order": null,
            "overflow": null,
            "overflow_x": null,
            "overflow_y": null,
            "padding": null,
            "right": null,
            "top": null,
            "visibility": "hidden",
            "width": null
          }
        },
        "fe3db584978845e1810c6fdaa7fac417": {
          "model_module": "@jupyter-widgets/base",
          "model_name": "LayoutModel",
          "model_module_version": "1.2.0",
          "state": {
            "_model_module": "@jupyter-widgets/base",
            "_model_module_version": "1.2.0",
            "_model_name": "LayoutModel",
            "_view_count": null,
            "_view_module": "@jupyter-widgets/base",
            "_view_module_version": "1.2.0",
            "_view_name": "LayoutView",
            "align_content": null,
            "align_items": null,
            "align_self": null,
            "border": null,
            "bottom": null,
            "display": null,
            "flex": null,
            "flex_flow": null,
            "grid_area": null,
            "grid_auto_columns": null,
            "grid_auto_flow": null,
            "grid_auto_rows": null,
            "grid_column": null,
            "grid_gap": null,
            "grid_row": null,
            "grid_template_areas": null,
            "grid_template_columns": null,
            "grid_template_rows": null,
            "height": null,
            "justify_content": null,
            "justify_items": null,
            "left": null,
            "margin": null,
            "max_height": null,
            "max_width": null,
            "min_height": null,
            "min_width": null,
            "object_fit": null,
            "object_position": null,
            "order": null,
            "overflow": null,
            "overflow_x": null,
            "overflow_y": null,
            "padding": null,
            "right": null,
            "top": null,
            "visibility": null,
            "width": null
          }
        },
        "62fe0fd0ffdf4f81814accfabc1b7dd8": {
          "model_module": "@jupyter-widgets/controls",
          "model_name": "DescriptionStyleModel",
          "model_module_version": "1.5.0",
          "state": {
            "_model_module": "@jupyter-widgets/controls",
            "_model_module_version": "1.5.0",
            "_model_name": "DescriptionStyleModel",
            "_view_count": null,
            "_view_module": "@jupyter-widgets/base",
            "_view_module_version": "1.2.0",
            "_view_name": "StyleView",
            "description_width": ""
          }
        },
        "6741a4bf18874752817c0a665f0facfb": {
          "model_module": "@jupyter-widgets/base",
          "model_name": "LayoutModel",
          "model_module_version": "1.2.0",
          "state": {
            "_model_module": "@jupyter-widgets/base",
            "_model_module_version": "1.2.0",
            "_model_name": "LayoutModel",
            "_view_count": null,
            "_view_module": "@jupyter-widgets/base",
            "_view_module_version": "1.2.0",
            "_view_name": "LayoutView",
            "align_content": null,
            "align_items": null,
            "align_self": null,
            "border": null,
            "bottom": null,
            "display": null,
            "flex": null,
            "flex_flow": null,
            "grid_area": null,
            "grid_auto_columns": null,
            "grid_auto_flow": null,
            "grid_auto_rows": null,
            "grid_column": null,
            "grid_gap": null,
            "grid_row": null,
            "grid_template_areas": null,
            "grid_template_columns": null,
            "grid_template_rows": null,
            "height": null,
            "justify_content": null,
            "justify_items": null,
            "left": null,
            "margin": null,
            "max_height": null,
            "max_width": null,
            "min_height": null,
            "min_width": null,
            "object_fit": null,
            "object_position": null,
            "order": null,
            "overflow": null,
            "overflow_x": null,
            "overflow_y": null,
            "padding": null,
            "right": null,
            "top": null,
            "visibility": null,
            "width": null
          }
        },
        "f9839f4ad9504696a577da4fe902eef1": {
          "model_module": "@jupyter-widgets/controls",
          "model_name": "ProgressStyleModel",
          "model_module_version": "1.5.0",
          "state": {
            "_model_module": "@jupyter-widgets/controls",
            "_model_module_version": "1.5.0",
            "_model_name": "ProgressStyleModel",
            "_view_count": null,
            "_view_module": "@jupyter-widgets/base",
            "_view_module_version": "1.2.0",
            "_view_name": "StyleView",
            "bar_color": null,
            "description_width": ""
          }
        },
        "4ab90288167d4f09a54b811994d8d68a": {
          "model_module": "@jupyter-widgets/base",
          "model_name": "LayoutModel",
          "model_module_version": "1.2.0",
          "state": {
            "_model_module": "@jupyter-widgets/base",
            "_model_module_version": "1.2.0",
            "_model_name": "LayoutModel",
            "_view_count": null,
            "_view_module": "@jupyter-widgets/base",
            "_view_module_version": "1.2.0",
            "_view_name": "LayoutView",
            "align_content": null,
            "align_items": null,
            "align_self": null,
            "border": null,
            "bottom": null,
            "display": null,
            "flex": null,
            "flex_flow": null,
            "grid_area": null,
            "grid_auto_columns": null,
            "grid_auto_flow": null,
            "grid_auto_rows": null,
            "grid_column": null,
            "grid_gap": null,
            "grid_row": null,
            "grid_template_areas": null,
            "grid_template_columns": null,
            "grid_template_rows": null,
            "height": null,
            "justify_content": null,
            "justify_items": null,
            "left": null,
            "margin": null,
            "max_height": null,
            "max_width": null,
            "min_height": null,
            "min_width": null,
            "object_fit": null,
            "object_position": null,
            "order": null,
            "overflow": null,
            "overflow_x": null,
            "overflow_y": null,
            "padding": null,
            "right": null,
            "top": null,
            "visibility": null,
            "width": null
          }
        },
        "33cc475f99a34bb49abeeab554359b5f": {
          "model_module": "@jupyter-widgets/controls",
          "model_name": "DescriptionStyleModel",
          "model_module_version": "1.5.0",
          "state": {
            "_model_module": "@jupyter-widgets/controls",
            "_model_module_version": "1.5.0",
            "_model_name": "DescriptionStyleModel",
            "_view_count": null,
            "_view_module": "@jupyter-widgets/base",
            "_view_module_version": "1.2.0",
            "_view_name": "StyleView",
            "description_width": ""
          }
        }
      }
    }
  },
  "nbformat": 4,
  "nbformat_minor": 0
}