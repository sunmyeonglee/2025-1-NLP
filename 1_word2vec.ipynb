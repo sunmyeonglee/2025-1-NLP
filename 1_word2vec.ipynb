{
  "cells": [
    {
      "cell_type": "markdown",
      "metadata": {
        "id": "view-in-github",
        "colab_type": "text"
      },
      "source": [
        "<a href=\"https://colab.research.google.com/github/sunmyeonglee/2025-1-NLP/blob/main/1_word2vec.ipynb\" target=\"_parent\"><img src=\"https://colab.research.google.com/assets/colab-badge.svg\" alt=\"Open In Colab\"/></a>"
      ]
    },
    {
      "cell_type": "markdown",
      "metadata": {
        "id": "WXQsDEWukzqU"
      },
      "source": [
        "# Word2Vec Implementation from Scratch\n",
        "\n",
        "This notebook demonstrates how to implement the Word2Vec algorithm from scratch using PyTorch. We'll use the first Harry Potter book as our corpus to train word embeddings.\n"
      ]
    },
    {
      "cell_type": "markdown",
      "metadata": {
        "id": "bnl2eGwPkzqW"
      },
      "source": [
        "## 1. Setting Up the Environment\n",
        "\n",
        "First, we need to import the necessary libraries:\n",
        "- `torch` and `torch.nn` for tensor operations and neural network functionality\n",
        "- `string` for string manipulations (removing punctuation)\n"
      ]
    },
    {
      "cell_type": "code",
      "execution_count": 2,
      "metadata": {
        "id": "L9BA5Lg2QRMr"
      },
      "outputs": [],
      "source": [
        "import torch\n",
        "import torch.nn as nn\n",
        "import string\n"
      ]
    },
    {
      "cell_type": "markdown",
      "metadata": {
        "id": "0lUq3GHEkzqX"
      },
      "source": [
        "## 2. Getting the Text Data\n",
        "\n",
        "We'll download the first Harry Potter book to use as our corpus."
      ]
    },
    {
      "cell_type": "code",
      "execution_count": 3,
      "metadata": {
        "id": "tEaaz_s0QRMs",
        "colab": {
          "base_uri": "https://localhost:8080/"
        },
        "outputId": "41f05c09-3ac6-43f3-8de2-8a6e39255868"
      },
      "outputs": [
        {
          "output_type": "stream",
          "name": "stdout",
          "text": [
            "--2025-03-20 04:46:54--  https://raw.githubusercontent.com/amephraim/nlp/master/texts/J.%20K.%20Rowling%20-%20Harry%20Potter%201%20-%20Sorcerer's%20Stone.txt\n",
            "Resolving raw.githubusercontent.com (raw.githubusercontent.com)... 185.199.108.133, 185.199.109.133, 185.199.110.133, ...\n",
            "Connecting to raw.githubusercontent.com (raw.githubusercontent.com)|185.199.108.133|:443... connected.\n",
            "HTTP request sent, awaiting response... 200 OK\n",
            "Length: 439742 (429K) [text/plain]\n",
            "Saving to: ‘J. K. Rowling - Harry Potter 1 - Sorcerer's Stone.txt’\n",
            "\n",
            "\r          J. K. Row   0%[                    ]       0  --.-KB/s               \rJ. K. Rowling - Har 100%[===================>] 429.44K  --.-KB/s    in 0.03s   \n",
            "\n",
            "2025-03-20 04:46:54 (14.5 MB/s) - ‘J. K. Rowling - Harry Potter 1 - Sorcerer's Stone.txt’ saved [439742/439742]\n",
            "\n"
          ]
        }
      ],
      "source": [
        "!wget \"https://raw.githubusercontent.com/amephraim/nlp/master/texts/J.%20K.%20Rowling%20-%20Harry%20Potter%201%20-%20Sorcerer's%20Stone.txt\"\n"
      ]
    },
    {
      "cell_type": "markdown",
      "metadata": {
        "id": "RZzrT5mfkzqX"
      },
      "source": [
        "## 3. Text Preprocessing\n",
        "\n",
        "Before we can use the text data, we need to preprocess it:\n",
        "- Remove punctuation\n",
        "- Convert text to lowercase\n",
        "- Split text into tokens (words)\n",
        "\n",
        "This function will help us clean and tokenize the text."
      ]
    },
    {
      "cell_type": "code",
      "execution_count": 4,
      "metadata": {
        "id": "CUsXJYlIQRMs"
      },
      "outputs": [],
      "source": [
        "def remove_punctuation(x):\n",
        "  return x.translate(''.maketrans('', '', string.punctuation))\n",
        "\n",
        "def make_tokenized_corpus(corpus):\n",
        "  out= [ [y.lower() for y in remove_punctuation(sentence).split(' ') if y] for sentence in corpus]\n",
        "  return [x for x in out if x!=[]]\n"
      ]
    },
    {
      "cell_type": "markdown",
      "metadata": {
        "id": "Cw404pzckzqY"
      },
      "source": [
        "## 4. Loading and Formatting the Text\n",
        "\n",
        "Now we'll load the text file, replace some special characters, and split the text into sentences.\n"
      ]
    },
    {
      "cell_type": "code",
      "execution_count": 5,
      "metadata": {
        "id": "Ry1o-F-bQRMs"
      },
      "outputs": [],
      "source": [
        "with open(\"J. K. Rowling - Harry Potter 1 - Sorcerer's Stone.txt\", 'r') as f:\n",
        "  strings = f.readlines()\n",
        "list_of_sentences = \"\".join(strings).replace('\\n', ' ').replace('Mr.', 'mr').replace('Mrs.', 'mrs').split('. ')"
      ]
    },
    {
      "cell_type": "markdown",
      "metadata": {
        "id": "ORi6DgWjkzqY"
      },
      "source": [
        "Let's tokenize the text using our preprocessing function `make_tokenized_corpus`:"
      ]
    },
    {
      "cell_type": "code",
      "execution_count": 6,
      "metadata": {
        "id": "Ne-pUaxSQRMs",
        "colab": {
          "base_uri": "https://localhost:8080/"
        },
        "outputId": "76a53665-f533-41d5-ce43-0be83f19ef24"
      },
      "outputs": [
        {
          "output_type": "stream",
          "name": "stdout",
          "text": [
            "Harry Potter and the Sorcerer's Stone   CHAPTER ONE  THE BOY WHO LIVED  mr and mrs Dursley, of number four, Privet Drive, were proud to say that they were perfectly normal, thank you very much\n",
            "They were the last people you'd expect to be involved in anything strange or mysterious, because they just didn't hold with such nonsense\n",
            " mr Dursley was the director of a firm called Grunnings, which made drills\n",
            "He was a big, beefy man with hardly any neck, although he did have a very large mustache\n",
            "mrs Dursley was thin and blonde and had nearly twice the usual amount of neck, which came in very useful as she spent so much of her time craning over garden fences, spying on the neighbors\n",
            "The Dursleys had a small son called Dudley and in their opinion there was no finer boy anywhere\n",
            " The Dursleys had everything they wanted, but they also had a secret, and their greatest fear was that somebody would discover it\n",
            "They didn't think they could bear it if anyone found out about the Potters\n",
            "mrs Potter was mrs Dursley's sister, but they hadn't met for several years; in fact, mrs Dursley pretended she didn't have a sister, because her sister and her good-for-nothing husband were as unDursleyish as it was possible to be\n",
            "The Dursleys shuddered to think what the neighbors would say if the Potters arrived in the street\n"
          ]
        }
      ],
      "source": [
        "# Corpus is a list of list of strings (words)\n",
        "\n",
        "for sentence in list_of_sentences[:10]:\n",
        "  print(sentence)"
      ]
    },
    {
      "cell_type": "code",
      "source": [
        "corpus = make_tokenized_corpus(list_of_sentences)\n",
        "\n",
        "type(corpus), type(corpus[0]), type(corpus[0][0])"
      ],
      "metadata": {
        "colab": {
          "base_uri": "https://localhost:8080/"
        },
        "id": "FpiLxjWqn-wG",
        "outputId": "48e9260b-9c45-44d5-fed9-67fcd8eff1b0"
      },
      "execution_count": 7,
      "outputs": [
        {
          "output_type": "execute_result",
          "data": {
            "text/plain": [
              "(list, list, str)"
            ]
          },
          "metadata": {},
          "execution_count": 7
        }
      ]
    },
    {
      "cell_type": "markdown",
      "metadata": {
        "id": "tUqwddUAkzqY"
      },
      "source": [
        "## 5. Creating Context Word Pairs\n",
        "\n",
        "A key concept in Word2Vec is learning from context. We need to create pairs of words that appear near each other in the text. We'll use a sliding window approach to create these pairs.\n",
        "\n",
        "For example, with the window size of 2, for the word \"to\" in the sentence \"they were the last people youd expect to be involved...\", we would create pairs with:\n",
        "- (\"to\", \"expect\")\n",
        "- (\"to\", \"be\")\n",
        "- (\"to\", \"involved\")\n",
        "- (\"to\", \"in\")\n",
        "\n",
        "These pairs will be our training data."
      ]
    },
    {
      "cell_type": "code",
      "execution_count": 8,
      "metadata": {
        "id": "-UxJwTAacWfP",
        "colab": {
          "base_uri": "https://localhost:8080/"
        },
        "outputId": "49522a66-80e2-4ee9-ea8f-1ddc79252ae0"
      },
      "outputs": [
        {
          "output_type": "stream",
          "name": "stderr",
          "text": [
            "100%|██████████| 4682/4682 [00:00<00:00, 7982.27it/s]"
          ]
        },
        {
          "output_type": "stream",
          "name": "stdout",
          "text": [
            "\n",
            "Length of word_pairs is 282372\n",
            "First 5 example of word_pairs is [('harry', 'potter'), ('harry', 'and'), ('potter', 'harry'), ('potter', 'and'), ('potter', 'the')]\n"
          ]
        },
        {
          "output_type": "stream",
          "name": "stderr",
          "text": [
            "\n"
          ]
        }
      ],
      "source": [
        "from tqdm import tqdm\n",
        "\n",
        "sample_sentence = ['they', 'were', 'the', 'last', 'people', 'youd', 'expect', 'to', 'be', 'involved', 'in', 'anything', 'strange', 'or', 'mysterious', 'because', 'they', 'just', 'didnt', 'hold', 'with', 'such', 'nonsense']\n",
        "\n",
        "word_pairs = []\n",
        "window_size = 2\n",
        "\n",
        "for sample_sentence in tqdm(corpus):\n",
        "  for cur_idx, center_word in enumerate(sample_sentence):\n",
        "    window_begin = max(cur_idx - window_size, 0)\n",
        "    window_end = min(cur_idx + window_size + 1, len(sample_sentence))\n",
        "    # for context_word in sample_sentence[window_begin:window_end]:\n",
        "    #   # if center_word == context_word: continue\n",
        "    #   word_pairs.append( (center_word, context_word))\n",
        "    for j in range(window_begin, window_end):\n",
        "      if cur_idx == j: continue\n",
        "      word_pairs.append( (center_word, sample_sentence[j]))\n",
        "\n",
        "print(f\"\\nLength of word_pairs is {len(word_pairs)}\")\n",
        "print(f\"First 5 example of word_pairs is {word_pairs[:5]}\")"
      ]
    },
    {
      "cell_type": "markdown",
      "metadata": {
        "id": "aELIKMG2kzqZ"
      },
      "source": [
        "## 6. Building the Vocabulary\n",
        "\n",
        "To work with word vectors, we need to create a vocabulary that maps each unique word to an index. We'll also filter out rare words that appear less than a certain number of times in the corpus.\n",
        "\n",
        "### 6.1 Collecting All Words\n",
        "\n",
        "First, let's collect all words in our corpus:\n"
      ]
    },
    {
      "cell_type": "code",
      "execution_count": 9,
      "metadata": {
        "id": "htinJiMPkkRE",
        "colab": {
          "base_uri": "https://localhost:8080/"
        },
        "outputId": "6b13aa38-4bd3-4437-ddcc-ac2273d2fe7f"
      },
      "outputs": [
        {
          "output_type": "execute_result",
          "data": {
            "text/plain": [
              "77597"
            ]
          },
          "metadata": {},
          "execution_count": 9
        }
      ],
      "source": [
        "# we have to make vocabulary\n",
        "sentence = corpus[0]\n",
        "entire_words = []\n",
        "\n",
        "for sentence in corpus:\n",
        "  for word in sentence:\n",
        "    entire_words.append(word)\n",
        "\n",
        "len(entire_words)"
      ]
    },
    {
      "cell_type": "markdown",
      "metadata": {
        "id": "ACx84hwWkzqZ"
      },
      "source": [
        "\n",
        "### 6.2 Finding Unique Words\n",
        "\n",
        "Now, let's find the unique words in our corpus:"
      ]
    },
    {
      "cell_type": "code",
      "execution_count": 10,
      "metadata": {
        "id": "ERBFCjeslgDe",
        "colab": {
          "base_uri": "https://localhost:8080/"
        },
        "outputId": "a5b1ac0e-3811-4c12-fe0b-a87b1bec06a4"
      },
      "outputs": [
        {
          "output_type": "execute_result",
          "data": {
            "text/plain": [
              "6038"
            ]
          },
          "metadata": {},
          "execution_count": 10
        }
      ],
      "source": [
        "# we have to get the \"unique\" item among total words\n",
        "\n",
        "vocab_set = set(entire_words)\n",
        "len(vocab_set)\n",
        "\n",
        "unique_words = list(vocab_set)\n",
        "len(unique_words)"
      ]
    },
    {
      "cell_type": "markdown",
      "metadata": {
        "id": "F2gGyVUqkzqZ"
      },
      "source": [
        "### 6.3 Converting to a List and Sorting\n",
        "\n",
        "We'll convert the set of unique words to a sorted list:"
      ]
    },
    {
      "cell_type": "code",
      "execution_count": 11,
      "metadata": {
        "id": "fDJNrHdhl_dk",
        "colab": {
          "base_uri": "https://localhost:8080/",
          "height": 35
        },
        "outputId": "8363c5bc-9733-450d-fcbc-192117ae3994"
      },
      "outputs": [
        {
          "output_type": "execute_result",
          "data": {
            "text/plain": [
              "'\\the'"
            ],
            "application/vnd.google.colaboratory.intrinsic+json": {
              "type": "string"
            }
          },
          "metadata": {},
          "execution_count": 11
        }
      ],
      "source": [
        "# vocab_set[0] # set is not subscriptable because it has no order\n",
        "\n",
        "unique_words = sorted(list(unique_words))\n",
        "unique_words[0]"
      ]
    },
    {
      "cell_type": "markdown",
      "metadata": {
        "id": "coTM3X2ikzqZ"
      },
      "source": [
        "### 6.4 Filtering by Frequency\n",
        "\n",
        "Now, let's filter out rare words that occur less than a specified number of times:\n",
        "- We can use the `Counter` class from the `collections` module to count the frequency of each word in the corpus.\n",
        "- Caution on `alist.sort()` will return `None`."
      ]
    },
    {
      "cell_type": "code",
      "execution_count": 12,
      "metadata": {
        "id": "wOkBSjrkmNE4",
        "colab": {
          "base_uri": "https://localhost:8080/"
        },
        "outputId": "c2f79ae7-32e5-414b-ce2e-65e772488297"
      },
      "outputs": [
        {
          "output_type": "execute_result",
          "data": {
            "text/plain": [
              "['a',\n",
              " 'able',\n",
              " 'abou',\n",
              " 'about',\n",
              " 'above',\n",
              " 'across',\n",
              " 'added',\n",
              " 'afford',\n",
              " 'afraid',\n",
              " 'after']"
            ]
          },
          "metadata": {},
          "execution_count": 12
        }
      ],
      "source": [
        "# how can we filter the vocab by its frequency?\n",
        "filtered_vocab = None\n",
        "# you can use word counter as dictionary\n",
        "# In python dictionary, dict.keys() gives keys, and dict.values() give values,\n",
        "# dict.items() give (key, value)\n",
        "\n",
        "from collections import Counter\n",
        "word_counter = Counter(entire_words)\n",
        "word_counter.most_common(10)\n",
        "word_counter['harry']\n",
        "\n",
        "threshold = 5\n",
        "filtered_vocab = []\n",
        "for key, value in word_counter.items():\n",
        "  if value > threshold:\n",
        "    filtered_vocab.append(key)\n",
        "\n",
        "filtered_vocab.sort()\n",
        "filtered_vocab[:10]"
      ]
    },
    {
      "cell_type": "markdown",
      "metadata": {
        "id": "u3UPyaOQkzqZ"
      },
      "source": [
        "## 7. Filtering Word Pairs\n",
        "\n",
        "Now that we have our filtered vocabulary, we need to filter our word pairs to only include words that are in our vocabulary:"
      ]
    },
    {
      "cell_type": "code",
      "execution_count": 13,
      "metadata": {
        "id": "XUS6U7y7opUp",
        "colab": {
          "base_uri": "https://localhost:8080/"
        },
        "outputId": "a44a0ae5-c4b9-44e6-b076-616864db5cda"
      },
      "outputs": [
        {
          "output_type": "stream",
          "name": "stderr",
          "text": [
            "100%|██████████| 282372/282372 [00:11<00:00, 23648.45it/s]\n"
          ]
        }
      ],
      "source": [
        "# Filter the word_pairs using the vocab\n",
        "# word_pairs, filtered_vocab\n",
        "# word_pairs is a list of [word_a, word_b]\n",
        "\n",
        "filtered_word_pairs = []\n",
        "vocab_set = set(filtered_vocab)\n",
        "\n",
        "for pair in tqdm(word_pairs):\n",
        "  a, b = pair\n",
        "  if a in filtered_vocab and b in filtered_vocab:\n",
        "    filtered_word_pairs.append(pair)"
      ]
    },
    {
      "cell_type": "code",
      "execution_count": 14,
      "metadata": {
        "id": "U-o4UucOrcem"
      },
      "outputs": [],
      "source": [
        "# implement same algorithm with list comprehension\n",
        "\n",
        "filtered_word_pairs = [pair for pair in word_pairs if pair[0] in vocab_set and pair[1] in vocab_set]"
      ]
    },
    {
      "cell_type": "code",
      "execution_count": 15,
      "metadata": {
        "id": "Uz_8ch59ps_P",
        "colab": {
          "base_uri": "https://localhost:8080/"
        },
        "outputId": "e0d661b8-8cdb-4a20-97e3-e13743a4672b"
      },
      "outputs": [
        {
          "output_type": "execute_result",
          "data": {
            "text/plain": [
              "(226846, 282372)"
            ]
          },
          "metadata": {},
          "execution_count": 15
        }
      ],
      "source": [
        "len(filtered_word_pairs), len(word_pairs)"
      ]
    },
    {
      "cell_type": "markdown",
      "metadata": {
        "id": "HrdAwmBykzqZ"
      },
      "source": [
        "## 8. Converting Words to Indices\n",
        "\n",
        "For efficiency, we'll convert our words to indices according to their position in our vocabulary:"
      ]
    },
    {
      "cell_type": "code",
      "execution_count": 16,
      "metadata": {
        "id": "VFJfhOznqyi-",
        "colab": {
          "base_uri": "https://localhost:8080/"
        },
        "outputId": "3c461407-fa62-4ce4-ecc1-8e41d60d0560"
      },
      "outputs": [
        {
          "output_type": "execute_result",
          "data": {
            "text/plain": [
              "527"
            ]
          },
          "metadata": {},
          "execution_count": 16
        }
      ],
      "source": [
        "# convert word into index of vocab\n",
        "# filtered_vocab.index('happily')\n",
        "filtered_vocab.index('harry')"
      ]
    },
    {
      "cell_type": "markdown",
      "metadata": {
        "id": "g1Iv7dxRkzqZ"
      },
      "source": [
        "This is inefficient because `list.index()` has to scan the list every time. Let's use a dictionary for faster lookups:"
      ]
    },
    {
      "cell_type": "code",
      "execution_count": 17,
      "metadata": {
        "id": "2D8n16VitIHP",
        "colab": {
          "base_uri": "https://localhost:8080/"
        },
        "outputId": "4eeaebe8-92b7-4167-ed2d-835481b06594"
      },
      "outputs": [
        {
          "output_type": "execute_result",
          "data": {
            "text/plain": [
              "527"
            ]
          },
          "metadata": {},
          "execution_count": 17
        }
      ],
      "source": [
        "# we can make it faster\n",
        "# use dictionary to find the index of string\n",
        "word2idx = dict()\n",
        "for idx, word in enumerate(filtered_vocab):\n",
        "  word2idx[word] = idx\n",
        "\n",
        "word2idx['harry']"
      ]
    },
    {
      "cell_type": "markdown",
      "metadata": {
        "id": "BQr7ddPnkzqa"
      },
      "source": [
        "Now, let's convert our word pairs to index pairs more efficiently:"
      ]
    },
    {
      "cell_type": "code",
      "execution_count": 18,
      "metadata": {
        "id": "utXemuOgt8-o",
        "colab": {
          "base_uri": "https://localhost:8080/"
        },
        "outputId": "a6d755d5-ec29-4992-82b0-7f3795b1a802"
      },
      "outputs": [
        {
          "output_type": "execute_result",
          "data": {
            "text/plain": [
              "(527, 953)"
            ]
          },
          "metadata": {},
          "execution_count": 18
        }
      ],
      "source": [
        "index_pairs = [(word2idx[pair[0]], word2idx[pair[1]]) for pair in filtered_word_pairs]\n",
        "index_pairs[0]"
      ]
    },
    {
      "cell_type": "code",
      "execution_count": 19,
      "metadata": {
        "id": "KgQ_oSNGuZAd",
        "colab": {
          "base_uri": "https://localhost:8080/",
          "height": 35
        },
        "outputId": "79728a56-bb6b-4773-c7dd-400e56a63293"
      },
      "outputs": [
        {
          "output_type": "execute_result",
          "data": {
            "text/plain": [
              "'harry'"
            ],
            "application/vnd.google.colaboratory.intrinsic+json": {
              "type": "string"
            }
          },
          "metadata": {},
          "execution_count": 19
        }
      ],
      "source": [
        "# Why we don't need idx2tok?\n",
        "\n",
        "filtered_vocab[527]"
      ]
    },
    {
      "cell_type": "markdown",
      "metadata": {
        "id": "2igwOubJkzqa"
      },
      "source": [
        "## 9. Creating Initial Word Vectors\n",
        "\n",
        "Now we'll create random vectors for each word in our vocabulary. These vectors will be adjusted during training:\n",
        "- We can use `torch.randn` to create random vectors that follow normal distribution."
      ]
    },
    {
      "cell_type": "code",
      "execution_count": 20,
      "metadata": {
        "id": "ygV93qzDu4Ls",
        "colab": {
          "base_uri": "https://localhost:8080/"
        },
        "outputId": "f1ec1903-3143-42ff-e880-0ab1b4d55baa"
      },
      "outputs": [
        {
          "output_type": "execute_result",
          "data": {
            "text/plain": [
              "tensor([[-0.0124,  0.0829, -0.0483,  ...,  0.0534, -0.1356, -0.1032],\n",
              "        [-0.0813, -0.0419,  0.1096,  ...,  0.0738, -0.0739, -0.0765],\n",
              "        [-0.0604, -0.1448, -0.0114,  ..., -0.0085, -0.0507, -0.0507],\n",
              "        ...,\n",
              "        [ 0.0722,  0.0876, -0.0965,  ...,  0.0842,  0.0322, -0.0457],\n",
              "        [-0.0476,  0.0510, -0.0890,  ..., -0.2315,  0.1206,  0.0551],\n",
              "        [ 0.0007,  0.0694, -0.0221,  ..., -0.1533, -0.0268,  0.0693]])"
            ]
          },
          "metadata": {},
          "execution_count": 20
        }
      ],
      "source": [
        "# we have to make random vectors for each word in the vocab\n",
        "# we also have to decide the dimension of the vector\n",
        "\n",
        "dim = 100\n",
        "vocab_size = len(filtered_vocab)\n",
        "\n",
        "word_vectors = torch.randn(vocab_size, dim) / 10\n",
        "word_vectors"
      ]
    },
    {
      "cell_type": "code",
      "execution_count": 21,
      "metadata": {
        "id": "vmZcT53rvwW2",
        "colab": {
          "base_uri": "https://localhost:8080/"
        },
        "outputId": "1d58aee1-27c5-4d4b-9269-ac9a2620122e"
      },
      "outputs": [
        {
          "output_type": "execute_result",
          "data": {
            "text/plain": [
              "tensor([ 0.1135,  0.0922, -0.0107,  0.2302,  0.0872, -0.1071, -0.1155, -0.0481,\n",
              "         0.0341,  0.0131, -0.1134, -0.0725, -0.1494, -0.0842, -0.1923, -0.0043,\n",
              "        -0.0182,  0.0025, -0.0130,  0.0004, -0.1578, -0.0950,  0.0114, -0.0695,\n",
              "         0.0222, -0.0447,  0.0081, -0.0524, -0.0580,  0.0531, -0.1617,  0.0366,\n",
              "         0.0006,  0.1494, -0.1193, -0.0283,  0.1395, -0.0770,  0.1175, -0.1774,\n",
              "         0.0281, -0.2518, -0.1144,  0.0343, -0.0375, -0.1438, -0.0705,  0.0879,\n",
              "         0.0670, -0.0391, -0.0186, -0.0102, -0.0120,  0.0077, -0.1177,  0.1268,\n",
              "         0.1821,  0.0365,  0.1456, -0.0744, -0.0426,  0.0289,  0.0071,  0.1051,\n",
              "        -0.0773,  0.0410, -0.1463, -0.0144,  0.2803, -0.0849, -0.2018, -0.1808,\n",
              "        -0.0660, -0.0142, -0.0138, -0.1480, -0.0075,  0.1440,  0.2027, -0.0161,\n",
              "        -0.1862,  0.0309,  0.0975,  0.0306, -0.0144,  0.1110, -0.1405, -0.1502,\n",
              "        -0.0082, -0.0117,  0.0157,  0.0185,  0.0133, -0.1423,  0.0589, -0.2247,\n",
              "        -0.0724, -0.0357,  0.0350,  0.1433])"
            ]
          },
          "metadata": {},
          "execution_count": 21
        }
      ],
      "source": [
        "# what is the vector for harry?\n",
        "word_vectors[word2idx['harry']]"
      ]
    },
    {
      "cell_type": "markdown",
      "metadata": {
        "id": "kUCg10rHkzqa"
      },
      "source": [
        "## 10. Understanding Word Relationships with Dot Products\n",
        "\n",
        "The core of Word2Vec is using dot products to measure relationships between words. Let's explore this concept:"
      ]
    },
    {
      "cell_type": "code",
      "execution_count": 22,
      "metadata": {
        "id": "J4bEKFvUxbVv"
      },
      "outputs": [],
      "source": [
        "torch.set_printoptions(sci_mode=False) # Do this to avoid scientific notation"
      ]
    },
    {
      "cell_type": "markdown",
      "metadata": {
        "id": "VaCMWmD6Suhy"
      },
      "source": [
        "## Dot Product\n",
        "- Assume we have two vectors $a$ and $b$.\n",
        "  - $a = [a_1, a_2, a_3, a_4, ..., a_n]$\n",
        "  - $b = [b_1, b_2, b_3, b_4, ..., b_n]$\n",
        "- $a \\cdot b$ = $\\sum _{i=1}^n a_ib_i$  = $a_1b_1 + a_2b_2 + a_3b_3 + a_4b_4 + ... + a_nb_n$\n",
        "\n",
        "Let's calculate the dot product between \"harry\" and \"potter\":\n"
      ]
    },
    {
      "cell_type": "code",
      "execution_count": 23,
      "metadata": {
        "id": "gsse-jUrw6c2",
        "colab": {
          "base_uri": "https://localhost:8080/"
        },
        "outputId": "453dc6b0-8fe1-47c8-ebe3-2eb4773dc708"
      },
      "outputs": [
        {
          "output_type": "execute_result",
          "data": {
            "text/plain": [
              "tensor(-0.0597)"
            ]
          },
          "metadata": {},
          "execution_count": 23
        }
      ],
      "source": [
        "# calculate P(potter|harry)\n",
        "harry = word_vectors[word2idx['harry']]\n",
        "potter = word_vectors[word2idx['potter']]\n",
        "dot_product_value_between_potter_harry = sum(harry * potter)\n",
        "dot_product_value_between_potter_harry"
      ]
    },
    {
      "cell_type": "code",
      "execution_count": 24,
      "metadata": {
        "id": "wZrLEY36yBNZ",
        "colab": {
          "base_uri": "https://localhost:8080/"
        },
        "outputId": "c62279b3-7605-4d6d-8a56-3baaeda6fbec"
      },
      "outputs": [
        {
          "output_type": "execute_result",
          "data": {
            "text/plain": [
              "{'a': tensor(0.0831),\n",
              " 'able': tensor(0.0892),\n",
              " 'abou': tensor(0.1700),\n",
              " 'about': tensor(0.0123),\n",
              " 'above': tensor(-0.0422),\n",
              " 'across': tensor(-0.1013),\n",
              " 'added': tensor(-0.0162),\n",
              " 'afford': tensor(-0.2145),\n",
              " 'afraid': tensor(0.0356),\n",
              " 'after': tensor(-0.0948),\n",
              " 'afternoon': tensor(0.0923),\n",
              " 'again': tensor(0.0270),\n",
              " 'against': tensor(-0.1651),\n",
              " 'ages': tensor(-0.0419),\n",
              " 'ago': tensor(0.0498),\n",
              " 'agreed': tensor(0.0805),\n",
              " 'ah': tensor(0.0125),\n",
              " 'ahead': tensor(0.0302),\n",
              " 'air': tensor(-0.1065),\n",
              " 'albus': tensor(-0.0609),\n",
              " 'alive': tensor(-0.0157),\n",
              " 'all': tensor(-0.1298),\n",
              " 'alley': tensor(0.0777),\n",
              " 'allowed': tensor(0.0134),\n",
              " 'almost': tensor(-0.0927),\n",
              " 'alone': tensor(0.0419),\n",
              " 'along': tensor(0.0134),\n",
              " 'already': tensor(0.1327),\n",
              " 'also': tensor(0.0066),\n",
              " 'although': tensor(-0.0189),\n",
              " 'always': tensor(0.2100),\n",
              " 'am': tensor(-0.0530),\n",
              " 'an': tensor(-0.2792),\n",
              " 'and': tensor(0.2426),\n",
              " 'angrily': tensor(-0.0309),\n",
              " 'angry': tensor(-0.0026),\n",
              " 'another': tensor(0.0047),\n",
              " 'answer': tensor(-0.1313),\n",
              " 'any': tensor(-0.1403),\n",
              " 'anymore': tensor(-0.0389),\n",
              " 'anyone': tensor(-0.1087),\n",
              " 'anythin': tensor(-0.0754),\n",
              " 'anything': tensor(-0.0751),\n",
              " 'anyway': tensor(-0.1630),\n",
              " 'anywhere': tensor(-0.0256),\n",
              " 'apart': tensor(-0.0614),\n",
              " 'appeared': tensor(-0.1007),\n",
              " 'are': tensor(0.1153),\n",
              " 'arent': tensor(0.0215),\n",
              " 'arm': tensor(-0.0571),\n",
              " 'armor': tensor(0.2451),\n",
              " 'arms': tensor(-0.0578),\n",
              " 'around': tensor(0.0124),\n",
              " 'arrived': tensor(0.0975),\n",
              " 'arts': tensor(-0.0225),\n",
              " 'as': tensor(-0.0506),\n",
              " 'ask': tensor(-0.1271),\n",
              " 'asked': tensor(-0.0292),\n",
              " 'asking': tensor(-0.2217),\n",
              " 'asleep': tensor(0.0139),\n",
              " 'at': tensor(-0.0451),\n",
              " 'attention': tensor(-0.0510),\n",
              " 'aunt': tensor(-0.2460),\n",
              " 'awake': tensor(0.3032),\n",
              " 'away': tensor(0.0577),\n",
              " 'baby': tensor(0.0545),\n",
              " 'back': tensor(0.0399),\n",
              " 'backward': tensor(-0.0286),\n",
              " 'bacon': tensor(-0.1502),\n",
              " 'bad': tensor(0.1436),\n",
              " 'bag': tensor(0.0209),\n",
              " 'ball': tensor(-0.0241),\n",
              " 'balls': tensor(0.1032),\n",
              " 'bane': tensor(0.1386),\n",
              " 'barrier': tensor(-0.1326),\n",
              " 'be': tensor(-0.1566),\n",
              " 'beans': tensor(0.0214),\n",
              " 'beard': tensor(0.1275),\n",
              " 'became': tensor(0.1354),\n",
              " 'because': tensor(-0.0451),\n",
              " 'become': tensor(0.0213),\n",
              " 'bed': tensor(0.2041),\n",
              " 'bedroom': tensor(-0.1013),\n",
              " 'been': tensor(0.0161),\n",
              " 'before': tensor(0.0303),\n",
              " 'began': tensor(-0.2311),\n",
              " 'behind': tensor(-0.1388),\n",
              " 'being': tensor(0.0669),\n",
              " 'believe': tensor(0.1283),\n",
              " 'below': tensor(0.0803),\n",
              " 'beneath': tensor(0.0390),\n",
              " 'bent': tensor(-0.1090),\n",
              " 'best': tensor(0.0274),\n",
              " 'bet': tensor(0.0105),\n",
              " 'better': tensor(-0.0847),\n",
              " 'between': tensor(0.0522),\n",
              " 'big': tensor(-0.0810),\n",
              " 'bill': tensor(0.0316),\n",
              " 'bin': tensor(0.1828),\n",
              " 'binoculars': tensor(-0.0264),\n",
              " 'birthday': tensor(0.1288),\n",
              " 'bit': tensor(-0.0013),\n",
              " 'black': tensor(0.0978),\n",
              " 'blankets': tensor(-0.1056),\n",
              " 'blew': tensor(0.0746),\n",
              " 'blood': tensor(-0.3356),\n",
              " 'bloody': tensor(-0.1366),\n",
              " 'bludger': tensor(-0.0468),\n",
              " 'bludgers': tensor(-0.1207),\n",
              " 'blue': tensor(0.1297),\n",
              " 'board': tensor(-0.1140),\n",
              " 'boat': tensor(-0.0501),\n",
              " 'boats': tensor(-0.1553),\n",
              " 'body': tensor(0.0458),\n",
              " 'book': tensor(-0.0569),\n",
              " 'books': tensor(0.0550),\n",
              " 'both': tensor(-0.1819),\n",
              " 'bottle': tensor(0.2101),\n",
              " 'bottles': tensor(-0.0278),\n",
              " 'bottom': tensor(0.0931),\n",
              " 'bought': tensor(-0.1539),\n",
              " 'bowed': tensor(0.1667),\n",
              " 'box': tensor(-0.0403),\n",
              " 'boy': tensor(-0.0170),\n",
              " 'boys': tensor(0.2727),\n",
              " 'branches': tensor(0.1287),\n",
              " 'brave': tensor(0.1642),\n",
              " 'break': tensor(0.1567),\n",
              " 'breakfast': tensor(0.0571),\n",
              " 'breaking': tensor(-0.1045),\n",
              " 'breath': tensor(0.0682),\n",
              " 'breathing': tensor(0.0250),\n",
              " 'bright': tensor(0.2086),\n",
              " 'brilliant': tensor(-0.1284),\n",
              " 'broke': tensor(-0.0333),\n",
              " 'broken': tensor(0.1451),\n",
              " 'broom': tensor(-0.0420),\n",
              " 'brooms': tensor(0.0416),\n",
              " 'broomstick': tensor(0.0212),\n",
              " 'broomsticks': tensor(-0.0465),\n",
              " 'brother': tensor(0.0220),\n",
              " 'brothers': tensor(-0.1325),\n",
              " 'brought': tensor(0.0699),\n",
              " 'brown': tensor(-0.1267),\n",
              " 'burst': tensor(0.0735),\n",
              " 'business': tensor(-0.0360),\n",
              " 'busy': tensor(0.1042),\n",
              " 'but': tensor(0.0580),\n",
              " 'buy': tensor(0.0653),\n",
              " 'by': tensor(0.1927),\n",
              " 'cake': tensor(0.0831),\n",
              " 'cakes': tensor(0.0034),\n",
              " 'call': tensor(0.0286),\n",
              " 'called': tensor(0.0901),\n",
              " 'came': tensor(-0.0185),\n",
              " 'can': tensor(0.0610),\n",
              " 'cant': tensor(-0.0156),\n",
              " 'car': tensor(-0.1502),\n",
              " 'card': tensor(-0.3447),\n",
              " 'care': tensor(-0.0294),\n",
              " 'careful': tensor(-0.1630),\n",
              " 'carefully': tensor(0.0003),\n",
              " 'carried': tensor(0.0468),\n",
              " 'carrying': tensor(-0.1466),\n",
              " 'cart': tensor(-0.0991),\n",
              " 'case': tensor(0.1190),\n",
              " 'castle': tensor(-0.1069),\n",
              " 'cat': tensor(-0.0098),\n",
              " 'catch': tensor(-0.1581),\n",
              " 'cats': tensor(0.2515),\n",
              " 'caught': tensor(-0.0826),\n",
              " 'cauldron': tensor(0.0823),\n",
              " 'cause': tensor(0.1763),\n",
              " 'ceiling': tensor(0.0882),\n",
              " 'centaur': tensor(-0.2065),\n",
              " 'certainly': tensor(0.0737),\n",
              " 'chair': tensor(-0.0544),\n",
              " 'chamber': tensor(-0.1168),\n",
              " 'chance': tensor(0.0584),\n",
              " 'change': tensor(-0.0890),\n",
              " 'changed': tensor(0.1273),\n",
              " 'chapter': tensor(0.1417),\n",
              " 'charlie': tensor(-0.0068),\n",
              " 'charlies': tensor(0.1703),\n",
              " 'charms': tensor(0.1765),\n",
              " 'chasers': tensor(-0.0614),\n",
              " 'cheer': tensor(0.0521),\n",
              " 'cheering': tensor(-0.0286),\n",
              " 'cheers': tensor(-0.0460),\n",
              " 'chess': tensor(-0.0307),\n",
              " 'chessmen': tensor(0.0761),\n",
              " 'chest': tensor(-0.1463),\n",
              " 'chocolate': tensor(0.0391),\n",
              " 'christmas': tensor(0.0012),\n",
              " 'chuckled': tensor(0.0607),\n",
              " 'clambered': tensor(-0.1076),\n",
              " 'clapped': tensor(-0.0074),\n",
              " 'class': tensor(0.1146),\n",
              " 'classes': tensor(0.1710),\n",
              " 'classroom': tensor(-0.0378),\n",
              " 'clean': tensor(0.1214),\n",
              " 'clear': tensor(0.1860),\n",
              " 'cleared': tensor(0.1378),\n",
              " 'clearing': tensor(0.1209),\n",
              " 'clearly': tensor(-0.1406),\n",
              " 'clicked': tensor(0.0939),\n",
              " 'climbed': tensor(0.2764),\n",
              " 'cloak': tensor(0.0492),\n",
              " 'close': tensor(-0.1662),\n",
              " 'closer': tensor(0.1646),\n",
              " 'clothes': tensor(-0.0113),\n",
              " 'club': tensor(0.0198),\n",
              " 'clutching': tensor(0.0801),\n",
              " 'coat': tensor(0.1778),\n",
              " 'cold': tensor(0.2532),\n",
              " 'come': tensor(-0.0014),\n",
              " 'coming': tensor(0.0826),\n",
              " 'common': tensor(0.0923),\n",
              " 'compartment': tensor(0.0842),\n",
              " 'completely': tensor(-0.0102),\n",
              " 'computer': tensor(-0.1057),\n",
              " 'control': tensor(0.0665),\n",
              " 'corner': tensor(0.1701),\n",
              " 'corridor': tensor(-0.0181),\n",
              " 'corridors': tensor(-0.0430),\n",
              " 'could': tensor(-0.1143),\n",
              " 'couldnt': tensor(-0.0629),\n",
              " 'couple': tensor(0.1111),\n",
              " 'courage': tensor(0.1383),\n",
              " 'course': tensor(0.2154),\n",
              " 'covered': tensor(-0.0281),\n",
              " 'crabbe': tensor(0.1120),\n",
              " 'crack': tensor(0.0678),\n",
              " 'crash': tensor(-0.0759),\n",
              " 'crate': tensor(-0.0106),\n",
              " 'crept': tensor(-0.1441),\n",
              " 'cried': tensor(-0.0786),\n",
              " 'cross': tensor(0.1139),\n",
              " 'crossed': tensor(0.0691),\n",
              " 'crowd': tensor(-0.1127),\n",
              " 'cry': tensor(-0.0345),\n",
              " 'crying': tensor(0.0089),\n",
              " 'cup': tensor(-0.0227),\n",
              " 'cupboard': tensor(-0.2214),\n",
              " 'curious': tensor(0.0465),\n",
              " 'curse': tensor(-0.0114),\n",
              " 'cut': tensor(0.0231),\n",
              " 'dad': tensor(0.0230),\n",
              " 'damp': tensor(0.0711),\n",
              " 'dangerous': tensor(-0.0786),\n",
              " 'dare': tensor(0.1244),\n",
              " 'dark': tensor(-0.0726),\n",
              " 'darkly': tensor(0.2789),\n",
              " 'darkness': tensor(-0.1491),\n",
              " 'day': tensor(-0.1042),\n",
              " 'days': tensor(-0.0761),\n",
              " 'dead': tensor(-0.0005),\n",
              " 'dean': tensor(-0.2195),\n",
              " 'dear': tensor(-0.1704),\n",
              " 'death': tensor(0.2525),\n",
              " 'decided': tensor(-0.1627),\n",
              " 'deep': tensor(0.0006),\n",
              " 'delighted': tensor(-0.1378),\n",
              " 'desk': tensor(0.1317),\n",
              " 'desperate': tensor(0.1626),\n",
              " 'diagon': tensor(0.0424),\n",
              " 'did': tensor(-0.0829),\n",
              " 'didnt': tensor(-0.0229),\n",
              " 'die': tensor(-0.1133),\n",
              " 'died': tensor(-0.1839),\n",
              " 'difference': tensor(0.1041),\n",
              " 'different': tensor(-0.0535),\n",
              " 'difficult': tensor(-0.0367),\n",
              " 'dinner': tensor(0.0923),\n",
              " 'direction': tensor(-0.2043),\n",
              " 'disappeared': tensor(-0.0028),\n",
              " 'dived': tensor(-0.0677),\n",
              " 'do': tensor(0.1135),\n",
              " 'does': tensor(-0.1119),\n",
              " 'doesnt': tensor(-0.0812),\n",
              " 'dog': tensor(0.0470),\n",
              " 'dogs': tensor(0.0383),\n",
              " 'doing': tensor(-0.1790),\n",
              " 'don': tensor(-0.0288),\n",
              " 'done': tensor(-0.1362),\n",
              " 'dont': tensor(0.0087),\n",
              " 'door': tensor(0.1470),\n",
              " 'doors': tensor(-0.0080),\n",
              " 'doorway': tensor(-0.0594),\n",
              " 'dormitory': tensor(0.0682),\n",
              " 'down': tensor(0.0239),\n",
              " 'draco': tensor(0.0191),\n",
              " 'dragged': tensor(-0.0379),\n",
              " 'dragon': tensor(-0.0461),\n",
              " 'dragons': tensor(-0.0709),\n",
              " 'dream': tensor(0.0033),\n",
              " 'dressed': tensor(0.0834),\n",
              " 'drew': tensor(0.1674),\n",
              " 'drills': tensor(0.0349),\n",
              " 'drink': tensor(-0.1219),\n",
              " 'drive': tensor(0.0622),\n",
              " 'drop': tensor(0.1903),\n",
              " 'dropped': tensor(-0.1608),\n",
              " 'drove': tensor(-0.1609),\n",
              " 'dudley': tensor(0.0478),\n",
              " 'dudleys': tensor(0.0297),\n",
              " 'dumbledore': tensor(0.1969),\n",
              " 'dumbledores': tensor(-0.0553),\n",
              " 'dungeons': tensor(0.0954),\n",
              " 'dunno': tensor(0.0722),\n",
              " 'during': tensor(-0.0457),\n",
              " 'dursley': tensor(-0.0059),\n",
              " 'dursleys': tensor(-0.0214),\n",
              " 'each': tensor(-0.0457),\n",
              " 'eagerly': tensor(-0.0118),\n",
              " 'ear': tensor(-0.1323),\n",
              " 'ears': tensor(0.1535),\n",
              " 'earth': tensor(0.1919),\n",
              " 'easily': tensor(0.1218),\n",
              " 'easy': tensor(0.0180),\n",
              " 'eat': tensor(-0.1495),\n",
              " 'eating': tensor(-0.0547),\n",
              " 'edge': tensor(0.1797),\n",
              " 'egg': tensor(0.1225),\n",
              " 'eh': tensor(-0.0531),\n",
              " 'either': tensor(0.0526),\n",
              " 'eleven': tensor(-0.0516),\n",
              " 'else': tensor(-0.0311),\n",
              " 'em': tensor(-0.0020),\n",
              " 'empty': tensor(0.1094),\n",
              " 'end': tensor(0.0525),\n",
              " 'enough': tensor(-0.0232),\n",
              " 'entered': tensor(-0.1052),\n",
              " 'entrance': tensor(0.1120),\n",
              " 'envelope': tensor(-0.0684),\n",
              " 'er': tensor(-0.0365),\n",
              " 'erised': tensor(0.1124),\n",
              " 'even': tensor(-0.1077),\n",
              " 'evening': tensor(-0.1281),\n",
              " 'ever': tensor(-0.1286),\n",
              " 'every': tensor(0.1372),\n",
              " 'everybody': tensor(0.0781),\n",
              " 'everyone': tensor(0.2442),\n",
              " 'everything': tensor(0.1015),\n",
              " 'everywhere': tensor(0.0751),\n",
              " 'evil': tensor(0.1027),\n",
              " 'exactly': tensor(0.0333),\n",
              " 'exam': tensor(-0.0805),\n",
              " 'exams': tensor(0.2461),\n",
              " 'excellent': tensor(-0.2240),\n",
              " 'except': tensor(0.1808),\n",
              " 'excitedly': tensor(-0.1579),\n",
              " 'excuse': tensor(0.0463),\n",
              " 'expect': tensor(0.0130),\n",
              " 'expected': tensor(-0.0818),\n",
              " 'expelled': tensor(-0.0230),\n",
              " 'explain': tensor(0.0198),\n",
              " 'extra': tensor(0.0288),\n",
              " 'eye': tensor(0.1555),\n",
              " 'eyes': tensor(-0.0935),\n",
              " 'face': tensor(-0.0979),\n",
              " 'faces': tensor(0.1922),\n",
              " 'facing': tensor(-0.1548),\n",
              " 'fact': tensor(0.1353),\n",
              " 'faded': tensor(-0.1483),\n",
              " 'fall': tensor(    0.0000),\n",
              " 'fallen': tensor(0.0554),\n",
              " 'families': tensor(0.1471),\n",
              " 'family': tensor(-0.1358),\n",
              " 'famous': tensor(0.2394),\n",
              " 'fang': tensor(0.1012),\n",
              " 'fangs': tensor(-0.0746),\n",
              " 'far': tensor(-0.1459),\n",
              " 'fast': tensor(0.0401),\n",
              " 'fat': tensor(-0.0179),\n",
              " 'father': tensor(0.0354),\n",
              " 'fathers': tensor(0.0015),\n",
              " 'favorite': tensor(0.2215),\n",
              " 'fear': tensor(-0.1988),\n",
              " 'feast': tensor(-0.2246),\n",
              " 'feather': tensor(0.0472),\n",
              " 'feel': tensor(0.0342),\n",
              " 'feeling': tensor(0.0770),\n",
              " 'feet': tensor(0.1970),\n",
              " 'fell': tensor(0.1367),\n",
              " 'felt': tensor(-0.0585),\n",
              " 'fer': tensor(-0.0213),\n",
              " 'few': tensor(0.0755),\n",
              " 'field': tensor(0.0176),\n",
              " 'fifty': tensor(0.2067),\n",
              " 'fight': tensor(-0.0128),\n",
              " 'fighting': tensor(0.0846),\n",
              " 'figure': tensor(0.1257),\n",
              " 'filch': tensor(-0.0687),\n",
              " 'filled': tensor(-0.0565),\n",
              " 'finally': tensor(0.0959),\n",
              " 'find': tensor(0.0557),\n",
              " 'finding': tensor(0.0022),\n",
              " 'fine': tensor(-0.0755),\n",
              " 'fingers': tensor(-0.1714),\n",
              " 'finished': tensor(0.0366),\n",
              " 'finnigan': tensor(0.1992),\n",
              " 'fire': tensor(-0.0405),\n",
              " 'firenze': tensor(-0.0256),\n",
              " 'firs': tensor(0.0309),\n",
              " 'first': tensor(0.0272),\n",
              " 'five': tensor(0.1110),\n",
              " 'fixed': tensor(0.1533),\n",
              " 'flamel': tensor(0.0504),\n",
              " 'flames': tensor(0.0932),\n",
              " 'flash': tensor(0.1334),\n",
              " 'flat': tensor(0.0541),\n",
              " 'flavor': tensor(-0.1682),\n",
              " 'flew': tensor(-0.0899),\n",
              " 'flint': tensor(-0.1879),\n",
              " 'flitwick': tensor(0.0282),\n",
              " 'floating': tensor(-0.0812),\n",
              " 'floor': tensor(0.0171),\n",
              " 'fluffy': tensor(0.0446),\n",
              " 'flute': tensor(-0.0848),\n",
              " 'fly': tensor(-0.1164),\n",
              " 'flying': tensor(-0.0259),\n",
              " 'follow': tensor(0.3098),\n",
              " 'followed': tensor(-0.1883),\n",
              " 'following': tensor(-0.1239),\n",
              " 'food': tensor(-0.0929),\n",
              " 'foot': tensor(-0.0195),\n",
              " 'footsteps': tensor(-0.0501),\n",
              " 'for': tensor(0.0769),\n",
              " 'forbidden': tensor(-0.0713),\n",
              " 'force': tensor(-0.1290),\n",
              " 'forehead': tensor(0.0596),\n",
              " 'forest': tensor(-0.0656),\n",
              " 'forget': tensor(0.0432),\n",
              " 'forgotten': tensor(-0.0197),\n",
              " 'forward': tensor(-0.0207),\n",
              " 'found': tensor(0.1100),\n",
              " 'four': tensor(0.0813),\n",
              " 'fred': tensor(0.0451),\n",
              " 'free': tensor(-0.1562),\n",
              " 'friend': tensor(-0.0101),\n",
              " 'friends': tensor(0.2275),\n",
              " 'frog': tensor(-0.0102),\n",
              " 'frogs': tensor(0.0225),\n",
              " 'from': tensor(-0.0614),\n",
              " 'front': tensor(0.0117),\n",
              " 'full': tensor(-0.0531),\n",
              " 'fun': tensor(-0.0534),\n",
              " 'funny': tensor(0.1175),\n",
              " 'furious': tensor(0.0065),\n",
              " 'furiously': tensor(-0.1056),\n",
              " 'game': tensor(0.0292),\n",
              " 'garden': tensor(-0.0586),\n",
              " 'gasped': tensor(-0.0717),\n",
              " 'gave': tensor(-0.0795),\n",
              " 'gently': tensor(0.3568),\n",
              " 'george': tensor(0.0700),\n",
              " 'get': tensor(-0.0750),\n",
              " 'gets': tensor(0.1265),\n",
              " 'gettin': tensor(0.0948),\n",
              " 'getting': tensor(-0.0867),\n",
              " 'ghost': tensor(0.1255),\n",
              " 'ghosts': tensor(0.0981),\n",
              " 'giant': tensor(0.1341),\n",
              " 'girl': tensor(-0.0465),\n",
              " 'girls': tensor(-0.0863),\n",
              " 'give': tensor(0.0445),\n",
              " 'given': tensor(0.0115),\n",
              " 'giving': tensor(-0.0744),\n",
              " 'glad': tensor(-0.0059),\n",
              " 'glass': tensor(0.0989),\n",
              " 'glasses': tensor(0.0200),\n",
              " 'go': tensor(-0.0823),\n",
              " 'goal': tensor(-0.0955),\n",
              " 'goblin': tensor(-0.0777),\n",
              " 'goblins': tensor(0.1052),\n",
              " 'goes': tensor(0.0698),\n",
              " 'going': tensor(-0.0466),\n",
              " 'gold': tensor(-0.2844),\n",
              " 'golden': tensor(-0.1550),\n",
              " 'gone': tensor(-0.2140),\n",
              " 'good': tensor(0.0743),\n",
              " 'goodbye': tensor(0.1088),\n",
              " 'got': tensor(-0.0259),\n",
              " 'gotta': tensor(0.0455),\n",
              " 'gotten': tensor(-0.1243),\n",
              " 'goyle': tensor(0.1991),\n",
              " 'grab': tensor(0.1519),\n",
              " 'grabbed': tensor(-0.0872),\n",
              " 'granger': tensor(0.0089),\n",
              " 'grass': tensor(0.1242),\n",
              " 'gray': tensor(-0.0344),\n",
              " 'great': tensor(-0.1660),\n",
              " 'green': tensor(-0.1620),\n",
              " 'grin': tensor(-0.0544),\n",
              " 'gringotts': tensor(-0.2126),\n",
              " 'griphook': tensor(-0.0686),\n",
              " 'ground': tensor(-0.0918),\n",
              " 'grounds': tensor(-0.0495),\n",
              " 'growled': tensor(0.0351),\n",
              " 'grunted': tensor(0.0293),\n",
              " 'gryffindor': tensor(0.0237),\n",
              " 'gryffindors': tensor(0.0783),\n",
              " 'guard': tensor(0.0063),\n",
              " 'guarding': tensor(-0.0218),\n",
              " 'h': tensor(-0.0458),\n",
              " 'had': tensor(0.0610),\n",
              " 'hadnt': tensor(0.0124),\n",
              " 'hagrid': tensor(-0.0497),\n",
              " 'hagrids': tensor(-0.0071),\n",
              " 'hair': tensor(-0.0826),\n",
              " 'half': tensor(0.0501),\n",
              " 'halfway': tensor(-0.2258),\n",
              " 'hall': tensor(0.0229),\n",
              " 'halloween': tensor(0.0016),\n",
              " 'hand': tensor(-0.0815),\n",
              " 'handed': tensor(0.1453),\n",
              " 'handle': tensor(-0.1064),\n",
              " 'hands': tensor(-0.0866),\n",
              " 'hang': tensor(-0.0293),\n",
              " 'hanging': tensor(0.1341),\n",
              " 'happen': tensor(-0.0291),\n",
              " 'happened': tensor(0.1399),\n",
              " 'happy': tensor(-0.2259),\n",
              " 'hard': tensor(-0.0405),\n",
              " 'harder': tensor(0.0846),\n",
              " 'hardly': tensor(0.0675),\n",
              " 'harry': tensor(1.0878),\n",
              " 'harrys': tensor(-0.1632),\n",
              " 'has': tensor(-0.1770),\n",
              " 'hasnt': tensor(-0.0694),\n",
              " 'hat': tensor(0.0956),\n",
              " 'hate': tensor(-0.0135),\n",
              " 'hated': tensor(-0.2471),\n",
              " 'have': tensor(-0.0162),\n",
              " 'havent': tensor(-0.0213),\n",
              " 'having': tensor(-0.0093),\n",
              " 'he': tensor(-0.1012),\n",
              " 'head': tensor(-0.0421),\n",
              " 'headless': tensor(0.0031),\n",
              " 'heads': tensor(0.0295),\n",
              " 'hear': tensor(0.0205),\n",
              " 'heard': tensor(0.0321),\n",
              " 'heart': tensor(0.1007),\n",
              " 'heavy': tensor(0.0159),\n",
              " 'hed': tensor(-0.0054),\n",
              " 'hedwig': tensor(-0.0113),\n",
              " 'held': tensor(0.1405),\n",
              " 'hell': tensor(0.0229),\n",
              " 'help': tensor(-0.2390),\n",
              " 'her': tensor(-0.1506),\n",
              " 'here': tensor(-0.0327),\n",
              " 'hermione': tensor(0.0092),\n",
              " 'hermiones': tensor(-0.0938),\n",
              " 'herself': tensor(-0.2748),\n",
              " 'hes': tensor(-0.1945),\n",
              " 'hidden': tensor(-0.1117),\n",
              " 'hide': tensor(-0.0410),\n",
              " 'hiding': tensor(-0.0212),\n",
              " 'high': tensor(0.1271),\n",
              " 'higher': tensor(0.0475),\n",
              " 'him': tensor(-0.0047),\n",
              " 'himself': tensor(0.0204),\n",
              " 'his': tensor(-0.1076),\n",
              " 'hissed': tensor(0.1088),\n",
              " 'history': tensor(-0.0700),\n",
              " 'hit': tensor(-0.1204),\n",
              " 'hogwarts': tensor(0.0682),\n",
              " 'hold': tensor(0.1022),\n",
              " 'holding': tensor(-0.0220),\n",
              " 'hole': tensor(-0.2858),\n",
              " 'holidays': tensor(0.1220),\n",
              " 'home': tensor(-0.0540),\n",
              " 'homework': tensor(0.0696),\n",
              " 'honestly': tensor(-0.1813),\n",
              " 'hooch': tensor(-0.0567),\n",
              " 'hoops': tensor(-0.0278),\n",
              " 'hope': tensor(-0.0376),\n",
              " 'hoping': tensor(0.1476),\n",
              " 'horrible': tensor(0.1290),\n",
              " 'horror': tensor(0.0035),\n",
              " 'hospital': tensor(0.0868),\n",
              " 'hot': tensor(0.0351),\n",
              " 'hour': tensor(    0.0001),\n",
              " 'hours': tensor(-0.1299),\n",
              " 'house': tensor(0.2350),\n",
              " 'houses': tensor(0.0504),\n",
              " 'how': tensor(0.0604),\n",
              " 'however': tensor(-0.1166),\n",
              " 'howling': tensor(-0.0574),\n",
              " 'hufflepuff': tensor(0.1129),\n",
              " 'huge': tensor(0.0450),\n",
              " 'human': tensor(-0.0772),\n",
              " 'hundred': tensor(-0.0477),\n",
              " 'hundreds': tensor(0.0506),\n",
              " 'hung': tensor(0.1720),\n",
              " 'hungry': tensor(0.1635),\n",
              " 'hurried': tensor(0.1358),\n",
              " 'hurry': tensor(-0.0445),\n",
              " 'hurrying': tensor(0.1181),\n",
              " 'hurt': tensor(-0.0892),\n",
              " 'hut': tensor(0.0518),\n",
              " 'i': tensor(-0.0705),\n",
              " 'ice': tensor(-0.0429),\n",
              " 'id': tensor(0.1032),\n",
              " 'idea': tensor(0.0311),\n",
              " 'if': tensor(0.0489),\n",
              " 'ignored': tensor(-0.0962),\n",
              " 'ill': tensor(0.0143),\n",
              " 'im': tensor(0.0225),\n",
              " 'imagine': tensor(-0.1057),\n",
              " 'important': tensor(-0.1437),\n",
              " 'in': tensor(0.0068),\n",
              " 'inches': tensor(0.2626),\n",
              " 'indeed': tensor(0.1791),\n",
              " 'inside': tensor(-0.0711),\n",
              " 'instead': tensor(-0.0335),\n",
              " 'interested': tensor(-0.1117),\n",
              " 'interesting': tensor(-0.1235),\n",
              " 'into': tensor(0.0977),\n",
              " 'invisibility': tensor(-0.0762),\n",
              " 'invisible': tensor(-0.0732),\n",
              " 'is': tensor(-0.0464),\n",
              " 'isnt': tensor(0.0758),\n",
              " 'it': tensor(-0.0227),\n",
              " 'itll': tensor(-0.0998),\n",
              " 'its': tensor(-0.2205),\n",
              " 'itself': tensor(0.1065),\n",
              " 'ive': tensor(-0.0353),\n",
              " 'jerked': tensor(0.0292),\n",
              " 'job': tensor(0.0289),\n",
              " 'join': tensor(-0.0816),\n",
              " 'joined': tensor(0.0568),\n",
              " 'joke': tensor(0.0806),\n",
              " 'jordan': tensor(0.0436),\n",
              " 'jump': tensor(0.0057),\n",
              " 'jumped': tensor(-0.0665),\n",
              " 'jus': tensor(-0.0426),\n",
              " 'just': tensor(-0.2544),\n",
              " 'keep': tensor(0.1483),\n",
              " 'keeper': tensor(0.2134),\n",
              " 'keeping': tensor(0.0494),\n",
              " 'kept': tensor(0.1101),\n",
              " 'key': tensor(0.1020),\n",
              " 'keys': tensor(0.0790),\n",
              " 'kicked': tensor(0.0351),\n",
              " 'kill': tensor(0.0420),\n",
              " 'killed': tensor(-0.0455),\n",
              " 'kind': tensor(0.1287),\n",
              " 'kings': tensor(-0.0420),\n",
              " 'kitchen': tensor(-0.2325),\n",
              " 'knees': tensor(-0.0044),\n",
              " 'knew': tensor(-0.0711),\n",
              " 'knight': tensor(-0.1066),\n",
              " 'knock': tensor(-0.0458),\n",
              " 'knocked': tensor(0.1036),\n",
              " 'knocking': tensor(0.0186),\n",
              " 'know': tensor(0.0216),\n",
              " 'knowing': tensor(0.1798),\n",
              " 'known': tensor(-0.0010),\n",
              " 'knows': tensor(0.0571),\n",
              " 'knuts': tensor(0.0975),\n",
              " 'lady': tensor(-0.0928),\n",
              " 'lake': tensor(-0.1277),\n",
              " 'lamp': tensor(-0.0865),\n",
              " 'landed': tensor(-0.1852),\n",
              " 'large': tensor(-0.0441),\n",
              " 'last': tensor(0.1630),\n",
              " 'late': tensor(0.1037),\n",
              " 'later': tensor(-0.1234),\n",
              " 'laugh': tensor(0.0511),\n",
              " 'laughed': tensor(-0.0932),\n",
              " 'laughing': tensor(0.0370),\n",
              " 'laughter': tensor(-0.0949),\n",
              " 'lay': tensor(0.2430),\n",
              " 'lead': tensor(0.0608),\n",
              " 'leading': tensor(-0.1144),\n",
              " 'leaky': tensor(0.0975),\n",
              " 'leaned': tensor(-0.1315),\n",
              " 'leapt': tensor(0.1007),\n",
              " 'learn': tensor(-0.1403),\n",
              " 'learned': tensor(0.0510),\n",
              " 'least': tensor(0.0736),\n",
              " 'leave': tensor(-0.0289),\n",
              " 'leaves': tensor(-0.0922),\n",
              " 'leaving': tensor(-0.0631),\n",
              " 'led': tensor(0.0729),\n",
              " 'lee': tensor(-0.0464),\n",
              " 'left': tensor(-0.1376),\n",
              " 'leg': tensor(-0.0054),\n",
              " 'legs': tensor(-0.0647),\n",
              " 'lemon': tensor(0.3579),\n",
              " 'less': tensor(0.0190),\n",
              " 'lesson': tensor(-0.1292),\n",
              " 'lessons': tensor(-0.0712),\n",
              " 'let': tensor(-0.2347),\n",
              " 'lets': tensor(0.1277),\n",
              " 'letter': tensor(-0.0613),\n",
              " 'letters': tensor(-0.0277),\n",
              " 'library': tensor(0.0652),\n",
              " 'lie': tensor(0.1635),\n",
              " 'life': tensor(-0.0695),\n",
              " 'light': tensor(0.0424),\n",
              " 'lightning': tensor(-0.2268),\n",
              " 'like': tensor(-0.0354),\n",
              " 'liked': tensor(-0.1658),\n",
              " 'lily': tensor(0.0725),\n",
              " 'line': tensor(-0.1006),\n",
              " 'lips': tensor(0.2369),\n",
              " 'list': tensor(0.0874),\n",
              " 'listen': tensor(-0.1479),\n",
              " 'listening': tensor(0.1564),\n",
              " 'lit': tensor(0.0669),\n",
              " 'little': tensor(0.0109),\n",
              " 'live': tensor(0.2187),\n",
              " 'lived': tensor(0.1366),\n",
              " 'living': tensor(-0.0489),\n",
              " 'loads': tensor(-0.1408),\n",
              " 'lock': tensor(0.0652),\n",
              " 'locked': tensor(-0.0824),\n",
              " 'london': tensor(0.0395),\n",
              " 'long': tensor(-0.0590),\n",
              " 'longbottom': tensor(-0.1475),\n",
              " 'look': tensor(-0.1114),\n",
              " 'looked': tensor(0.0839),\n",
              " 'looking': tensor(0.1472),\n",
              " 'looks': tensor(-0.0610),\n",
              " 'lose': tensor(0.1502),\n",
              " 'losing': tensor(0.2222),\n",
              " 'lost': tensor(-0.1987),\n",
              " 'lot': tensor(-0.0742),\n",
              " 'lots': tensor(0.0322),\n",
              " 'loud': tensor(0.0133),\n",
              " 'loudly': tensor(0.0085),\n",
              " 'low': tensor(0.2282),\n",
              " 'luck': tensor(0.0214),\n",
              " 'lucky': tensor(0.1083),\n",
              " 'lumpy': tensor(-0.0158),\n",
              " 'lurking': tensor(-0.0401),\n",
              " 'lying': tensor(-0.0861),\n",
              " 'mad': tensor(-0.0317),\n",
              " 'madam': tensor(0.0791),\n",
              " 'made': tensor(-0.0736),\n",
              " 'magic': tensor(-0.0646),\n",
              " 'magical': tensor(-0.0471),\n",
              " 'mail': tensor(-0.0953),\n",
              " 'make': tensor(-0.0775),\n",
              " 'making': tensor(-0.0238),\n",
              " 'malfoy': tensor(0.2522),\n",
              " 'malfoys': tensor(-0.1538),\n",
              " 'man': tensor(-0.0762),\n",
              " 'managed': tensor(0.0655),\n",
              " 'many': tensor(-0.1239),\n",
              " 'marble': tensor(0.0006),\n",
              " 'marched': tensor(-0.0043),\n",
              " 'match': tensor(-0.0836),\n",
              " 'matter': tensor(-0.2559),\n",
              " 'may': tensor(0.1005),\n",
              " 'maybe': tensor(-0.0349),\n",
              " 'mcgonagall': tensor(-0.0928),\n",
              " 'mcgonagalls': tensor(-0.0040),\n",
              " 'me': tensor(0.1036),\n",
              " 'mean': tensor(0.0246),\n",
              " 'means': tensor(0.1338),\n",
              " 'meant': tensor(-0.2662),\n",
              " 'meet': tensor(0.0050),\n",
              " 'mention': tensor(0.1866),\n",
              " 'met': tensor(-0.1288),\n",
              " 'midair': tensor(-0.0357),\n",
              " 'middle': tensor(-0.0667),\n",
              " 'midnight': tensor(0.0572),\n",
              " 'might': tensor(-0.0628),\n",
              " 'mind': tensor(-0.1619),\n",
              " 'ministry': tensor(-0.0577),\n",
              " 'minute': tensor(0.1626),\n",
              " 'minutes': tensor(0.1327),\n",
              " 'mirror': tensor(0.0359),\n",
              " 'miss': tensor(-0.1074),\n",
              " 'mistake': tensor(0.0479),\n",
              " 'moaned': tensor(-0.0690),\n",
              " 'mom': tensor(0.0494),\n",
              " 'moment': tensor(0.1224),\n",
              " 'money': tensor(0.0077),\n",
              " 'moonlight': tensor(0.0864),\n",
              " 'more': tensor(0.0534),\n",
              " 'morning': tensor(-0.0266),\n",
              " 'most': tensor(-0.1432),\n",
              " 'mother': tensor(-0.1580),\n",
              " 'mothers': tensor(0.0203),\n",
              " 'motorcycle': tensor(-0.0533),\n",
              " 'mountain': tensor(0.0439),\n",
              " 'mouth': tensor(-0.0115),\n",
              " 'move': tensor(0.0078),\n",
              " 'moved': tensor(0.0913),\n",
              " 'moving': tensor(0.0549),\n",
              " 'mr': tensor(-0.0608),\n",
              " 'mrs': tensor(0.0672),\n",
              " 'much': tensor(-0.0136),\n",
              " 'muggle': tensor(0.1163),\n",
              " 'muggles': tensor(0.1585),\n",
              " 'murmured': tensor(0.1730),\n",
              " 'must': tensor(-0.0212),\n",
              " 'mustache': tensor(-0.0320),\n",
              " 'mustve': tensor(0.0947),\n",
              " 'muttered': tensor(0.1427),\n",
              " 'muttering': tensor(-0.0538),\n",
              " 'my': tensor(-0.1023),\n",
              " 'myself': tensor(0.1467),\n",
              " 'mysterious': tensor(0.0380),\n",
              " 'nah': tensor(-0.1155),\n",
              " 'name': tensor(-0.1057),\n",
              " 'names': tensor(-0.0174),\n",
              " 'narrow': tensor(-0.1165),\n",
              " 'nasty': tensor(-0.0947),\n",
              " 'near': tensor(-0.0406),\n",
              " 'nearer': tensor(-0.0058),\n",
              " 'nearest': tensor(0.1983),\n",
              " 'nearly': tensor(0.0232),\n",
              " 'neck': tensor(0.1831),\n",
              " 'need': tensor(-0.0209),\n",
              " 'needed': tensor(-0.0213),\n",
              " 'needs': tensor(0.1313),\n",
              " 'neither': tensor(0.0485),\n",
              " 'nervous': tensor(-0.1803),\n",
              " 'nervously': tensor(0.1544),\n",
              " 'never': tensor(0.0184),\n",
              " 'neville': tensor(0.1221),\n",
              " 'nevilles': tensor(0.0409),\n",
              " 'new': tensor(-0.0269),\n",
              " 'news': tensor(0.1865),\n",
              " 'newspaper': tensor(-0.0360),\n",
              " 'next': tensor(-0.0392),\n",
              " 'nice': tensor(-0.0745),\n",
              " 'nicolas': tensor(0.1303),\n",
              " 'night': tensor(-0.2496),\n",
              " 'nimbus': tensor(0.1221),\n",
              " 'nine': tensor(-0.1384),\n",
              " 'no': tensor(-0.0685),\n",
              " 'nobody': tensor(-0.0278),\n",
              " 'nodded': tensor(0.0545),\n",
              " 'noise': tensor(-0.0142),\n",
              " 'none': tensor(-0.1393),\n",
              " 'nor': tensor(0.0920),\n",
              " 'norbert': tensor(-0.1064),\n",
              " 'normal': tensor(-0.1692),\n",
              " 'norris': tensor(0.1324),\n",
              " 'nose': tensor(-0.0759),\n",
              " 'noses': tensor(0.0445),\n",
              " 'nostrils': tensor(0.0479),\n",
              " 'not': tensor(-0.0320),\n",
              " 'note': tensor(0.0047),\n",
              " 'notes': tensor(-0.0089),\n",
              " 'nothin': tensor(-0.0539),\n",
              " 'nothing': tensor(0.0446),\n",
              " 'notice': tensor(0.0329),\n",
              " 'noticed': tensor(-0.0279),\n",
              " 'noticing': tensor(0.1507),\n",
              " 'now': tensor(-0.0489),\n",
              " 'number': tensor(-0.0407),\n",
              " 'o': tensor(0.2302),\n",
              " 'obviously': tensor(-0.0572),\n",
              " 'oclock': tensor(0.0400),\n",
              " 'odd': tensor(0.0915),\n",
              " 'of': tensor(-0.0280),\n",
              " 'off': tensor(0.0567),\n",
              " 'often': tensor(-0.1750),\n",
              " 'oh': tensor(0.0580),\n",
              " 'old': tensor(-0.0548),\n",
              " 'older': tensor(0.2733),\n",
              " 'ollivander': tensor(0.2097),\n",
              " 'on': tensor(0.0455),\n",
              " 'once': tensor(0.0911),\n",
              " 'one': tensor(-0.0577),\n",
              " 'ones': tensor(0.0017),\n",
              " 'only': tensor(0.0459),\n",
              " 'onto': tensor(0.0552),\n",
              " 'open': tensor(-0.0102),\n",
              " 'opened': tensor(0.1249),\n",
              " 'opposite': tensor(-0.2087),\n",
              " 'or': tensor(-0.0624),\n",
              " 'ordinary': tensor(-0.0705),\n",
              " 'other': tensor(-0.1289),\n",
              " 'others': tensor(0.0997),\n",
              " 'our': tensor(-0.0436),\n",
              " 'out': tensor(0.0653),\n",
              " 'outside': tensor(0.0404),\n",
              " 'outta': tensor(0.0511),\n",
              " 'over': tensor(0.0900),\n",
              " 'overhead': tensor(-0.0491),\n",
              " 'owl': tensor(-0.0604),\n",
              " 'owls': tensor(-0.1242),\n",
              " 'own': tensor(0.0078),\n",
              " 'pack': tensor(-0.0228),\n",
              " 'package': tensor(-0.0013),\n",
              " 'packed': tensor(-0.0006),\n",
              " 'pain': tensor(0.0114),\n",
              " 'pair': tensor(-0.0040),\n",
              " 'pale': tensor(-0.0291),\n",
              " 'panted': tensor(0.0855),\n",
              " 'paper': tensor(0.0311),\n",
              " 'parcel': tensor(-0.0927),\n",
              " 'parchment': tensor(0.0685),\n",
              " 'parents': tensor(-0.1518),\n",
              " 'particularly': tensor(-0.1091),\n",
              " 'passageway': tensor(0.0821),\n",
              " 'passed': tensor(-0.0711),\n",
              " 'passing': tensor(0.0238),\n",
              " 'past': tensor(0.0590),\n",
              " 'path': tensor(0.1384),\n",
              " 'patil': tensor(-0.0406),\n",
              " 'peered': tensor(0.0453),\n",
              " 'peering': tensor(0.0069),\n",
              " 'peeves': tensor(0.0266),\n",
              " 'people': tensor(0.1335),\n",
              " 'percy': tensor(-0.0116),\n",
              " 'perfect': tensor(0.0981),\n",
              " 'perhaps': tensor(-0.2357),\n",
              " 'person': tensor(-0.0433),\n",
              " 'petunia': tensor(-0.2321),\n",
              " 'picked': tensor(0.1389),\n",
              " 'piece': tensor(-0.0253),\n",
              " 'pieces': tensor(0.0657),\n",
              " 'piers': tensor(0.0210),\n",
              " 'pig': tensor(0.1260),\n",
              " 'pile': tensor(-0.0895),\n",
              " 'piled': tensor(-0.0086),\n",
              " 'pink': tensor(0.1733),\n",
              " 'pinned': tensor(-0.1337),\n",
              " 'place': tensor(0.1716),\n",
              " 'planets': tensor(-0.1432),\n",
              " 'plant': tensor(0.0233),\n",
              " 'plates': tensor(0.0540),\n",
              " 'platform': tensor(0.0721),\n",
              " 'platforms': tensor(0.1172),\n",
              " 'play': tensor(0.1158),\n",
              " 'players': tensor(0.0476),\n",
              " 'playing': tensor(0.1858),\n",
              " 'please': tensor(-0.0186),\n",
              " 'pleased': tensor(-0.0295),\n",
              " 'pocket': tensor(-0.0444),\n",
              " 'pockets': tensor(-0.0864),\n",
              " 'point': tensor(0.1806),\n",
              " 'pointed': tensor(0.0011),\n",
              " 'pointing': tensor(-0.0440),\n",
              " 'points': tensor(-0.0571),\n",
              " 'pomfrey': tensor(0.1084),\n",
              " 'poor': tensor(-0.1742),\n",
              " 'portrait': tensor(0.1057),\n",
              " 'possession': tensor(-0.1801),\n",
              " 'possible': tensor(0.0111),\n",
              " 'posts': tensor(0.0521),\n",
              " 'potion': tensor(0.0014),\n",
              " 'potions': tensor(-0.1374),\n",
              " 'potter': tensor(-0.0597),\n",
              " 'potters': tensor(0.0820),\n",
              " 'power': tensor(0.2140),\n",
              " 'powerful': tensor(0.1278),\n",
              " 'practice': tensor(-0.0484),\n",
              " 'prefect': tensor(0.2076),\n",
              " 'prefects': tensor(-0.1065),\n",
              " 'presents': tensor(0.0287),\n",
              " 'pressed': tensor(-0.3410),\n",
              " 'privet': tensor(0.2697),\n",
              " 'probably': tensor(0.0509),\n",
              " 'professor': tensor(0.0524),\n",
              " 'properly': tensor(-0.0071),\n",
              " 'proud': tensor(0.0182),\n",
              " 'pull': tensor(0.0629),\n",
              " 'pulled': tensor(-0.0039),\n",
              " 'pulling': tensor(0.0221),\n",
              " 'purple': tensor(-0.0127),\n",
              " 'pushed': tensor(0.1750),\n",
              " 'put': tensor(-0.0777),\n",
              " 'quaffle': tensor(0.1807),\n",
              " 'question': tensor(-0.1768),\n",
              " 'questions': tensor(0.1390),\n",
              " 'quick': tensor(-0.0384),\n",
              " 'quickly': tensor(0.1383),\n",
              " 'quidditch': tensor(0.1838),\n",
              " 'quiet': tensor(0.1515),\n",
              " 'quietly': tensor(-0.0519),\n",
              " 'quills': tensor(0.0255),\n",
              " 'quirrell': tensor(-0.0654),\n",
              " 'quirrells': tensor(0.0408),\n",
              " 'quite': tensor(-0.0453),\n",
              " 'racing': tensor(-0.2173),\n",
              " 'raised': tensor(-0.0125),\n",
              " 'ran': tensor(-0.0399),\n",
              " 'rang': tensor(0.0779),\n",
              " 'rat': tensor(-0.0471),\n",
              " 'rather': tensor(-0.0707),\n",
              " 'ravenclaw': tensor(-0.0869),\n",
              " 'reached': tensor(-0.0588),\n",
              " 'read': tensor(0.0669),\n",
              " 'ready': tensor(-0.1290),\n",
              " 'real': tensor(-0.1311),\n",
              " 'realize': tensor(0.0068),\n",
              " 'realized': tensor(-0.0919),\n",
              " 'really': tensor(-0.2644),\n",
              " 'reason': tensor(0.1450),\n",
              " ...}"
            ]
          },
          "metadata": {},
          "execution_count": 24
        }
      ],
      "source": [
        "# we can get the dot product value for every other words in the vocab\n",
        "# to get  P(word | harry)\n",
        "word_dot_dict = {}\n",
        "for word in filtered_vocab:\n",
        "  w_idx = word2idx[word]\n",
        "  w_vector = word_vectors[w_idx]\n",
        "  word_dot_dict[word] = sum(harry * w_vector)\n",
        "word_dot_dict"
      ]
    },
    {
      "cell_type": "markdown",
      "metadata": {
        "id": "MQzYZK-gkzqe"
      },
      "source": [
        "Now, let's convert these dot products to probabilities using the softmax function:\n",
        "- We have to convert our prediction into probability distribution to get P(word|harry) so that sum of [P(a|harry), ..., P(potter|harry), ... P(ron|harry), ... ] = 1\n",
        "- current dot product value is any real number, sometimes called as logit\n",
        "  - logit from logistic regression. Some values that are not yet converted to 0-1 or value before sigmoid function\n",
        "  - every probability should be in range (0, 1) (greater than 0, smaller than 1)\n",
        "  - this can be handled by taking exponential of dot product values, divided by total sum\n",
        "  - This function is called **Softmax**\n",
        "\n",
        "- Why we use exponential?\n",
        "  - Because we want to make every probability in positive range while preserving the order\n"
      ]
    },
    {
      "cell_type": "code",
      "execution_count": 27,
      "metadata": {
        "id": "DQ1PUvuLyv6r",
        "colab": {
          "base_uri": "https://localhost:8080/"
        },
        "collapsed": true,
        "outputId": "2626f765-0b5a-4c5e-df78-adac0350bfd6"
      },
      "outputs": [
        {
          "output_type": "execute_result",
          "data": {
            "text/plain": [
              "{'a': tensor(0.0007),\n",
              " 'able': tensor(0.0007),\n",
              " 'abou': tensor(0.0008),\n",
              " 'about': tensor(0.0007),\n",
              " 'above': tensor(0.0006),\n",
              " 'across': tensor(0.0006),\n",
              " 'added': tensor(0.0006),\n",
              " 'afford': tensor(0.0005),\n",
              " 'afraid': tensor(0.0007),\n",
              " 'after': tensor(0.0006),\n",
              " 'afternoon': tensor(0.0007),\n",
              " 'again': tensor(0.0007),\n",
              " 'against': tensor(0.0006),\n",
              " 'ages': tensor(0.0006),\n",
              " 'ago': tensor(0.0007),\n",
              " 'agreed': tensor(0.0007),\n",
              " 'ah': tensor(0.0007),\n",
              " 'ahead': tensor(0.0007),\n",
              " 'air': tensor(0.0006),\n",
              " 'albus': tensor(0.0006),\n",
              " 'alive': tensor(0.0006),\n",
              " 'all': tensor(0.0006),\n",
              " 'alley': tensor(0.0007),\n",
              " 'allowed': tensor(0.0007),\n",
              " 'almost': tensor(0.0006),\n",
              " 'alone': tensor(0.0007),\n",
              " 'along': tensor(0.0007),\n",
              " 'already': tensor(0.0008),\n",
              " 'also': tensor(0.0007),\n",
              " 'although': tensor(0.0006),\n",
              " 'always': tensor(0.0008),\n",
              " 'am': tensor(0.0006),\n",
              " 'an': tensor(0.0005),\n",
              " 'and': tensor(0.0008),\n",
              " 'angrily': tensor(0.0006),\n",
              " 'angry': tensor(0.0007),\n",
              " 'another': tensor(0.0007),\n",
              " 'answer': tensor(0.0006),\n",
              " 'any': tensor(0.0006),\n",
              " 'anymore': tensor(0.0006),\n",
              " 'anyone': tensor(0.0006),\n",
              " 'anythin': tensor(0.0006),\n",
              " 'anything': tensor(0.0006),\n",
              " 'anyway': tensor(0.0006),\n",
              " 'anywhere': tensor(0.0006),\n",
              " 'apart': tensor(0.0006),\n",
              " 'appeared': tensor(0.0006),\n",
              " 'are': tensor(0.0007),\n",
              " 'arent': tensor(0.0007),\n",
              " 'arm': tensor(0.0006),\n",
              " 'armor': tensor(0.0008),\n",
              " 'arms': tensor(0.0006),\n",
              " 'around': tensor(0.0007),\n",
              " 'arrived': tensor(0.0007),\n",
              " 'arts': tensor(0.0006),\n",
              " 'as': tensor(0.0006),\n",
              " 'ask': tensor(0.0006),\n",
              " 'asked': tensor(0.0006),\n",
              " 'asking': tensor(0.0005),\n",
              " 'asleep': tensor(0.0007),\n",
              " 'at': tensor(0.0006),\n",
              " 'attention': tensor(0.0006),\n",
              " 'aunt': tensor(0.0005),\n",
              " 'awake': tensor(0.0009),\n",
              " 'away': tensor(0.0007),\n",
              " 'baby': tensor(0.0007),\n",
              " 'back': tensor(0.0007),\n",
              " 'backward': tensor(0.0006),\n",
              " 'bacon': tensor(0.0006),\n",
              " 'bad': tensor(0.0008),\n",
              " 'bag': tensor(0.0007),\n",
              " 'ball': tensor(0.0006),\n",
              " 'balls': tensor(0.0007),\n",
              " 'bane': tensor(0.0008),\n",
              " 'barrier': tensor(0.0006),\n",
              " 'be': tensor(0.0006),\n",
              " 'beans': tensor(0.0007),\n",
              " 'beard': tensor(0.0007),\n",
              " 'became': tensor(0.0008),\n",
              " 'because': tensor(0.0006),\n",
              " 'become': tensor(0.0007),\n",
              " 'bed': tensor(0.0008),\n",
              " 'bedroom': tensor(0.0006),\n",
              " 'been': tensor(0.0007),\n",
              " 'before': tensor(0.0007),\n",
              " 'began': tensor(0.0005),\n",
              " 'behind': tensor(0.0006),\n",
              " 'being': tensor(0.0007),\n",
              " 'believe': tensor(0.0007),\n",
              " 'below': tensor(0.0007),\n",
              " 'beneath': tensor(0.0007),\n",
              " 'bent': tensor(0.0006),\n",
              " 'best': tensor(0.0007),\n",
              " 'bet': tensor(0.0007),\n",
              " 'better': tensor(0.0006),\n",
              " 'between': tensor(0.0007),\n",
              " 'big': tensor(0.0006),\n",
              " 'bill': tensor(0.0007),\n",
              " 'bin': tensor(0.0008),\n",
              " 'binoculars': tensor(0.0006),\n",
              " 'birthday': tensor(0.0007),\n",
              " 'bit': tensor(0.0007),\n",
              " 'black': tensor(0.0007),\n",
              " 'blankets': tensor(0.0006),\n",
              " 'blew': tensor(0.0007),\n",
              " 'blood': tensor(0.0005),\n",
              " 'bloody': tensor(0.0006),\n",
              " 'bludger': tensor(0.0006),\n",
              " 'bludgers': tensor(0.0006),\n",
              " 'blue': tensor(0.0008),\n",
              " 'board': tensor(0.0006),\n",
              " 'boat': tensor(0.0006),\n",
              " 'boats': tensor(0.0006),\n",
              " 'body': tensor(0.0007),\n",
              " 'book': tensor(0.0006),\n",
              " 'books': tensor(0.0007),\n",
              " 'both': tensor(0.0005),\n",
              " 'bottle': tensor(0.0008),\n",
              " 'bottles': tensor(0.0006),\n",
              " 'bottom': tensor(0.0007),\n",
              " 'bought': tensor(0.0006),\n",
              " 'bowed': tensor(0.0008),\n",
              " 'box': tensor(0.0006),\n",
              " 'boy': tensor(0.0006),\n",
              " 'boys': tensor(0.0009),\n",
              " 'branches': tensor(0.0007),\n",
              " 'brave': tensor(0.0008),\n",
              " 'break': tensor(0.0008),\n",
              " 'breakfast': tensor(0.0007),\n",
              " 'breaking': tensor(0.0006),\n",
              " 'breath': tensor(0.0007),\n",
              " 'breathing': tensor(0.0007),\n",
              " 'bright': tensor(0.0008),\n",
              " 'brilliant': tensor(0.0006),\n",
              " 'broke': tensor(0.0006),\n",
              " 'broken': tensor(0.0008),\n",
              " 'broom': tensor(0.0006),\n",
              " 'brooms': tensor(0.0007),\n",
              " 'broomstick': tensor(0.0007),\n",
              " 'broomsticks': tensor(0.0006),\n",
              " 'brother': tensor(0.0007),\n",
              " 'brothers': tensor(0.0006),\n",
              " 'brought': tensor(0.0007),\n",
              " 'brown': tensor(0.0006),\n",
              " 'burst': tensor(0.0007),\n",
              " 'business': tensor(0.0006),\n",
              " 'busy': tensor(0.0007),\n",
              " 'but': tensor(0.0007),\n",
              " 'buy': tensor(0.0007),\n",
              " 'by': tensor(0.0008),\n",
              " 'cake': tensor(0.0007),\n",
              " 'cakes': tensor(0.0007),\n",
              " 'call': tensor(0.0007),\n",
              " 'called': tensor(0.0007),\n",
              " 'came': tensor(0.0006),\n",
              " 'can': tensor(0.0007),\n",
              " 'cant': tensor(0.0006),\n",
              " 'car': tensor(0.0006),\n",
              " 'card': tensor(0.0005),\n",
              " 'care': tensor(0.0006),\n",
              " 'careful': tensor(0.0006),\n",
              " 'carefully': tensor(0.0007),\n",
              " 'carried': tensor(0.0007),\n",
              " 'carrying': tensor(0.0006),\n",
              " 'cart': tensor(0.0006),\n",
              " 'case': tensor(0.0007),\n",
              " 'castle': tensor(0.0006),\n",
              " 'cat': tensor(0.0007),\n",
              " 'catch': tensor(0.0006),\n",
              " 'cats': tensor(0.0008),\n",
              " 'caught': tensor(0.0006),\n",
              " 'cauldron': tensor(0.0007),\n",
              " 'cause': tensor(0.0008),\n",
              " 'ceiling': tensor(0.0007),\n",
              " 'centaur': tensor(0.0005),\n",
              " 'certainly': tensor(0.0007),\n",
              " 'chair': tensor(0.0006),\n",
              " 'chamber': tensor(0.0006),\n",
              " 'chance': tensor(0.0007),\n",
              " 'change': tensor(0.0006),\n",
              " 'changed': tensor(0.0007),\n",
              " 'chapter': tensor(0.0008),\n",
              " 'charlie': tensor(0.0007),\n",
              " 'charlies': tensor(0.0008),\n",
              " 'charms': tensor(0.0008),\n",
              " 'chasers': tensor(0.0006),\n",
              " 'cheer': tensor(0.0007),\n",
              " 'cheering': tensor(0.0006),\n",
              " 'cheers': tensor(0.0006),\n",
              " 'chess': tensor(0.0006),\n",
              " 'chessmen': tensor(0.0007),\n",
              " 'chest': tensor(0.0006),\n",
              " 'chocolate': tensor(0.0007),\n",
              " 'christmas': tensor(0.0007),\n",
              " 'chuckled': tensor(0.0007),\n",
              " 'clambered': tensor(0.0006),\n",
              " 'clapped': tensor(0.0007),\n",
              " 'class': tensor(0.0007),\n",
              " 'classes': tensor(0.0008),\n",
              " 'classroom': tensor(0.0006),\n",
              " 'clean': tensor(0.0007),\n",
              " 'clear': tensor(0.0008),\n",
              " 'cleared': tensor(0.0008),\n",
              " 'clearing': tensor(0.0007),\n",
              " 'clearly': tensor(0.0006),\n",
              " 'clicked': tensor(0.0007),\n",
              " 'climbed': tensor(0.0009),\n",
              " 'cloak': tensor(0.0007),\n",
              " 'close': tensor(0.0006),\n",
              " 'closer': tensor(0.0008),\n",
              " 'clothes': tensor(0.0007),\n",
              " 'club': tensor(0.0007),\n",
              " 'clutching': tensor(0.0007),\n",
              " 'coat': tensor(0.0008),\n",
              " 'cold': tensor(0.0008),\n",
              " 'come': tensor(0.0007),\n",
              " 'coming': tensor(0.0007),\n",
              " 'common': tensor(0.0007),\n",
              " 'compartment': tensor(0.0007),\n",
              " 'completely': tensor(0.0007),\n",
              " 'computer': tensor(0.0006),\n",
              " 'control': tensor(0.0007),\n",
              " 'corner': tensor(0.0008),\n",
              " 'corridor': tensor(0.0006),\n",
              " 'corridors': tensor(0.0006),\n",
              " 'could': tensor(0.0006),\n",
              " 'couldnt': tensor(0.0006),\n",
              " 'couple': tensor(0.0007),\n",
              " 'courage': tensor(0.0008),\n",
              " 'course': tensor(0.0008),\n",
              " 'covered': tensor(0.0006),\n",
              " 'crabbe': tensor(0.0007),\n",
              " 'crack': tensor(0.0007),\n",
              " 'crash': tensor(0.0006),\n",
              " 'crate': tensor(0.0007),\n",
              " 'crept': tensor(0.0006),\n",
              " 'cried': tensor(0.0006),\n",
              " 'cross': tensor(0.0007),\n",
              " 'crossed': tensor(0.0007),\n",
              " 'crowd': tensor(0.0006),\n",
              " 'cry': tensor(0.0006),\n",
              " 'crying': tensor(0.0007),\n",
              " 'cup': tensor(0.0006),\n",
              " 'cupboard': tensor(0.0005),\n",
              " 'curious': tensor(0.0007),\n",
              " 'curse': tensor(0.0007),\n",
              " 'cut': tensor(0.0007),\n",
              " 'dad': tensor(0.0007),\n",
              " 'damp': tensor(0.0007),\n",
              " 'dangerous': tensor(0.0006),\n",
              " 'dare': tensor(0.0007),\n",
              " 'dark': tensor(0.0006),\n",
              " 'darkly': tensor(0.0009),\n",
              " 'darkness': tensor(0.0006),\n",
              " 'day': tensor(0.0006),\n",
              " 'days': tensor(0.0006),\n",
              " 'dead': tensor(0.0007),\n",
              " 'dean': tensor(0.0005),\n",
              " 'dear': tensor(0.0006),\n",
              " 'death': tensor(0.0008),\n",
              " 'decided': tensor(0.0006),\n",
              " 'deep': tensor(0.0007),\n",
              " 'delighted': tensor(0.0006),\n",
              " 'desk': tensor(0.0008),\n",
              " 'desperate': tensor(0.0008),\n",
              " 'diagon': tensor(0.0007),\n",
              " 'did': tensor(0.0006),\n",
              " 'didnt': tensor(0.0006),\n",
              " 'die': tensor(0.0006),\n",
              " 'died': tensor(0.0005),\n",
              " 'difference': tensor(0.0007),\n",
              " 'different': tensor(0.0006),\n",
              " 'difficult': tensor(0.0006),\n",
              " 'dinner': tensor(0.0007),\n",
              " 'direction': tensor(0.0005),\n",
              " 'disappeared': tensor(0.0007),\n",
              " 'dived': tensor(0.0006),\n",
              " 'do': tensor(0.0007),\n",
              " 'does': tensor(0.0006),\n",
              " 'doesnt': tensor(0.0006),\n",
              " 'dog': tensor(0.0007),\n",
              " 'dogs': tensor(0.0007),\n",
              " 'doing': tensor(0.0006),\n",
              " 'don': tensor(0.0006),\n",
              " 'done': tensor(0.0006),\n",
              " 'dont': tensor(0.0007),\n",
              " 'door': tensor(0.0008),\n",
              " 'doors': tensor(0.0007),\n",
              " 'doorway': tensor(0.0006),\n",
              " 'dormitory': tensor(0.0007),\n",
              " 'down': tensor(0.0007),\n",
              " 'draco': tensor(0.0007),\n",
              " 'dragged': tensor(0.0006),\n",
              " 'dragon': tensor(0.0006),\n",
              " 'dragons': tensor(0.0006),\n",
              " 'dream': tensor(0.0007),\n",
              " 'dressed': tensor(0.0007),\n",
              " 'drew': tensor(0.0008),\n",
              " 'drills': tensor(0.0007),\n",
              " 'drink': tensor(0.0006),\n",
              " 'drive': tensor(0.0007),\n",
              " 'drop': tensor(0.0008),\n",
              " 'dropped': tensor(0.0006),\n",
              " 'drove': tensor(0.0006),\n",
              " 'dudley': tensor(0.0007),\n",
              " 'dudleys': tensor(0.0007),\n",
              " 'dumbledore': tensor(0.0008),\n",
              " 'dumbledores': tensor(0.0006),\n",
              " 'dungeons': tensor(0.0007),\n",
              " 'dunno': tensor(0.0007),\n",
              " 'during': tensor(0.0006),\n",
              " 'dursley': tensor(0.0007),\n",
              " 'dursleys': tensor(0.0006),\n",
              " 'each': tensor(0.0006),\n",
              " 'eagerly': tensor(0.0007),\n",
              " 'ear': tensor(0.0006),\n",
              " 'ears': tensor(0.0008),\n",
              " 'earth': tensor(0.0008),\n",
              " 'easily': tensor(0.0007),\n",
              " 'easy': tensor(0.0007),\n",
              " 'eat': tensor(0.0006),\n",
              " 'eating': tensor(0.0006),\n",
              " 'edge': tensor(0.0008),\n",
              " 'egg': tensor(0.0007),\n",
              " 'eh': tensor(0.0006),\n",
              " 'either': tensor(0.0007),\n",
              " 'eleven': tensor(0.0006),\n",
              " 'else': tensor(0.0006),\n",
              " 'em': tensor(0.0007),\n",
              " 'empty': tensor(0.0007),\n",
              " 'end': tensor(0.0007),\n",
              " 'enough': tensor(0.0006),\n",
              " 'entered': tensor(0.0006),\n",
              " 'entrance': tensor(0.0007),\n",
              " 'envelope': tensor(0.0006),\n",
              " 'er': tensor(0.0006),\n",
              " 'erised': tensor(0.0007),\n",
              " 'even': tensor(0.0006),\n",
              " 'evening': tensor(0.0006),\n",
              " 'ever': tensor(0.0006),\n",
              " 'every': tensor(0.0008),\n",
              " 'everybody': tensor(0.0007),\n",
              " 'everyone': tensor(0.0008),\n",
              " 'everything': tensor(0.0007),\n",
              " 'everywhere': tensor(0.0007),\n",
              " 'evil': tensor(0.0007),\n",
              " 'exactly': tensor(0.0007),\n",
              " 'exam': tensor(0.0006),\n",
              " 'exams': tensor(0.0008),\n",
              " 'excellent': tensor(0.0005),\n",
              " 'except': tensor(0.0008),\n",
              " 'excitedly': tensor(0.0006),\n",
              " 'excuse': tensor(0.0007),\n",
              " 'expect': tensor(0.0007),\n",
              " 'expected': tensor(0.0006),\n",
              " 'expelled': tensor(0.0006),\n",
              " 'explain': tensor(0.0007),\n",
              " 'extra': tensor(0.0007),\n",
              " 'eye': tensor(0.0008),\n",
              " 'eyes': tensor(0.0006),\n",
              " 'face': tensor(0.0006),\n",
              " 'faces': tensor(0.0008),\n",
              " 'facing': tensor(0.0006),\n",
              " 'fact': tensor(0.0008),\n",
              " 'faded': tensor(0.0006),\n",
              " 'fall': tensor(0.0007),\n",
              " 'fallen': tensor(0.0007),\n",
              " 'families': tensor(0.0008),\n",
              " 'family': tensor(0.0006),\n",
              " 'famous': tensor(0.0008),\n",
              " 'fang': tensor(0.0007),\n",
              " 'fangs': tensor(0.0006),\n",
              " 'far': tensor(0.0006),\n",
              " 'fast': tensor(0.0007),\n",
              " 'fat': tensor(0.0006),\n",
              " 'father': tensor(0.0007),\n",
              " 'fathers': tensor(0.0007),\n",
              " 'favorite': tensor(0.0008),\n",
              " 'fear': tensor(0.0005),\n",
              " 'feast': tensor(0.0005),\n",
              " 'feather': tensor(0.0007),\n",
              " 'feel': tensor(0.0007),\n",
              " 'feeling': tensor(0.0007),\n",
              " 'feet': tensor(0.0008),\n",
              " 'fell': tensor(0.0008),\n",
              " 'felt': tensor(0.0006),\n",
              " 'fer': tensor(0.0006),\n",
              " 'few': tensor(0.0007),\n",
              " 'field': tensor(0.0007),\n",
              " 'fifty': tensor(0.0008),\n",
              " 'fight': tensor(0.0007),\n",
              " 'fighting': tensor(0.0007),\n",
              " 'figure': tensor(0.0007),\n",
              " 'filch': tensor(0.0006),\n",
              " 'filled': tensor(0.0006),\n",
              " 'finally': tensor(0.0007),\n",
              " 'find': tensor(0.0007),\n",
              " 'finding': tensor(0.0007),\n",
              " 'fine': tensor(0.0006),\n",
              " 'fingers': tensor(0.0006),\n",
              " 'finished': tensor(0.0007),\n",
              " 'finnigan': tensor(0.0008),\n",
              " 'fire': tensor(0.0006),\n",
              " 'firenze': tensor(0.0006),\n",
              " 'firs': tensor(0.0007),\n",
              " 'first': tensor(0.0007),\n",
              " 'five': tensor(0.0007),\n",
              " 'fixed': tensor(0.0008),\n",
              " 'flamel': tensor(0.0007),\n",
              " 'flames': tensor(0.0007),\n",
              " 'flash': tensor(0.0008),\n",
              " 'flat': tensor(0.0007),\n",
              " 'flavor': tensor(0.0006),\n",
              " 'flew': tensor(0.0006),\n",
              " 'flint': tensor(0.0005),\n",
              " 'flitwick': tensor(0.0007),\n",
              " 'floating': tensor(0.0006),\n",
              " 'floor': tensor(0.0007),\n",
              " 'fluffy': tensor(0.0007),\n",
              " 'flute': tensor(0.0006),\n",
              " 'fly': tensor(0.0006),\n",
              " 'flying': tensor(0.0006),\n",
              " 'follow': tensor(0.0009),\n",
              " 'followed': tensor(0.0005),\n",
              " 'following': tensor(0.0006),\n",
              " 'food': tensor(0.0006),\n",
              " 'foot': tensor(0.0006),\n",
              " 'footsteps': tensor(0.0006),\n",
              " 'for': tensor(0.0007),\n",
              " 'forbidden': tensor(0.0006),\n",
              " 'force': tensor(0.0006),\n",
              " 'forehead': tensor(0.0007),\n",
              " 'forest': tensor(0.0006),\n",
              " 'forget': tensor(0.0007),\n",
              " 'forgotten': tensor(0.0006),\n",
              " 'forward': tensor(0.0006),\n",
              " 'found': tensor(0.0007),\n",
              " 'four': tensor(0.0007),\n",
              " 'fred': tensor(0.0007),\n",
              " 'free': tensor(0.0006),\n",
              " 'friend': tensor(0.0007),\n",
              " 'friends': tensor(0.0008),\n",
              " 'frog': tensor(0.0007),\n",
              " 'frogs': tensor(0.0007),\n",
              " 'from': tensor(0.0006),\n",
              " 'front': tensor(0.0007),\n",
              " 'full': tensor(0.0006),\n",
              " 'fun': tensor(0.0006),\n",
              " 'funny': tensor(0.0007),\n",
              " 'furious': tensor(0.0007),\n",
              " 'furiously': tensor(0.0006),\n",
              " 'game': tensor(0.0007),\n",
              " 'garden': tensor(0.0006),\n",
              " 'gasped': tensor(0.0006),\n",
              " 'gave': tensor(0.0006),\n",
              " 'gently': tensor(0.0009),\n",
              " 'george': tensor(0.0007),\n",
              " 'get': tensor(0.0006),\n",
              " 'gets': tensor(0.0007),\n",
              " 'gettin': tensor(0.0007),\n",
              " 'getting': tensor(0.0006),\n",
              " 'ghost': tensor(0.0007),\n",
              " 'ghosts': tensor(0.0007),\n",
              " 'giant': tensor(0.0008),\n",
              " 'girl': tensor(0.0006),\n",
              " 'girls': tensor(0.0006),\n",
              " 'give': tensor(0.0007),\n",
              " 'given': tensor(0.0007),\n",
              " 'giving': tensor(0.0006),\n",
              " 'glad': tensor(0.0007),\n",
              " 'glass': tensor(0.0007),\n",
              " 'glasses': tensor(0.0007),\n",
              " 'go': tensor(0.0006),\n",
              " 'goal': tensor(0.0006),\n",
              " 'goblin': tensor(0.0006),\n",
              " 'goblins': tensor(0.0007),\n",
              " 'goes': tensor(0.0007),\n",
              " 'going': tensor(0.0006),\n",
              " 'gold': tensor(0.0005),\n",
              " 'golden': tensor(0.0006),\n",
              " 'gone': tensor(0.0005),\n",
              " 'good': tensor(0.0007),\n",
              " 'goodbye': tensor(0.0007),\n",
              " 'got': tensor(0.0006),\n",
              " 'gotta': tensor(0.0007),\n",
              " 'gotten': tensor(0.0006),\n",
              " 'goyle': tensor(0.0008),\n",
              " 'grab': tensor(0.0008),\n",
              " 'grabbed': tensor(0.0006),\n",
              " 'granger': tensor(0.0007),\n",
              " 'grass': tensor(0.0007),\n",
              " 'gray': tensor(0.0006),\n",
              " 'great': tensor(0.0006),\n",
              " 'green': tensor(0.0006),\n",
              " 'grin': tensor(0.0006),\n",
              " 'gringotts': tensor(0.0005),\n",
              " 'griphook': tensor(0.0006),\n",
              " 'ground': tensor(0.0006),\n",
              " 'grounds': tensor(0.0006),\n",
              " 'growled': tensor(0.0007),\n",
              " 'grunted': tensor(0.0007),\n",
              " 'gryffindor': tensor(0.0007),\n",
              " 'gryffindors': tensor(0.0007),\n",
              " 'guard': tensor(0.0007),\n",
              " 'guarding': tensor(0.0006),\n",
              " 'h': tensor(0.0006),\n",
              " 'had': tensor(0.0007),\n",
              " 'hadnt': tensor(0.0007),\n",
              " 'hagrid': tensor(0.0006),\n",
              " 'hagrids': tensor(0.0007),\n",
              " 'hair': tensor(0.0006),\n",
              " 'half': tensor(0.0007),\n",
              " 'halfway': tensor(0.0005),\n",
              " 'hall': tensor(0.0007),\n",
              " 'halloween': tensor(0.0007),\n",
              " 'hand': tensor(0.0006),\n",
              " 'handed': tensor(0.0008),\n",
              " 'handle': tensor(0.0006),\n",
              " 'hands': tensor(0.0006),\n",
              " 'hang': tensor(0.0006),\n",
              " 'hanging': tensor(0.0008),\n",
              " 'happen': tensor(0.0006),\n",
              " 'happened': tensor(0.0008),\n",
              " 'happy': tensor(0.0005),\n",
              " 'hard': tensor(0.0006),\n",
              " 'harder': tensor(0.0007),\n",
              " 'hardly': tensor(0.0007),\n",
              " 'harry': tensor(0.0020),\n",
              " 'harrys': tensor(0.0006),\n",
              " 'has': tensor(0.0006),\n",
              " 'hasnt': tensor(0.0006),\n",
              " 'hat': tensor(0.0007),\n",
              " 'hate': tensor(0.0007),\n",
              " 'hated': tensor(0.0005),\n",
              " 'have': tensor(0.0006),\n",
              " 'havent': tensor(0.0006),\n",
              " 'having': tensor(0.0007),\n",
              " 'he': tensor(0.0006),\n",
              " 'head': tensor(0.0006),\n",
              " 'headless': tensor(0.0007),\n",
              " 'heads': tensor(0.0007),\n",
              " 'hear': tensor(0.0007),\n",
              " 'heard': tensor(0.0007),\n",
              " 'heart': tensor(0.0007),\n",
              " 'heavy': tensor(0.0007),\n",
              " 'hed': tensor(0.0007),\n",
              " 'hedwig': tensor(0.0007),\n",
              " 'held': tensor(0.0008),\n",
              " 'hell': tensor(0.0007),\n",
              " 'help': tensor(0.0005),\n",
              " 'her': tensor(0.0006),\n",
              " 'here': tensor(0.0006),\n",
              " 'hermione': tensor(0.0007),\n",
              " 'hermiones': tensor(0.0006),\n",
              " 'herself': tensor(0.0005),\n",
              " 'hes': tensor(0.0005),\n",
              " 'hidden': tensor(0.0006),\n",
              " 'hide': tensor(0.0006),\n",
              " 'hiding': tensor(0.0006),\n",
              " 'high': tensor(0.0007),\n",
              " 'higher': tensor(0.0007),\n",
              " 'him': tensor(0.0007),\n",
              " 'himself': tensor(0.0007),\n",
              " 'his': tensor(0.0006),\n",
              " 'hissed': tensor(0.0007),\n",
              " 'history': tensor(0.0006),\n",
              " 'hit': tensor(0.0006),\n",
              " 'hogwarts': tensor(0.0007),\n",
              " 'hold': tensor(0.0007),\n",
              " 'holding': tensor(0.0006),\n",
              " 'hole': tensor(0.0005),\n",
              " 'holidays': tensor(0.0007),\n",
              " 'home': tensor(0.0006),\n",
              " 'homework': tensor(0.0007),\n",
              " 'honestly': tensor(0.0005),\n",
              " 'hooch': tensor(0.0006),\n",
              " 'hoops': tensor(0.0006),\n",
              " 'hope': tensor(0.0006),\n",
              " 'hoping': tensor(0.0008),\n",
              " 'horrible': tensor(0.0008),\n",
              " 'horror': tensor(0.0007),\n",
              " 'hospital': tensor(0.0007),\n",
              " 'hot': tensor(0.0007),\n",
              " 'hour': tensor(0.0007),\n",
              " 'hours': tensor(0.0006),\n",
              " 'house': tensor(0.0008),\n",
              " 'houses': tensor(0.0007),\n",
              " 'how': tensor(0.0007),\n",
              " 'however': tensor(0.0006),\n",
              " 'howling': tensor(0.0006),\n",
              " 'hufflepuff': tensor(0.0007),\n",
              " 'huge': tensor(0.0007),\n",
              " 'human': tensor(0.0006),\n",
              " 'hundred': tensor(0.0006),\n",
              " 'hundreds': tensor(0.0007),\n",
              " 'hung': tensor(0.0008),\n",
              " 'hungry': tensor(0.0008),\n",
              " 'hurried': tensor(0.0008),\n",
              " 'hurry': tensor(0.0006),\n",
              " 'hurrying': tensor(0.0007),\n",
              " 'hurt': tensor(0.0006),\n",
              " 'hut': tensor(0.0007),\n",
              " 'i': tensor(0.0006),\n",
              " 'ice': tensor(0.0006),\n",
              " 'id': tensor(0.0007),\n",
              " 'idea': tensor(0.0007),\n",
              " 'if': tensor(0.0007),\n",
              " 'ignored': tensor(0.0006),\n",
              " 'ill': tensor(0.0007),\n",
              " 'im': tensor(0.0007),\n",
              " 'imagine': tensor(0.0006),\n",
              " 'important': tensor(0.0006),\n",
              " 'in': tensor(0.0007),\n",
              " 'inches': tensor(0.0009),\n",
              " 'indeed': tensor(0.0008),\n",
              " 'inside': tensor(0.0006),\n",
              " 'instead': tensor(0.0006),\n",
              " 'interested': tensor(0.0006),\n",
              " 'interesting': tensor(0.0006),\n",
              " 'into': tensor(0.0007),\n",
              " 'invisibility': tensor(0.0006),\n",
              " 'invisible': tensor(0.0006),\n",
              " 'is': tensor(0.0006),\n",
              " 'isnt': tensor(0.0007),\n",
              " 'it': tensor(0.0006),\n",
              " 'itll': tensor(0.0006),\n",
              " 'its': tensor(0.0005),\n",
              " 'itself': tensor(0.0007),\n",
              " 'ive': tensor(0.0006),\n",
              " 'jerked': tensor(0.0007),\n",
              " 'job': tensor(0.0007),\n",
              " 'join': tensor(0.0006),\n",
              " 'joined': tensor(0.0007),\n",
              " 'joke': tensor(0.0007),\n",
              " 'jordan': tensor(0.0007),\n",
              " 'jump': tensor(0.0007),\n",
              " 'jumped': tensor(0.0006),\n",
              " 'jus': tensor(0.0006),\n",
              " 'just': tensor(0.0005),\n",
              " 'keep': tensor(0.0008),\n",
              " 'keeper': tensor(0.0008),\n",
              " 'keeping': tensor(0.0007),\n",
              " 'kept': tensor(0.0007),\n",
              " 'key': tensor(0.0007),\n",
              " 'keys': tensor(0.0007),\n",
              " 'kicked': tensor(0.0007),\n",
              " 'kill': tensor(0.0007),\n",
              " 'killed': tensor(0.0006),\n",
              " 'kind': tensor(0.0007),\n",
              " 'kings': tensor(0.0006),\n",
              " 'kitchen': tensor(0.0005),\n",
              " 'knees': tensor(0.0007),\n",
              " 'knew': tensor(0.0006),\n",
              " 'knight': tensor(0.0006),\n",
              " 'knock': tensor(0.0006),\n",
              " 'knocked': tensor(0.0007),\n",
              " 'knocking': tensor(0.0007),\n",
              " 'know': tensor(0.0007),\n",
              " 'knowing': tensor(0.0008),\n",
              " 'known': tensor(0.0007),\n",
              " 'knows': tensor(0.0007),\n",
              " 'knuts': tensor(0.0007),\n",
              " 'lady': tensor(0.0006),\n",
              " 'lake': tensor(0.0006),\n",
              " 'lamp': tensor(0.0006),\n",
              " 'landed': tensor(0.0005),\n",
              " 'large': tensor(0.0006),\n",
              " 'last': tensor(0.0008),\n",
              " 'late': tensor(0.0007),\n",
              " 'later': tensor(0.0006),\n",
              " 'laugh': tensor(0.0007),\n",
              " 'laughed': tensor(0.0006),\n",
              " 'laughing': tensor(0.0007),\n",
              " 'laughter': tensor(0.0006),\n",
              " 'lay': tensor(0.0008),\n",
              " 'lead': tensor(0.0007),\n",
              " 'leading': tensor(0.0006),\n",
              " 'leaky': tensor(0.0007),\n",
              " 'leaned': tensor(0.0006),\n",
              " 'leapt': tensor(0.0007),\n",
              " 'learn': tensor(0.0006),\n",
              " 'learned': tensor(0.0007),\n",
              " 'least': tensor(0.0007),\n",
              " 'leave': tensor(0.0006),\n",
              " 'leaves': tensor(0.0006),\n",
              " 'leaving': tensor(0.0006),\n",
              " 'led': tensor(0.0007),\n",
              " 'lee': tensor(0.0006),\n",
              " 'left': tensor(0.0006),\n",
              " 'leg': tensor(0.0007),\n",
              " 'legs': tensor(0.0006),\n",
              " 'lemon': tensor(0.0009),\n",
              " 'less': tensor(0.0007),\n",
              " 'lesson': tensor(0.0006),\n",
              " 'lessons': tensor(0.0006),\n",
              " 'let': tensor(0.0005),\n",
              " 'lets': tensor(0.0007),\n",
              " 'letter': tensor(0.0006),\n",
              " 'letters': tensor(0.0006),\n",
              " 'library': tensor(0.0007),\n",
              " 'lie': tensor(0.0008),\n",
              " 'life': tensor(0.0006),\n",
              " 'light': tensor(0.0007),\n",
              " 'lightning': tensor(0.0005),\n",
              " 'like': tensor(0.0006),\n",
              " 'liked': tensor(0.0006),\n",
              " 'lily': tensor(0.0007),\n",
              " 'line': tensor(0.0006),\n",
              " 'lips': tensor(0.0008),\n",
              " 'list': tensor(0.0007),\n",
              " 'listen': tensor(0.0006),\n",
              " 'listening': tensor(0.0008),\n",
              " 'lit': tensor(0.0007),\n",
              " 'little': tensor(0.0007),\n",
              " 'live': tensor(0.0008),\n",
              " 'lived': tensor(0.0008),\n",
              " 'living': tensor(0.0006),\n",
              " 'loads': tensor(0.0006),\n",
              " 'lock': tensor(0.0007),\n",
              " 'locked': tensor(0.0006),\n",
              " 'london': tensor(0.0007),\n",
              " 'long': tensor(0.0006),\n",
              " 'longbottom': tensor(0.0006),\n",
              " 'look': tensor(0.0006),\n",
              " 'looked': tensor(0.0007),\n",
              " 'looking': tensor(0.0008),\n",
              " 'looks': tensor(0.0006),\n",
              " 'lose': tensor(0.0008),\n",
              " 'losing': tensor(0.0008),\n",
              " 'lost': tensor(0.0005),\n",
              " 'lot': tensor(0.0006),\n",
              " 'lots': tensor(0.0007),\n",
              " 'loud': tensor(0.0007),\n",
              " 'loudly': tensor(0.0007),\n",
              " 'low': tensor(0.0008),\n",
              " 'luck': tensor(0.0007),\n",
              " 'lucky': tensor(0.0007),\n",
              " 'lumpy': tensor(0.0006),\n",
              " 'lurking': tensor(0.0006),\n",
              " 'lying': tensor(0.0006),\n",
              " 'mad': tensor(0.0006),\n",
              " 'madam': tensor(0.0007),\n",
              " 'made': tensor(0.0006),\n",
              " 'magic': tensor(0.0006),\n",
              " 'magical': tensor(0.0006),\n",
              " 'mail': tensor(0.0006),\n",
              " 'make': tensor(0.0006),\n",
              " 'making': tensor(0.0006),\n",
              " 'malfoy': tensor(0.0008),\n",
              " 'malfoys': tensor(0.0006),\n",
              " 'man': tensor(0.0006),\n",
              " 'managed': tensor(0.0007),\n",
              " 'many': tensor(0.0006),\n",
              " 'marble': tensor(0.0007),\n",
              " 'marched': tensor(0.0007),\n",
              " 'match': tensor(0.0006),\n",
              " 'matter': tensor(0.0005),\n",
              " 'may': tensor(0.0007),\n",
              " 'maybe': tensor(0.0006),\n",
              " 'mcgonagall': tensor(0.0006),\n",
              " 'mcgonagalls': tensor(0.0007),\n",
              " 'me': tensor(0.0007),\n",
              " 'mean': tensor(0.0007),\n",
              " 'means': tensor(0.0008),\n",
              " 'meant': tensor(0.0005),\n",
              " 'meet': tensor(0.0007),\n",
              " 'mention': tensor(0.0008),\n",
              " 'met': tensor(0.0006),\n",
              " 'midair': tensor(0.0006),\n",
              " 'middle': tensor(0.0006),\n",
              " 'midnight': tensor(0.0007),\n",
              " 'might': tensor(0.0006),\n",
              " 'mind': tensor(0.0006),\n",
              " 'ministry': tensor(0.0006),\n",
              " 'minute': tensor(0.0008),\n",
              " 'minutes': tensor(0.0008),\n",
              " 'mirror': tensor(0.0007),\n",
              " 'miss': tensor(0.0006),\n",
              " 'mistake': tensor(0.0007),\n",
              " 'moaned': tensor(0.0006),\n",
              " 'mom': tensor(0.0007),\n",
              " 'moment': tensor(0.0007),\n",
              " 'money': tensor(0.0007),\n",
              " 'moonlight': tensor(0.0007),\n",
              " 'more': tensor(0.0007),\n",
              " 'morning': tensor(0.0006),\n",
              " 'most': tensor(0.0006),\n",
              " 'mother': tensor(0.0006),\n",
              " 'mothers': tensor(0.0007),\n",
              " 'motorcycle': tensor(0.0006),\n",
              " 'mountain': tensor(0.0007),\n",
              " 'mouth': tensor(0.0007),\n",
              " 'move': tensor(0.0007),\n",
              " 'moved': tensor(0.0007),\n",
              " 'moving': tensor(0.0007),\n",
              " 'mr': tensor(0.0006),\n",
              " 'mrs': tensor(0.0007),\n",
              " 'much': tensor(0.0007),\n",
              " 'muggle': tensor(0.0007),\n",
              " 'muggles': tensor(0.0008),\n",
              " 'murmured': tensor(0.0008),\n",
              " 'must': tensor(0.0006),\n",
              " 'mustache': tensor(0.0006),\n",
              " 'mustve': tensor(0.0007),\n",
              " 'muttered': tensor(0.0008),\n",
              " 'muttering': tensor(0.0006),\n",
              " 'my': tensor(0.0006),\n",
              " 'myself': tensor(0.0008),\n",
              " 'mysterious': tensor(0.0007),\n",
              " 'nah': tensor(0.0006),\n",
              " 'name': tensor(0.0006),\n",
              " 'names': tensor(0.0006),\n",
              " 'narrow': tensor(0.0006),\n",
              " 'nasty': tensor(0.0006),\n",
              " 'near': tensor(0.0006),\n",
              " 'nearer': tensor(0.0007),\n",
              " 'nearest': tensor(0.0008),\n",
              " 'nearly': tensor(0.0007),\n",
              " 'neck': tensor(0.0008),\n",
              " 'need': tensor(0.0006),\n",
              " 'needed': tensor(0.0006),\n",
              " 'needs': tensor(0.0008),\n",
              " 'neither': tensor(0.0007),\n",
              " 'nervous': tensor(0.0006),\n",
              " 'nervously': tensor(0.0008),\n",
              " 'never': tensor(0.0007),\n",
              " 'neville': tensor(0.0007),\n",
              " 'nevilles': tensor(0.0007),\n",
              " 'new': tensor(0.0006),\n",
              " 'news': tensor(0.0008),\n",
              " 'newspaper': tensor(0.0006),\n",
              " 'next': tensor(0.0006),\n",
              " 'nice': tensor(0.0006),\n",
              " 'nicolas': tensor(0.0008),\n",
              " 'night': tensor(0.0005),\n",
              " 'nimbus': tensor(0.0007),\n",
              " 'nine': tensor(0.0006),\n",
              " 'no': tensor(0.0006),\n",
              " 'nobody': tensor(0.0006),\n",
              " 'nodded': tensor(0.0007),\n",
              " 'noise': tensor(0.0007),\n",
              " 'none': tensor(0.0006),\n",
              " 'nor': tensor(0.0007),\n",
              " 'norbert': tensor(0.0006),\n",
              " 'normal': tensor(0.0006),\n",
              " 'norris': tensor(0.0008),\n",
              " 'nose': tensor(0.0006),\n",
              " 'noses': tensor(0.0007),\n",
              " 'nostrils': tensor(0.0007),\n",
              " 'not': tensor(0.0006),\n",
              " 'note': tensor(0.0007),\n",
              " 'notes': tensor(0.0007),\n",
              " 'nothin': tensor(0.0006),\n",
              " 'nothing': tensor(0.0007),\n",
              " 'notice': tensor(0.0007),\n",
              " 'noticed': tensor(0.0006),\n",
              " 'noticing': tensor(0.0008),\n",
              " 'now': tensor(0.0006),\n",
              " 'number': tensor(0.0006),\n",
              " 'o': tensor(0.0008),\n",
              " 'obviously': tensor(0.0006),\n",
              " 'oclock': tensor(0.0007),\n",
              " 'odd': tensor(0.0007),\n",
              " 'of': tensor(0.0006),\n",
              " 'off': tensor(0.0007),\n",
              " 'often': tensor(0.0006),\n",
              " 'oh': tensor(0.0007),\n",
              " 'old': tensor(0.0006),\n",
              " 'older': tensor(0.0009),\n",
              " 'ollivander': tensor(0.0008),\n",
              " 'on': tensor(0.0007),\n",
              " 'once': tensor(0.0007),\n",
              " 'one': tensor(0.0006),\n",
              " 'ones': tensor(0.0007),\n",
              " 'only': tensor(0.0007),\n",
              " 'onto': tensor(0.0007),\n",
              " 'open': tensor(0.0007),\n",
              " 'opened': tensor(0.0007),\n",
              " 'opposite': tensor(0.0005),\n",
              " 'or': tensor(0.0006),\n",
              " 'ordinary': tensor(0.0006),\n",
              " 'other': tensor(0.0006),\n",
              " 'others': tensor(0.0007),\n",
              " 'our': tensor(0.0006),\n",
              " 'out': tensor(0.0007),\n",
              " 'outside': tensor(0.0007),\n",
              " 'outta': tensor(0.0007),\n",
              " 'over': tensor(0.0007),\n",
              " 'overhead': tensor(0.0006),\n",
              " 'owl': tensor(0.0006),\n",
              " 'owls': tensor(0.0006),\n",
              " 'own': tensor(0.0007),\n",
              " 'pack': tensor(0.0006),\n",
              " 'package': tensor(0.0007),\n",
              " 'packed': tensor(0.0007),\n",
              " 'pain': tensor(0.0007),\n",
              " 'pair': tensor(0.0007),\n",
              " 'pale': tensor(0.0006),\n",
              " 'panted': tensor(0.0007),\n",
              " 'paper': tensor(0.0007),\n",
              " 'parcel': tensor(0.0006),\n",
              " 'parchment': tensor(0.0007),\n",
              " 'parents': tensor(0.0006),\n",
              " 'particularly': tensor(0.0006),\n",
              " 'passageway': tensor(0.0007),\n",
              " 'passed': tensor(0.0006),\n",
              " 'passing': tensor(0.0007),\n",
              " 'past': tensor(0.0007),\n",
              " 'path': tensor(0.0008),\n",
              " 'patil': tensor(0.0006),\n",
              " 'peered': tensor(0.0007),\n",
              " 'peering': tensor(0.0007),\n",
              " 'peeves': tensor(0.0007),\n",
              " 'people': tensor(0.0008),\n",
              " 'percy': tensor(0.0007),\n",
              " 'perfect': tensor(0.0007),\n",
              " 'perhaps': tensor(0.0005),\n",
              " 'person': tensor(0.0006),\n",
              " 'petunia': tensor(0.0005),\n",
              " 'picked': tensor(0.0008),\n",
              " 'piece': tensor(0.0006),\n",
              " 'pieces': tensor(0.0007),\n",
              " 'piers': tensor(0.0007),\n",
              " 'pig': tensor(0.0007),\n",
              " 'pile': tensor(0.0006),\n",
              " 'piled': tensor(0.0007),\n",
              " 'pink': tensor(0.0008),\n",
              " 'pinned': tensor(0.0006),\n",
              " 'place': tensor(0.0008),\n",
              " 'planets': tensor(0.0006),\n",
              " 'plant': tensor(0.0007),\n",
              " 'plates': tensor(0.0007),\n",
              " 'platform': tensor(0.0007),\n",
              " 'platforms': tensor(0.0007),\n",
              " 'play': tensor(0.0007),\n",
              " 'players': tensor(0.0007),\n",
              " 'playing': tensor(0.0008),\n",
              " 'please': tensor(0.0006),\n",
              " 'pleased': tensor(0.0006),\n",
              " 'pocket': tensor(0.0006),\n",
              " 'pockets': tensor(0.0006),\n",
              " 'point': tensor(0.0008),\n",
              " 'pointed': tensor(0.0007),\n",
              " 'pointing': tensor(0.0006),\n",
              " 'points': tensor(0.0006),\n",
              " 'pomfrey': tensor(0.0007),\n",
              " 'poor': tensor(0.0006),\n",
              " 'portrait': tensor(0.0007),\n",
              " 'possession': tensor(0.0006),\n",
              " 'possible': tensor(0.0007),\n",
              " 'posts': tensor(0.0007),\n",
              " 'potion': tensor(0.0007),\n",
              " 'potions': tensor(0.0006),\n",
              " 'potter': tensor(0.0006),\n",
              " 'potters': tensor(0.0007),\n",
              " 'power': tensor(0.0008),\n",
              " 'powerful': tensor(0.0007),\n",
              " 'practice': tensor(0.0006),\n",
              " 'prefect': tensor(0.0008),\n",
              " 'prefects': tensor(0.0006),\n",
              " 'presents': tensor(0.0007),\n",
              " 'pressed': tensor(0.0005),\n",
              " 'privet': tensor(0.0009),\n",
              " 'probably': tensor(0.0007),\n",
              " 'professor': tensor(0.0007),\n",
              " 'properly': tensor(0.0007),\n",
              " 'proud': tensor(0.0007),\n",
              " 'pull': tensor(0.0007),\n",
              " 'pulled': tensor(0.0007),\n",
              " 'pulling': tensor(0.0007),\n",
              " 'purple': tensor(0.0007),\n",
              " 'pushed': tensor(0.0008),\n",
              " 'put': tensor(0.0006),\n",
              " 'quaffle': tensor(0.0008),\n",
              " 'question': tensor(0.0006),\n",
              " 'questions': tensor(0.0008),\n",
              " 'quick': tensor(0.0006),\n",
              " 'quickly': tensor(0.0008),\n",
              " 'quidditch': tensor(0.0008),\n",
              " 'quiet': tensor(0.0008),\n",
              " 'quietly': tensor(0.0006),\n",
              " 'quills': tensor(0.0007),\n",
              " 'quirrell': tensor(0.0006),\n",
              " 'quirrells': tensor(0.0007),\n",
              " 'quite': tensor(0.0006),\n",
              " 'racing': tensor(0.0005),\n",
              " 'raised': tensor(0.0007),\n",
              " 'ran': tensor(0.0006),\n",
              " 'rang': tensor(0.0007),\n",
              " 'rat': tensor(0.0006),\n",
              " 'rather': tensor(0.0006),\n",
              " 'ravenclaw': tensor(0.0006),\n",
              " 'reached': tensor(0.0006),\n",
              " 'read': tensor(0.0007),\n",
              " 'ready': tensor(0.0006),\n",
              " 'real': tensor(0.0006),\n",
              " 'realize': tensor(0.0007),\n",
              " 'realized': tensor(0.0006),\n",
              " 'really': tensor(0.0005),\n",
              " 'reason': tensor(0.0008),\n",
              " ...}"
            ]
          },
          "metadata": {},
          "execution_count": 27
        }
      ],
      "source": [
        "from math import exp\n",
        "word_exp_dict = {}\n",
        "for word, dot_value in word_dot_dict.items():\n",
        "  exp_value = torch.exp(dot_value)\n",
        "  word_exp_dict[word] = exp_value\n",
        "\n",
        "sum_exp = sum([value for value in word_exp_dict.values()])\n",
        "word_prob_dict = {}\n",
        "for word, exp_value in word_exp_dict.items():\n",
        "  word_prob_dict[word] = exp_value / sum_exp\n",
        "\n",
        "word_prob_dict"
      ]
    },
    {
      "cell_type": "code",
      "execution_count": null,
      "metadata": {
        "id": "SpXH7RxSbwUO"
      },
      "outputs": [],
      "source": [
        "# Get P(potter|harry)\n",
        "word_prob_dict['ha']"
      ]
    },
    {
      "cell_type": "markdown",
      "metadata": {
        "id": "kKxz9SJhSuhy"
      },
      "source": [
        "## 13. Efficient Matrix Operations\n",
        "![img](https://mkang32.github.io/images/python/khan_academy_matrix_product.png)\n",
        "\n",
        "Instead of calculating dot products one by one, we can use matrix multiplication for efficiency:\n"
      ]
    },
    {
      "cell_type": "code",
      "source": [
        "harry, potter\n",
        "center_word_mat = torch.stack([harry, potter])\n",
        "center_word_mat.shape"
      ],
      "metadata": {
        "colab": {
          "base_uri": "https://localhost:8080/"
        },
        "id": "LewMQbHtBolH",
        "outputId": "314a3504-d96b-44f7-b2bc-0d1539cf5d03"
      },
      "execution_count": 41,
      "outputs": [
        {
          "output_type": "execute_result",
          "data": {
            "text/plain": [
              "torch.Size([2, 100])"
            ]
          },
          "metadata": {},
          "execution_count": 41
        }
      ]
    },
    {
      "cell_type": "code",
      "execution_count": 43,
      "metadata": {
        "id": "HCFajiDkb44W",
        "colab": {
          "base_uri": "https://localhost:8080/"
        },
        "outputId": "f3253b78-1696-429a-c5c9-2269f68a4637"
      },
      "outputs": [
        {
          "output_type": "execute_result",
          "data": {
            "text/plain": [
              "torch.Size([1506, 2])"
            ]
          },
          "metadata": {},
          "execution_count": 43
        }
      ],
      "source": [
        "# get dot product result for every word in the vocabulary\n",
        "harry.shape\n",
        "# first, make vector_of_harry into matrix format\n",
        "harry_mat = harry.unsqueeze(0)\n",
        "word_vectors.shape\n",
        "# do matrix multiplication\n",
        "dot_by_mat = torch.mm(center_word_mat, word_vectors.T)\n",
        "dot_by_mat = dot_by_mat.T\n",
        "dot_by_mat.shape"
      ]
    },
    {
      "cell_type": "markdown",
      "metadata": {
        "id": "03qx3olEkzqe"
      },
      "source": [
        "Let's verify that our matrix multiplication gives the same result as individual dot products:"
      ]
    },
    {
      "cell_type": "code",
      "execution_count": 35,
      "metadata": {
        "id": "wGpJCtJQkzqe",
        "colab": {
          "base_uri": "https://localhost:8080/"
        },
        "outputId": "f1d755f8-ddc7-4b64-ba1a-49cdc72410ce"
      },
      "outputs": [
        {
          "output_type": "execute_result",
          "data": {
            "text/plain": [
              "(tensor([-0.0597]), tensor(-0.0597))"
            ]
          },
          "metadata": {},
          "execution_count": 35
        }
      ],
      "source": [
        "dot_by_mat[word2idx['potter']], word_dot_dict['potter']"
      ]
    },
    {
      "cell_type": "markdown",
      "metadata": {
        "id": "x2tW_Q6kkzqe"
      },
      "source": [
        "Now let's implement the complete softmax calculation using matrix operations:\n"
      ]
    },
    {
      "cell_type": "code",
      "execution_count": 44,
      "metadata": {
        "id": "5USdps5CfKzq",
        "colab": {
          "base_uri": "https://localhost:8080/"
        },
        "outputId": "61e4ab65-e4b0-4046-c8cf-2a39a6b1138a"
      },
      "outputs": [
        {
          "output_type": "execute_result",
          "data": {
            "text/plain": [
              "torch.Size([1506, 2])"
            ]
          },
          "metadata": {},
          "execution_count": 44
        }
      ],
      "source": [
        "# convert dot product result into exponential\n",
        "mat_exp = torch.exp(dot_by_mat)\n",
        "mat_exp.shape"
      ]
    },
    {
      "cell_type": "code",
      "execution_count": 45,
      "metadata": {
        "id": "WNq0gqz0fntB",
        "colab": {
          "base_uri": "https://localhost:8080/"
        },
        "outputId": "1efb0df9-5fd9-42e2-df65-cd0b49f87b1a"
      },
      "outputs": [
        {
          "output_type": "execute_result",
          "data": {
            "text/plain": [
              "tensor([[2.0586],\n",
              "        [2.2399],\n",
              "        [2.0874],\n",
              "        ...,\n",
              "        [2.1022],\n",
              "        [2.2362],\n",
              "        [2.0015]])"
            ]
          },
          "metadata": {},
          "execution_count": 45
        }
      ],
      "source": [
        "# get the sum of exponential\n",
        "sum(mat_exp)\n",
        "sum_of_mat_exp = torch.sum(mat_exp, dim=1, keepdim=True)\n",
        "sum_of_mat_exp"
      ]
    },
    {
      "cell_type": "code",
      "execution_count": 47,
      "metadata": {
        "id": "ruV4_myDgLvG",
        "colab": {
          "base_uri": "https://localhost:8080/"
        },
        "outputId": "ceaef716-b709-499c-b5ba-328b8d589c43"
      },
      "outputs": [
        {
          "output_type": "execute_result",
          "data": {
            "text/plain": [
              "tensor([1.0000, 1.0000])"
            ]
          },
          "metadata": {},
          "execution_count": 47
        }
      ],
      "source": [
        "# divide exponential value with sum\n",
        "prob = mat_exp / sum(mat_exp)\n",
        "prob.sum(dim=0)"
      ]
    },
    {
      "cell_type": "markdown",
      "metadata": {
        "id": "QJ228pigkzqf"
      },
      "source": [
        "## 14. Creating a Probability Function\n",
        "\n",
        "Let's create a function to calculate probabilities efficiently:"
      ]
    },
    {
      "cell_type": "code",
      "execution_count": 51,
      "metadata": {
        "id": "EF4gutuEgntj",
        "colab": {
          "base_uri": "https://localhost:8080/"
        },
        "outputId": "fd7ad2c3-2beb-47e9-e69a-1b6ccde5d2d6"
      },
      "outputs": [
        {
          "output_type": "execute_result",
          "data": {
            "text/plain": [
              "tensor([[0.0007, 0.0006],\n",
              "        [0.0007, 0.0008],\n",
              "        [0.0008, 0.0006],\n",
              "        ...,\n",
              "        [0.0007, 0.0007],\n",
              "        [0.0007, 0.0007],\n",
              "        [0.0007, 0.0006]])"
            ]
          },
          "metadata": {},
          "execution_count": 51
        }
      ],
      "source": [
        "def get_probs(query_vectors, entire_vectors):\n",
        "  dot_by_mat = torch.mm(query_vectors, entire_vectors.T)\n",
        "  dot_by_mat = dot_by_mat.T\n",
        "  mat_exp = torch.exp(dot_by_mat)\n",
        "  sum_of_mat_exp = torch.sum(mat_exp, dim=0)\n",
        "  prob = mat_exp / sum_of_mat_exp\n",
        "  return prob\n",
        "\n",
        "get_probs(center_word_mat, word_vectors)"
      ]
    },
    {
      "cell_type": "markdown",
      "metadata": {
        "id": "HyVcT_6wkzqf"
      },
      "source": [
        "## 15. Preparing for Training\n",
        "\n",
        "Before training our Word2Vec model, we need to split our dataset into training and testing sets:"
      ]
    },
    {
      "cell_type": "code",
      "execution_count": 57,
      "metadata": {
        "id": "3gjCSY3DoaFg",
        "colab": {
          "base_uri": "https://localhost:8080/"
        },
        "outputId": "21b9702e-8bb9-48c7-ca8d-68da4ea189e7"
      },
      "outputs": [
        {
          "output_type": "stream",
          "name": "stdout",
          "text": [
            "226846\n"
          ]
        }
      ],
      "source": [
        "# Now we can train the word2vec\n",
        "import random\n",
        "\n",
        "# Let's think about training pairs\n",
        "index_pairs # this is our dataset. It's list of list of two integer\n",
        "print(len(index_pairs))\n",
        "# two integer means a pair of neighboring words\n",
        "\n",
        "# Training set and Test set\n",
        "# To validate that our model can solve 'unseen' problems\n",
        "# So we have to split the dataset before training.\n",
        "\n",
        "# To randomly split the dataset, we will first shuffle the dataset\n",
        "\n",
        "random.shuffle(index_pairs) # this will shuffle the list items"
      ]
    },
    {
      "cell_type": "code",
      "source": [
        "train_set = index_pairs[:200000]\n",
        "test_set = index_pairs[200000:]"
      ],
      "metadata": {
        "id": "NPG3PcRDEj8k"
      },
      "execution_count": 58,
      "outputs": []
    },
    {
      "cell_type": "code",
      "execution_count": 59,
      "metadata": {
        "id": "TC0QF3NZp9Rh",
        "colab": {
          "base_uri": "https://localhost:8080/"
        },
        "outputId": "34bfd8b9-ce86-444c-b498-7c99f73672c0"
      },
      "outputs": [
        {
          "output_type": "execute_result",
          "data": {
            "text/plain": [
              "(200000, 26846)"
            ]
          },
          "metadata": {},
          "execution_count": 59
        }
      ],
      "source": [
        "len(train_set), len(test_set)"
      ]
    },
    {
      "cell_type": "markdown",
      "metadata": {
        "id": "P7m_ZB-Vkzqf"
      },
      "source": [
        "## 16. Training the Word2Vec Model\n",
        "\n",
        "Now we'll train our Word2Vec model using batched gradient descent:"
      ]
    },
    {
      "cell_type": "code",
      "execution_count": 60,
      "metadata": {
        "id": "JpUM3aiiqG8e",
        "colab": {
          "base_uri": "https://localhost:8080/"
        },
        "outputId": "192cb009-369c-4087-8dd0-0b79b1d5f107"
      },
      "outputs": [
        {
          "output_type": "execute_result",
          "data": {
            "text/plain": [
              "tensor([[0.0006, 0.0006, 0.0007,  ..., 0.0007, 0.0006, 0.0008],\n",
              "        [0.0006, 0.0007, 0.0007,  ..., 0.0007, 0.0007, 0.0008],\n",
              "        [0.0006, 0.0006, 0.0007,  ..., 0.0007, 0.0007, 0.0006],\n",
              "        ...,\n",
              "        [0.0007, 0.0005, 0.0006,  ..., 0.0007, 0.0006, 0.0006],\n",
              "        [0.0008, 0.0007, 0.0007,  ..., 0.0008, 0.0006, 0.0006],\n",
              "        [0.0007, 0.0007, 0.0007,  ..., 0.0007, 0.0008, 0.0007]])"
            ]
          },
          "metadata": {},
          "execution_count": 60
        }
      ],
      "source": [
        "# making batch from train_set\n",
        "# Batch is a set of training samples, that are calculated together\n",
        "# And also we update the model after one single batch\n",
        "\n",
        "batch = train_set[:20]\n",
        "batch\n",
        "center_words = [x[0] for x in batch]\n",
        "context_words = [x[1] for x in batch]\n",
        "\n",
        "center_words_vectors = word_vectors[center_words]\n",
        "prob = get_probs(center_words_vectors, word_vectors)\n",
        "prob"
      ]
    },
    {
      "cell_type": "markdown",
      "metadata": {
        "id": "fuUAzGoukzqf"
      },
      "source": [
        "## 17. Evaluating the Training\n",
        "\n",
        "Let's visualize the training loss to see if our model is learning:"
      ]
    },
    {
      "cell_type": "code",
      "execution_count": null,
      "metadata": {
        "id": "FJHSV8zbyLYu"
      },
      "outputs": [],
      "source": [
        "import matplotlib.pyplot as plt\n",
        "plt.plot(loss_record)"
      ]
    },
    {
      "cell_type": "markdown",
      "metadata": {
        "id": "7agT-5NPkzqf"
      },
      "source": [
        "## 18. Testing the Model\n",
        "\n",
        "Now we'll test our model on the test set:"
      ]
    },
    {
      "cell_type": "code",
      "execution_count": null,
      "metadata": {
        "id": "RDP9aR48zdJu"
      },
      "outputs": [],
      "source": []
    },
    {
      "cell_type": "markdown",
      "metadata": {
        "id": "F2ZOErd0kzqf"
      },
      "source": [
        "## 19. Exploring Learned Word Relationships\n",
        "\n",
        "Let's explore what our model has learned by finding the words most closely related to \"harry\":"
      ]
    },
    {
      "cell_type": "code",
      "execution_count": null,
      "metadata": {
        "id": "0YaCDNq_0hFc"
      },
      "outputs": [],
      "source": [
        "# P(potter|harry)?\n"
      ]
    }
  ],
  "metadata": {
    "colab": {
      "provenance": [],
      "include_colab_link": true
    },
    "kernelspec": {
      "display_name": "Python 3",
      "name": "python3"
    },
    "language_info": {
      "codemirror_mode": {
        "name": "ipython",
        "version": 3
      },
      "file_extension": ".py",
      "mimetype": "text/x-python",
      "name": "python",
      "nbconvert_exporter": "python",
      "pygments_lexer": "ipython3",
      "version": "3.8.10"
    }
  },
  "nbformat": 4,
  "nbformat_minor": 0
}